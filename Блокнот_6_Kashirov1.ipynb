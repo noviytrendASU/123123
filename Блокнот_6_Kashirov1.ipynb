{
  "cells": [
    {
      "cell_type": "markdown",
      "metadata": {
        "id": "view-in-github",
        "colab_type": "text"
      },
      "source": [
        "<a href=\"https://colab.research.google.com/github/noviytrendASU/123123/blob/main/%D0%91%D0%BB%D0%BE%D0%BA%D0%BD%D0%BE%D1%82_6_Kashirov1.ipynb\" target=\"_parent\"><img src=\"https://colab.research.google.com/assets/colab-badge.svg\" alt=\"Open In Colab\"/></a>"
      ]
    },
    {
      "cell_type": "markdown",
      "metadata": {
        "id": "1UKcp8gFEwSf"
      },
      "source": [
        "# Изменение типов данных\n",
        "\n",
        "Данные бывают разных типов, не всегда подходящих для анализа. В этой теме вы узнаете, как изменять типы данных для удобства расчётов.\n",
        "\n",
        "Задачи сегодняшнего занятия:\n",
        "\n",
        "•\tПереводить строку в форматы даты и времени;\n",
        "\n",
        "•\tПревращать строковые значения в числовые методами **to_numeric()** и **astype()**;\n",
        "\n",
        "•\tСоединять таблицы методом **merge()**;\n",
        "\n",
        "•\tСоздавать сводные таблицы методом **pivot_table()**.\n"
      ]
    },
    {
      "cell_type": "markdown",
      "metadata": {
        "id": "BvGrnX7vEwSi"
      },
      "source": [
        "Задача: SEO-оптимизаторы поставили задачу \"Определить, какие товарные категории и подкатегории на сайте представлены в поисковиках хуже всего\". В ответ на просьбу направить таблицы с источниками трафика, товарными категориями и подкатегориями, разработчики прислали экселевский файл.\n",
        "\n",
        "Ранее мы встречались только с форматом **.csv** и методом **read_csv()**. Для прочтения файлов **Excel** есть особый метод **read_excel()**. Он похож на **read_csv()**, но в отличие от него, **read_excel()** нужно два аргумента: строка с именем самого файла или пути к нему, и имя листа **sheet_name**.\n",
        "\n",
        "**import pandas as pd**\n",
        "\n",
        "**df = pd.read_excel('/datasets/Экселевский файл.xlsx', sheet_name='Самый первый лист')**\n",
        "\n",
        "Можно вызвать **read_excel()** и без второго аргумента. Тогда будет взят первый по счёту лист.\n",
        "Вооружившись методом **read_excel()**, прочитаем файл с таблицами от разработчиков.\n"
      ]
    },
    {
      "cell_type": "markdown",
      "metadata": {
        "id": "QJiqqDwHEwSj"
      },
      "source": [
        "## Задача\n",
        "\n",
        "1. Методом **read_excel()** прочтите первый лист **'traffic_data'**, сохраните его в переменной **data**. Выведите на экран первые 5 строк листа методом **head()**. Прочитайте названия столбцов:\n",
        "\n",
        "•\t**subcategory_id** — идентификатор товарной подкатегории, или её зашифрованное название;\n",
        "\n",
        "•\t**source** — источник трафика. В нашем случае источников два: прямой заход на сайт в таблице обозначен как direct, переход из поисковых систем — **organic**;\n",
        "\n",
        "•\t**visits** — количество визитов на страницу подкатегории за отчётный период.\n",
        "\n"
      ]
    },
    {
      "cell_type": "code",
      "execution_count": 56,
      "metadata": {
        "id": "sR5ESD6BEwSk",
        "colab": {
          "base_uri": "https://localhost:8080/"
        },
        "outputId": "2ab1017b-0d65-4400-f4a9-b15d56520b00"
      },
      "outputs": [
        {
          "output_type": "stream",
          "name": "stdout",
          "text": [
            "  subcategory_id  source         visits\n",
            "0     cf2e61c7af  direct  501165.668858\n",
            "1     0cd903d1cc  direct  126342.359505\n",
            "2     ef35bc88a7  direct   95626.321402\n",
            "3     6ff9f4014c  direct   75680.653002\n",
            "4     72bc238e4d  direct   64435.934651\n",
            "Названия столбцов: Index(['subcategory_id', 'source', 'visits'], dtype='object')\n"
          ]
        }
      ],
      "source": [
        "import pandas as pd\n",
        "\n",
        "# Чтение первого листа 'traffic_data' из Excel файла\n",
        "file_path = '/content/seo_data.xlsx'\n",
        "data = pd.read_excel(file_path, sheet_name='traffic_data')\n",
        "\n",
        "# Вывод первых 5 строк таблицы\n",
        "print(data.head())\n",
        "\n",
        "# Вывод названий столбцов\n",
        "print(\"Названия столбцов:\", data.columns)\n",
        "\n"
      ]
    },
    {
      "cell_type": "markdown",
      "metadata": {
        "id": "XPK1kWHoEwSl"
      },
      "source": [
        "Пока в первых 5 строчках таблицы виден только один источник трафика direct. Проверьте, какие источники есть в столбце source. Выведите на экран список уникальных значений этого столбца.\n"
      ]
    },
    {
      "cell_type": "code",
      "execution_count": 57,
      "metadata": {
        "id": "QRPSdvC7EwSl",
        "colab": {
          "base_uri": "https://localhost:8080/"
        },
        "outputId": "e61f6b96-eb7b-4fa5-a151-1af6c53e718a"
      },
      "outputs": [
        {
          "output_type": "stream",
          "name": "stdout",
          "text": [
            "Уникальные источники трафика: ['direct' 'organic']\n"
          ]
        }
      ],
      "source": [
        "unique_sources = data['source'].unique()\n",
        "print(\"Уникальные источники трафика:\", unique_sources)"
      ]
    },
    {
      "cell_type": "markdown",
      "metadata": {
        "id": "VQ8bSDvREwSm"
      },
      "source": [
        "Методом **read_excel()** прочтите второй лист **'subcategory_ids'** и сохраните его в переменной **subcategory_dict**. Выведите на экран его первые 5 строк методом **head()**.\n",
        "Обратите внимание на названия столбцов: к знакомым нам идентификаторам подкатегорий **(subcategory_id)** добавились идентификаторы категорий **(category_id)** и названия подкатегорий **(subcategory_name)**.\n",
        "Всё это похоже на словарь, где идентификаторам подкатегорий из цифр и латинских букв соответствуют понятные нам названия. Поэтому датафрейм называется **subcategory_dict**.\n"
      ]
    },
    {
      "cell_type": "code",
      "execution_count": 58,
      "metadata": {
        "id": "6J7pC1NjEwSm",
        "colab": {
          "base_uri": "https://localhost:8080/"
        },
        "outputId": "7042eaf7-3790-4231-ec39-25d654770067"
      },
      "outputs": [
        {
          "output_type": "stream",
          "name": "stdout",
          "text": [
            "  subcategory_id                subcategory_name category_id\n",
            "0     cf2e61c7af              Мобильные телефоны  09f279a643\n",
            "1     0cd903d1cc                        Ноутбуки  3509869a61\n",
            "2     ef35bc88a7                      Телевизоры  09f279a643\n",
            "3     6ff9f4014c                        Планшеты  3509869a61\n",
            "4     72bc238e4d  Наушники и Bluetooth-гарнитуры  09f279a643\n",
            "Названия столбцов: Index(['subcategory_id', 'subcategory_name', 'category_id'], dtype='object')\n"
          ]
        }
      ],
      "source": [
        "import pandas as pd\n",
        "\n",
        "# Чтение второго листа 'subcategory_ids' из Excel файла\n",
        "file_path = '/content/seo_data.xlsx'\n",
        "subcategory_dict = pd.read_excel(file_path, sheet_name='subcategory_ids')\n",
        "\n",
        "# Вывод первых 5 строк датафрейма\n",
        "print(subcategory_dict.head())\n",
        "\n",
        "# Дополнительно можно вывести названия столбцов для ясности\n",
        "print(\"Названия столбцов:\", subcategory_dict.columns)\n"
      ]
    },
    {
      "cell_type": "markdown",
      "metadata": {
        "id": "DVhfLkpQEwSn"
      },
      "source": [
        "Наконец, методом **read_excel()** прочтём третий лист **category_ids** и сохраним его в переменной **category_dict**. Выведите на экран первые 5 строк листа методом **head()**."
      ]
    },
    {
      "cell_type": "code",
      "execution_count": 59,
      "metadata": {
        "id": "ivhayj-fEwSo",
        "colab": {
          "base_uri": "https://localhost:8080/"
        },
        "outputId": "3b169579-7350-4626-e4ec-a03a74a4b612"
      },
      "outputs": [
        {
          "output_type": "stream",
          "name": "stdout",
          "text": [
            "  category_id               category_name\n",
            "0  09f279a643                 Электроника\n",
            "1  3509869a61        Компьютерная техника\n",
            "2  65922fa39c                        Авто\n",
            "3  6074ad29ac  Одежда, обувь и аксессуары\n",
            "4  10a493e03b         Товары для здоровья\n",
            "Названия столбцов: Index(['category_id', 'category_name'], dtype='object')\n"
          ]
        }
      ],
      "source": [
        "import pandas as pd\n",
        "\n",
        "# Чтение третьего листа 'category_ids' из Excel файла\n",
        "file_path = '/content/seo_data.xlsx'\n",
        "category_dict = pd.read_excel(file_path, sheet_name='category_ids')\n",
        "\n",
        "# Вывод первых 5 строк датафрейма\n",
        "print(category_dict.head())\n",
        "\n",
        "# Дополнительно можно вывести названия столбцов для ясности\n",
        "print(\"Названия столбцов:\", category_dict.columns)\n"
      ]
    },
    {
      "cell_type": "markdown",
      "metadata": {
        "id": "Rif-5VFcEwSo"
      },
      "source": [
        "# Перевод строковых значений в числа\n",
        "\n",
        "Читая данные, Pandas автоматически переводит их в подходящий формат. У него порой не получается, тогда приходится измениять тип данных вручную.\n",
        "\n",
        "Рассмотрим файл со списком транзакций (платежей за одну покупку). Для каждой категории (буква в столбце **'category'**) посчитаем сумму продаж (значения в столбце **'amount'**)."
      ]
    },
    {
      "cell_type": "code",
      "execution_count": 60,
      "metadata": {
        "id": "Mju4k5F7EwSp",
        "outputId": "a5aafae6-c60d-47e4-cfad-907f2fa56ec6",
        "colab": {
          "base_uri": "https://localhost:8080/",
          "height": 206
        }
      },
      "outputs": [
        {
          "output_type": "execute_result",
          "data": {
            "text/plain": [
              "             id category    amount\n",
              "0  600748331392        C  17515.36\n",
              "1  600748331404        B  10117.56\n",
              "2  600748331412        B  18489.26\n",
              "3  600748331430        B   6620.22\n",
              "4  600748331447        C    7559.9"
            ],
            "text/html": [
              "\n",
              "  <div id=\"df-f12a9098-2f02-4181-b419-ecfa6ea5cda3\" class=\"colab-df-container\">\n",
              "    <div>\n",
              "<style scoped>\n",
              "    .dataframe tbody tr th:only-of-type {\n",
              "        vertical-align: middle;\n",
              "    }\n",
              "\n",
              "    .dataframe tbody tr th {\n",
              "        vertical-align: top;\n",
              "    }\n",
              "\n",
              "    .dataframe thead th {\n",
              "        text-align: right;\n",
              "    }\n",
              "</style>\n",
              "<table border=\"1\" class=\"dataframe\">\n",
              "  <thead>\n",
              "    <tr style=\"text-align: right;\">\n",
              "      <th></th>\n",
              "      <th>id</th>\n",
              "      <th>category</th>\n",
              "      <th>amount</th>\n",
              "    </tr>\n",
              "  </thead>\n",
              "  <tbody>\n",
              "    <tr>\n",
              "      <th>0</th>\n",
              "      <td>600748331392</td>\n",
              "      <td>C</td>\n",
              "      <td>17515.36</td>\n",
              "    </tr>\n",
              "    <tr>\n",
              "      <th>1</th>\n",
              "      <td>600748331404</td>\n",
              "      <td>B</td>\n",
              "      <td>10117.56</td>\n",
              "    </tr>\n",
              "    <tr>\n",
              "      <th>2</th>\n",
              "      <td>600748331412</td>\n",
              "      <td>B</td>\n",
              "      <td>18489.26</td>\n",
              "    </tr>\n",
              "    <tr>\n",
              "      <th>3</th>\n",
              "      <td>600748331430</td>\n",
              "      <td>B</td>\n",
              "      <td>6620.22</td>\n",
              "    </tr>\n",
              "    <tr>\n",
              "      <th>4</th>\n",
              "      <td>600748331447</td>\n",
              "      <td>C</td>\n",
              "      <td>7559.9</td>\n",
              "    </tr>\n",
              "  </tbody>\n",
              "</table>\n",
              "</div>\n",
              "    <div class=\"colab-df-buttons\">\n",
              "\n",
              "  <div class=\"colab-df-container\">\n",
              "    <button class=\"colab-df-convert\" onclick=\"convertToInteractive('df-f12a9098-2f02-4181-b419-ecfa6ea5cda3')\"\n",
              "            title=\"Convert this dataframe to an interactive table.\"\n",
              "            style=\"display:none;\">\n",
              "\n",
              "  <svg xmlns=\"http://www.w3.org/2000/svg\" height=\"24px\" viewBox=\"0 -960 960 960\">\n",
              "    <path d=\"M120-120v-720h720v720H120Zm60-500h600v-160H180v160Zm220 220h160v-160H400v160Zm0 220h160v-160H400v160ZM180-400h160v-160H180v160Zm440 0h160v-160H620v160ZM180-180h160v-160H180v160Zm440 0h160v-160H620v160Z\"/>\n",
              "  </svg>\n",
              "    </button>\n",
              "\n",
              "  <style>\n",
              "    .colab-df-container {\n",
              "      display:flex;\n",
              "      gap: 12px;\n",
              "    }\n",
              "\n",
              "    .colab-df-convert {\n",
              "      background-color: #E8F0FE;\n",
              "      border: none;\n",
              "      border-radius: 50%;\n",
              "      cursor: pointer;\n",
              "      display: none;\n",
              "      fill: #1967D2;\n",
              "      height: 32px;\n",
              "      padding: 0 0 0 0;\n",
              "      width: 32px;\n",
              "    }\n",
              "\n",
              "    .colab-df-convert:hover {\n",
              "      background-color: #E2EBFA;\n",
              "      box-shadow: 0px 1px 2px rgba(60, 64, 67, 0.3), 0px 1px 3px 1px rgba(60, 64, 67, 0.15);\n",
              "      fill: #174EA6;\n",
              "    }\n",
              "\n",
              "    .colab-df-buttons div {\n",
              "      margin-bottom: 4px;\n",
              "    }\n",
              "\n",
              "    [theme=dark] .colab-df-convert {\n",
              "      background-color: #3B4455;\n",
              "      fill: #D2E3FC;\n",
              "    }\n",
              "\n",
              "    [theme=dark] .colab-df-convert:hover {\n",
              "      background-color: #434B5C;\n",
              "      box-shadow: 0px 1px 3px 1px rgba(0, 0, 0, 0.15);\n",
              "      filter: drop-shadow(0px 1px 2px rgba(0, 0, 0, 0.3));\n",
              "      fill: #FFFFFF;\n",
              "    }\n",
              "  </style>\n",
              "\n",
              "    <script>\n",
              "      const buttonEl =\n",
              "        document.querySelector('#df-f12a9098-2f02-4181-b419-ecfa6ea5cda3 button.colab-df-convert');\n",
              "      buttonEl.style.display =\n",
              "        google.colab.kernel.accessAllowed ? 'block' : 'none';\n",
              "\n",
              "      async function convertToInteractive(key) {\n",
              "        const element = document.querySelector('#df-f12a9098-2f02-4181-b419-ecfa6ea5cda3');\n",
              "        const dataTable =\n",
              "          await google.colab.kernel.invokeFunction('convertToInteractive',\n",
              "                                                    [key], {});\n",
              "        if (!dataTable) return;\n",
              "\n",
              "        const docLinkHtml = 'Like what you see? Visit the ' +\n",
              "          '<a target=\"_blank\" href=https://colab.research.google.com/notebooks/data_table.ipynb>data table notebook</a>'\n",
              "          + ' to learn more about interactive tables.';\n",
              "        element.innerHTML = '';\n",
              "        dataTable['output_type'] = 'display_data';\n",
              "        await google.colab.output.renderOutput(dataTable, element);\n",
              "        const docLink = document.createElement('div');\n",
              "        docLink.innerHTML = docLinkHtml;\n",
              "        element.appendChild(docLink);\n",
              "      }\n",
              "    </script>\n",
              "  </div>\n",
              "\n",
              "\n",
              "<div id=\"df-4fd44501-d4e9-4f19-b320-4c863d03034d\">\n",
              "  <button class=\"colab-df-quickchart\" onclick=\"quickchart('df-4fd44501-d4e9-4f19-b320-4c863d03034d')\"\n",
              "            title=\"Suggest charts\"\n",
              "            style=\"display:none;\">\n",
              "\n",
              "<svg xmlns=\"http://www.w3.org/2000/svg\" height=\"24px\"viewBox=\"0 0 24 24\"\n",
              "     width=\"24px\">\n",
              "    <g>\n",
              "        <path d=\"M19 3H5c-1.1 0-2 .9-2 2v14c0 1.1.9 2 2 2h14c1.1 0 2-.9 2-2V5c0-1.1-.9-2-2-2zM9 17H7v-7h2v7zm4 0h-2V7h2v10zm4 0h-2v-4h2v4z\"/>\n",
              "    </g>\n",
              "</svg>\n",
              "  </button>\n",
              "\n",
              "<style>\n",
              "  .colab-df-quickchart {\n",
              "      --bg-color: #E8F0FE;\n",
              "      --fill-color: #1967D2;\n",
              "      --hover-bg-color: #E2EBFA;\n",
              "      --hover-fill-color: #174EA6;\n",
              "      --disabled-fill-color: #AAA;\n",
              "      --disabled-bg-color: #DDD;\n",
              "  }\n",
              "\n",
              "  [theme=dark] .colab-df-quickchart {\n",
              "      --bg-color: #3B4455;\n",
              "      --fill-color: #D2E3FC;\n",
              "      --hover-bg-color: #434B5C;\n",
              "      --hover-fill-color: #FFFFFF;\n",
              "      --disabled-bg-color: #3B4455;\n",
              "      --disabled-fill-color: #666;\n",
              "  }\n",
              "\n",
              "  .colab-df-quickchart {\n",
              "    background-color: var(--bg-color);\n",
              "    border: none;\n",
              "    border-radius: 50%;\n",
              "    cursor: pointer;\n",
              "    display: none;\n",
              "    fill: var(--fill-color);\n",
              "    height: 32px;\n",
              "    padding: 0;\n",
              "    width: 32px;\n",
              "  }\n",
              "\n",
              "  .colab-df-quickchart:hover {\n",
              "    background-color: var(--hover-bg-color);\n",
              "    box-shadow: 0 1px 2px rgba(60, 64, 67, 0.3), 0 1px 3px 1px rgba(60, 64, 67, 0.15);\n",
              "    fill: var(--button-hover-fill-color);\n",
              "  }\n",
              "\n",
              "  .colab-df-quickchart-complete:disabled,\n",
              "  .colab-df-quickchart-complete:disabled:hover {\n",
              "    background-color: var(--disabled-bg-color);\n",
              "    fill: var(--disabled-fill-color);\n",
              "    box-shadow: none;\n",
              "  }\n",
              "\n",
              "  .colab-df-spinner {\n",
              "    border: 2px solid var(--fill-color);\n",
              "    border-color: transparent;\n",
              "    border-bottom-color: var(--fill-color);\n",
              "    animation:\n",
              "      spin 1s steps(1) infinite;\n",
              "  }\n",
              "\n",
              "  @keyframes spin {\n",
              "    0% {\n",
              "      border-color: transparent;\n",
              "      border-bottom-color: var(--fill-color);\n",
              "      border-left-color: var(--fill-color);\n",
              "    }\n",
              "    20% {\n",
              "      border-color: transparent;\n",
              "      border-left-color: var(--fill-color);\n",
              "      border-top-color: var(--fill-color);\n",
              "    }\n",
              "    30% {\n",
              "      border-color: transparent;\n",
              "      border-left-color: var(--fill-color);\n",
              "      border-top-color: var(--fill-color);\n",
              "      border-right-color: var(--fill-color);\n",
              "    }\n",
              "    40% {\n",
              "      border-color: transparent;\n",
              "      border-right-color: var(--fill-color);\n",
              "      border-top-color: var(--fill-color);\n",
              "    }\n",
              "    60% {\n",
              "      border-color: transparent;\n",
              "      border-right-color: var(--fill-color);\n",
              "    }\n",
              "    80% {\n",
              "      border-color: transparent;\n",
              "      border-right-color: var(--fill-color);\n",
              "      border-bottom-color: var(--fill-color);\n",
              "    }\n",
              "    90% {\n",
              "      border-color: transparent;\n",
              "      border-bottom-color: var(--fill-color);\n",
              "    }\n",
              "  }\n",
              "</style>\n",
              "\n",
              "  <script>\n",
              "    async function quickchart(key) {\n",
              "      const quickchartButtonEl =\n",
              "        document.querySelector('#' + key + ' button');\n",
              "      quickchartButtonEl.disabled = true;  // To prevent multiple clicks.\n",
              "      quickchartButtonEl.classList.add('colab-df-spinner');\n",
              "      try {\n",
              "        const charts = await google.colab.kernel.invokeFunction(\n",
              "            'suggestCharts', [key], {});\n",
              "      } catch (error) {\n",
              "        console.error('Error during call to suggestCharts:', error);\n",
              "      }\n",
              "      quickchartButtonEl.classList.remove('colab-df-spinner');\n",
              "      quickchartButtonEl.classList.add('colab-df-quickchart-complete');\n",
              "    }\n",
              "    (() => {\n",
              "      let quickchartButtonEl =\n",
              "        document.querySelector('#df-4fd44501-d4e9-4f19-b320-4c863d03034d button');\n",
              "      quickchartButtonEl.style.display =\n",
              "        google.colab.kernel.accessAllowed ? 'block' : 'none';\n",
              "    })();\n",
              "  </script>\n",
              "</div>\n",
              "    </div>\n",
              "  </div>\n"
            ],
            "application/vnd.google.colaboratory.intrinsic+json": {
              "type": "dataframe",
              "variable_name": "transactions",
              "summary": "{\n  \"name\": \"transactions\",\n  \"rows\": 49,\n  \"fields\": [\n    {\n      \"column\": \"id\",\n      \"properties\": {\n        \"dtype\": \"string\",\n        \"num_unique_values\": 49,\n        \"samples\": [\n          600748331647,\n          600748332553,\n          600748332580\n        ],\n        \"semantic_type\": \"\",\n        \"description\": \"\"\n      }\n    },\n    {\n      \"column\": \"category\",\n      \"properties\": {\n        \"dtype\": \"category\",\n        \"num_unique_values\": 6,\n        \"samples\": [\n          \"C\",\n          \"B\",\n          \"Null\"\n        ],\n        \"semantic_type\": \"\",\n        \"description\": \"\"\n      }\n    },\n    {\n      \"column\": \"amount\",\n      \"properties\": {\n        \"dtype\": \"string\",\n        \"num_unique_values\": 46,\n        \"samples\": [\n          18659.7,\n          15193.72,\n          18240.5\n        ],\n        \"semantic_type\": \"\",\n        \"description\": \"\"\n      }\n    }\n  ]\n}"
            }
          },
          "metadata": {},
          "execution_count": 60
        }
      ],
      "source": [
        "transactions = pd.read_excel('ids.xlsx')\n",
        "transactions.head()\n"
      ]
    },
    {
      "cell_type": "markdown",
      "metadata": {
        "id": "kpunKgsfEwSq"
      },
      "source": [
        "Пока всё распознано корректно. В столбце **'id'** стоят идентификаторы транзакций, в столбце **category** — категории проданных товаров, в **amount** — стоимость каждого товара. Методом **info()** установим, как Pandas определил типы столбцов."
      ]
    },
    {
      "cell_type": "code",
      "execution_count": 61,
      "metadata": {
        "id": "SLVFBQAsEwSr",
        "outputId": "464b3927-44d3-438c-cb99-2b4d3bfbb38d",
        "colab": {
          "base_uri": "https://localhost:8080/"
        }
      },
      "outputs": [
        {
          "output_type": "stream",
          "name": "stdout",
          "text": [
            "<class 'pandas.core.frame.DataFrame'>\n",
            "RangeIndex: 49 entries, 0 to 48\n",
            "Data columns (total 3 columns):\n",
            " #   Column    Non-Null Count  Dtype \n",
            "---  ------    --------------  ----- \n",
            " 0   id        49 non-null     object\n",
            " 1   category  49 non-null     object\n",
            " 2   amount    49 non-null     object\n",
            "dtypes: object(3)\n",
            "memory usage: 1.3+ KB\n"
          ]
        }
      ],
      "source": [
        "transactions.info()"
      ]
    },
    {
      "cell_type": "markdown",
      "metadata": {
        "id": "V60jQ6nGEwSr"
      },
      "source": [
        "А вот и подозрительное поведение: столбцы **'id'** и **'amount'** распознаны как строки — тип **object**. Это значит, что в столбцах есть нечисловые значения или пропуски, а они помешают нашим расчётам.\n",
        "\n",
        "К примеру, попробуем вычислить сумму продаж:"
      ]
    },
    {
      "cell_type": "code",
      "execution_count": 62,
      "metadata": {
        "id": "YTMr-YdHEwSr",
        "outputId": "ad245adc-987e-423e-8a3d-1b65117cce69",
        "colab": {
          "base_uri": "https://localhost:8080/",
          "height": 287
        }
      },
      "outputs": [
        {
          "output_type": "error",
          "ename": "TypeError",
          "evalue": "unsupported operand type(s) for +: 'float' and 'str'",
          "traceback": [
            "\u001b[0;31m---------------------------------------------------------------------------\u001b[0m",
            "\u001b[0;31mTypeError\u001b[0m                                 Traceback (most recent call last)",
            "\u001b[0;32m<ipython-input-62-390c1ad6c997>\u001b[0m in \u001b[0;36m<cell line: 1>\u001b[0;34m()\u001b[0m\n\u001b[0;32m----> 1\u001b[0;31m \u001b[0mprint\u001b[0m\u001b[0;34m(\u001b[0m\u001b[0mtransactions\u001b[0m\u001b[0;34m[\u001b[0m\u001b[0;34m\"amount\"\u001b[0m\u001b[0;34m]\u001b[0m\u001b[0;34m.\u001b[0m\u001b[0msum\u001b[0m\u001b[0;34m(\u001b[0m\u001b[0;34m)\u001b[0m\u001b[0;34m)\u001b[0m\u001b[0;34m\u001b[0m\u001b[0;34m\u001b[0m\u001b[0m\n\u001b[0m",
            "\u001b[0;32m/usr/local/lib/python3.10/dist-packages/pandas/core/series.py\u001b[0m in \u001b[0;36msum\u001b[0;34m(self, axis, skipna, numeric_only, min_count, **kwargs)\u001b[0m\n\u001b[1;32m   6526\u001b[0m         \u001b[0;34m**\u001b[0m\u001b[0mkwargs\u001b[0m\u001b[0;34m,\u001b[0m\u001b[0;34m\u001b[0m\u001b[0;34m\u001b[0m\u001b[0m\n\u001b[1;32m   6527\u001b[0m     ):\n\u001b[0;32m-> 6528\u001b[0;31m         \u001b[0;32mreturn\u001b[0m \u001b[0mNDFrame\u001b[0m\u001b[0;34m.\u001b[0m\u001b[0msum\u001b[0m\u001b[0;34m(\u001b[0m\u001b[0mself\u001b[0m\u001b[0;34m,\u001b[0m \u001b[0maxis\u001b[0m\u001b[0;34m,\u001b[0m \u001b[0mskipna\u001b[0m\u001b[0;34m,\u001b[0m \u001b[0mnumeric_only\u001b[0m\u001b[0;34m,\u001b[0m \u001b[0mmin_count\u001b[0m\u001b[0;34m,\u001b[0m \u001b[0;34m**\u001b[0m\u001b[0mkwargs\u001b[0m\u001b[0;34m)\u001b[0m\u001b[0;34m\u001b[0m\u001b[0;34m\u001b[0m\u001b[0m\n\u001b[0m\u001b[1;32m   6529\u001b[0m \u001b[0;34m\u001b[0m\u001b[0m\n\u001b[1;32m   6530\u001b[0m     \u001b[0;34m@\u001b[0m\u001b[0mdoc\u001b[0m\u001b[0;34m(\u001b[0m\u001b[0mmake_doc\u001b[0m\u001b[0;34m(\u001b[0m\u001b[0;34m\"prod\"\u001b[0m\u001b[0;34m,\u001b[0m \u001b[0mndim\u001b[0m\u001b[0;34m=\u001b[0m\u001b[0;36m1\u001b[0m\u001b[0;34m)\u001b[0m\u001b[0;34m)\u001b[0m\u001b[0;34m\u001b[0m\u001b[0;34m\u001b[0m\u001b[0m\n",
            "\u001b[0;32m/usr/local/lib/python3.10/dist-packages/pandas/core/generic.py\u001b[0m in \u001b[0;36msum\u001b[0;34m(self, axis, skipna, numeric_only, min_count, **kwargs)\u001b[0m\n\u001b[1;32m  12504\u001b[0m         \u001b[0;34m**\u001b[0m\u001b[0mkwargs\u001b[0m\u001b[0;34m,\u001b[0m\u001b[0;34m\u001b[0m\u001b[0;34m\u001b[0m\u001b[0m\n\u001b[1;32m  12505\u001b[0m     ):\n\u001b[0;32m> 12506\u001b[0;31m         return self._min_count_stat_function(\n\u001b[0m\u001b[1;32m  12507\u001b[0m             \u001b[0;34m\"sum\"\u001b[0m\u001b[0;34m,\u001b[0m \u001b[0mnanops\u001b[0m\u001b[0;34m.\u001b[0m\u001b[0mnansum\u001b[0m\u001b[0;34m,\u001b[0m \u001b[0maxis\u001b[0m\u001b[0;34m,\u001b[0m \u001b[0mskipna\u001b[0m\u001b[0;34m,\u001b[0m \u001b[0mnumeric_only\u001b[0m\u001b[0;34m,\u001b[0m \u001b[0mmin_count\u001b[0m\u001b[0;34m,\u001b[0m \u001b[0;34m**\u001b[0m\u001b[0mkwargs\u001b[0m\u001b[0;34m\u001b[0m\u001b[0;34m\u001b[0m\u001b[0m\n\u001b[1;32m  12508\u001b[0m         )\n",
            "\u001b[0;32m/usr/local/lib/python3.10/dist-packages/pandas/core/generic.py\u001b[0m in \u001b[0;36m_min_count_stat_function\u001b[0;34m(self, name, func, axis, skipna, numeric_only, min_count, **kwargs)\u001b[0m\n\u001b[1;32m  12487\u001b[0m             \u001b[0maxis\u001b[0m \u001b[0;34m=\u001b[0m \u001b[0;36m0\u001b[0m\u001b[0;34m\u001b[0m\u001b[0;34m\u001b[0m\u001b[0m\n\u001b[1;32m  12488\u001b[0m \u001b[0;34m\u001b[0m\u001b[0m\n\u001b[0;32m> 12489\u001b[0;31m         return self._reduce(\n\u001b[0m\u001b[1;32m  12490\u001b[0m             \u001b[0mfunc\u001b[0m\u001b[0;34m,\u001b[0m\u001b[0;34m\u001b[0m\u001b[0;34m\u001b[0m\u001b[0m\n\u001b[1;32m  12491\u001b[0m             \u001b[0mname\u001b[0m\u001b[0;34m=\u001b[0m\u001b[0mname\u001b[0m\u001b[0;34m,\u001b[0m\u001b[0;34m\u001b[0m\u001b[0;34m\u001b[0m\u001b[0m\n",
            "\u001b[0;32m/usr/local/lib/python3.10/dist-packages/pandas/core/series.py\u001b[0m in \u001b[0;36m_reduce\u001b[0;34m(self, op, name, axis, skipna, numeric_only, filter_type, **kwds)\u001b[0m\n\u001b[1;32m   6455\u001b[0m                     \u001b[0;34m\"with non-numeric dtypes.\"\u001b[0m\u001b[0;34m\u001b[0m\u001b[0;34m\u001b[0m\u001b[0m\n\u001b[1;32m   6456\u001b[0m                 )\n\u001b[0;32m-> 6457\u001b[0;31m             \u001b[0;32mreturn\u001b[0m \u001b[0mop\u001b[0m\u001b[0;34m(\u001b[0m\u001b[0mdelegate\u001b[0m\u001b[0;34m,\u001b[0m \u001b[0mskipna\u001b[0m\u001b[0;34m=\u001b[0m\u001b[0mskipna\u001b[0m\u001b[0;34m,\u001b[0m \u001b[0;34m**\u001b[0m\u001b[0mkwds\u001b[0m\u001b[0;34m)\u001b[0m\u001b[0;34m\u001b[0m\u001b[0;34m\u001b[0m\u001b[0m\n\u001b[0m\u001b[1;32m   6458\u001b[0m \u001b[0;34m\u001b[0m\u001b[0m\n\u001b[1;32m   6459\u001b[0m     \u001b[0;34m@\u001b[0m\u001b[0mAppender\u001b[0m\u001b[0;34m(\u001b[0m\u001b[0mmake_doc\u001b[0m\u001b[0;34m(\u001b[0m\u001b[0;34m\"any\"\u001b[0m\u001b[0;34m,\u001b[0m \u001b[0mndim\u001b[0m\u001b[0;34m=\u001b[0m\u001b[0;36m1\u001b[0m\u001b[0;34m)\u001b[0m\u001b[0;34m)\u001b[0m\u001b[0;34m\u001b[0m\u001b[0;34m\u001b[0m\u001b[0m\n",
            "\u001b[0;32m/usr/local/lib/python3.10/dist-packages/pandas/core/nanops.py\u001b[0m in \u001b[0;36m_f\u001b[0;34m(*args, **kwargs)\u001b[0m\n\u001b[1;32m     83\u001b[0m                 )\n\u001b[1;32m     84\u001b[0m             \u001b[0;32mtry\u001b[0m\u001b[0;34m:\u001b[0m\u001b[0;34m\u001b[0m\u001b[0;34m\u001b[0m\u001b[0m\n\u001b[0;32m---> 85\u001b[0;31m                 \u001b[0;32mreturn\u001b[0m \u001b[0mf\u001b[0m\u001b[0;34m(\u001b[0m\u001b[0;34m*\u001b[0m\u001b[0margs\u001b[0m\u001b[0;34m,\u001b[0m \u001b[0;34m**\u001b[0m\u001b[0mkwargs\u001b[0m\u001b[0;34m)\u001b[0m\u001b[0;34m\u001b[0m\u001b[0;34m\u001b[0m\u001b[0m\n\u001b[0m\u001b[1;32m     86\u001b[0m             \u001b[0;32mexcept\u001b[0m \u001b[0mValueError\u001b[0m \u001b[0;32mas\u001b[0m \u001b[0me\u001b[0m\u001b[0;34m:\u001b[0m\u001b[0;34m\u001b[0m\u001b[0;34m\u001b[0m\u001b[0m\n\u001b[1;32m     87\u001b[0m                 \u001b[0;31m# we want to transform an object array\u001b[0m\u001b[0;34m\u001b[0m\u001b[0;34m\u001b[0m\u001b[0m\n",
            "\u001b[0;32m/usr/local/lib/python3.10/dist-packages/pandas/core/nanops.py\u001b[0m in \u001b[0;36mnew_func\u001b[0;34m(values, axis, skipna, mask, **kwargs)\u001b[0m\n\u001b[1;32m    402\u001b[0m             \u001b[0mmask\u001b[0m \u001b[0;34m=\u001b[0m \u001b[0misna\u001b[0m\u001b[0;34m(\u001b[0m\u001b[0mvalues\u001b[0m\u001b[0;34m)\u001b[0m\u001b[0;34m\u001b[0m\u001b[0;34m\u001b[0m\u001b[0m\n\u001b[1;32m    403\u001b[0m \u001b[0;34m\u001b[0m\u001b[0m\n\u001b[0;32m--> 404\u001b[0;31m         \u001b[0mresult\u001b[0m \u001b[0;34m=\u001b[0m \u001b[0mfunc\u001b[0m\u001b[0;34m(\u001b[0m\u001b[0mvalues\u001b[0m\u001b[0;34m,\u001b[0m \u001b[0maxis\u001b[0m\u001b[0;34m=\u001b[0m\u001b[0maxis\u001b[0m\u001b[0;34m,\u001b[0m \u001b[0mskipna\u001b[0m\u001b[0;34m=\u001b[0m\u001b[0mskipna\u001b[0m\u001b[0;34m,\u001b[0m \u001b[0mmask\u001b[0m\u001b[0;34m=\u001b[0m\u001b[0mmask\u001b[0m\u001b[0;34m,\u001b[0m \u001b[0;34m**\u001b[0m\u001b[0mkwargs\u001b[0m\u001b[0;34m)\u001b[0m\u001b[0;34m\u001b[0m\u001b[0;34m\u001b[0m\u001b[0m\n\u001b[0m\u001b[1;32m    405\u001b[0m \u001b[0;34m\u001b[0m\u001b[0m\n\u001b[1;32m    406\u001b[0m         \u001b[0;32mif\u001b[0m \u001b[0mdatetimelike\u001b[0m\u001b[0;34m:\u001b[0m\u001b[0;34m\u001b[0m\u001b[0;34m\u001b[0m\u001b[0m\n",
            "\u001b[0;32m/usr/local/lib/python3.10/dist-packages/pandas/core/nanops.py\u001b[0m in \u001b[0;36mnewfunc\u001b[0;34m(values, axis, **kwargs)\u001b[0m\n\u001b[1;32m    475\u001b[0m             \u001b[0;32mreturn\u001b[0m \u001b[0mnp\u001b[0m\u001b[0;34m.\u001b[0m\u001b[0marray\u001b[0m\u001b[0;34m(\u001b[0m\u001b[0mresults\u001b[0m\u001b[0;34m)\u001b[0m\u001b[0;34m\u001b[0m\u001b[0;34m\u001b[0m\u001b[0m\n\u001b[1;32m    476\u001b[0m \u001b[0;34m\u001b[0m\u001b[0m\n\u001b[0;32m--> 477\u001b[0;31m         \u001b[0;32mreturn\u001b[0m \u001b[0mfunc\u001b[0m\u001b[0;34m(\u001b[0m\u001b[0mvalues\u001b[0m\u001b[0;34m,\u001b[0m \u001b[0maxis\u001b[0m\u001b[0;34m=\u001b[0m\u001b[0maxis\u001b[0m\u001b[0;34m,\u001b[0m \u001b[0;34m**\u001b[0m\u001b[0mkwargs\u001b[0m\u001b[0;34m)\u001b[0m\u001b[0;34m\u001b[0m\u001b[0;34m\u001b[0m\u001b[0m\n\u001b[0m\u001b[1;32m    478\u001b[0m \u001b[0;34m\u001b[0m\u001b[0m\n\u001b[1;32m    479\u001b[0m     \u001b[0;32mreturn\u001b[0m \u001b[0mcast\u001b[0m\u001b[0;34m(\u001b[0m\u001b[0mF\u001b[0m\u001b[0;34m,\u001b[0m \u001b[0mnewfunc\u001b[0m\u001b[0;34m)\u001b[0m\u001b[0;34m\u001b[0m\u001b[0;34m\u001b[0m\u001b[0m\n",
            "\u001b[0;32m/usr/local/lib/python3.10/dist-packages/pandas/core/nanops.py\u001b[0m in \u001b[0;36mnansum\u001b[0;34m(values, axis, skipna, min_count, mask)\u001b[0m\n\u001b[1;32m    644\u001b[0m         \u001b[0mdtype_sum\u001b[0m \u001b[0;34m=\u001b[0m \u001b[0mnp\u001b[0m\u001b[0;34m.\u001b[0m\u001b[0mdtype\u001b[0m\u001b[0;34m(\u001b[0m\u001b[0mnp\u001b[0m\u001b[0;34m.\u001b[0m\u001b[0mfloat64\u001b[0m\u001b[0;34m)\u001b[0m\u001b[0;34m\u001b[0m\u001b[0;34m\u001b[0m\u001b[0m\n\u001b[1;32m    645\u001b[0m \u001b[0;34m\u001b[0m\u001b[0m\n\u001b[0;32m--> 646\u001b[0;31m     \u001b[0mthe_sum\u001b[0m \u001b[0;34m=\u001b[0m \u001b[0mvalues\u001b[0m\u001b[0;34m.\u001b[0m\u001b[0msum\u001b[0m\u001b[0;34m(\u001b[0m\u001b[0maxis\u001b[0m\u001b[0;34m,\u001b[0m \u001b[0mdtype\u001b[0m\u001b[0;34m=\u001b[0m\u001b[0mdtype_sum\u001b[0m\u001b[0;34m)\u001b[0m\u001b[0;34m\u001b[0m\u001b[0;34m\u001b[0m\u001b[0m\n\u001b[0m\u001b[1;32m    647\u001b[0m     \u001b[0mthe_sum\u001b[0m \u001b[0;34m=\u001b[0m \u001b[0m_maybe_null_out\u001b[0m\u001b[0;34m(\u001b[0m\u001b[0mthe_sum\u001b[0m\u001b[0;34m,\u001b[0m \u001b[0maxis\u001b[0m\u001b[0;34m,\u001b[0m \u001b[0mmask\u001b[0m\u001b[0;34m,\u001b[0m \u001b[0mvalues\u001b[0m\u001b[0;34m.\u001b[0m\u001b[0mshape\u001b[0m\u001b[0;34m,\u001b[0m \u001b[0mmin_count\u001b[0m\u001b[0;34m=\u001b[0m\u001b[0mmin_count\u001b[0m\u001b[0;34m)\u001b[0m\u001b[0;34m\u001b[0m\u001b[0;34m\u001b[0m\u001b[0m\n\u001b[1;32m    648\u001b[0m \u001b[0;34m\u001b[0m\u001b[0m\n",
            "\u001b[0;32m/usr/local/lib/python3.10/dist-packages/numpy/core/_methods.py\u001b[0m in \u001b[0;36m_sum\u001b[0;34m(a, axis, dtype, out, keepdims, initial, where)\u001b[0m\n\u001b[1;32m     47\u001b[0m def _sum(a, axis=None, dtype=None, out=None, keepdims=False,\n\u001b[1;32m     48\u001b[0m          initial=_NoValue, where=True):\n\u001b[0;32m---> 49\u001b[0;31m     \u001b[0;32mreturn\u001b[0m \u001b[0mumr_sum\u001b[0m\u001b[0;34m(\u001b[0m\u001b[0ma\u001b[0m\u001b[0;34m,\u001b[0m \u001b[0maxis\u001b[0m\u001b[0;34m,\u001b[0m \u001b[0mdtype\u001b[0m\u001b[0;34m,\u001b[0m \u001b[0mout\u001b[0m\u001b[0;34m,\u001b[0m \u001b[0mkeepdims\u001b[0m\u001b[0;34m,\u001b[0m \u001b[0minitial\u001b[0m\u001b[0;34m,\u001b[0m \u001b[0mwhere\u001b[0m\u001b[0;34m)\u001b[0m\u001b[0;34m\u001b[0m\u001b[0;34m\u001b[0m\u001b[0m\n\u001b[0m\u001b[1;32m     50\u001b[0m \u001b[0;34m\u001b[0m\u001b[0m\n\u001b[1;32m     51\u001b[0m def _prod(a, axis=None, dtype=None, out=None, keepdims=False,\n",
            "\u001b[0;31mTypeError\u001b[0m: unsupported operand type(s) for +: 'float' and 'str'"
          ]
        }
      ],
      "source": [
        "print(transactions[\"amount\"].sum())"
      ]
    },
    {
      "cell_type": "markdown",
      "metadata": {
        "id": "4LgurXKSEwSs"
      },
      "source": [
        "Сумма не считается из-за наличия строковых значений в столбце **'amount'**.\n",
        "Собрать все строки да сделать их числами! Для этого есть стандартный метод Pandas — **to_numeric()**. Он превращает значения столбца в числовой тип **float64** (вещественное число).\n"
      ]
    },
    {
      "cell_type": "code",
      "source": [
        "transactions['amount'] = pd.to_numeric(transactions['amount'])"
      ],
      "metadata": {
        "id": "T9LjmqEvIUBX",
        "colab": {
          "base_uri": "https://localhost:8080/",
          "height": 419
        },
        "outputId": "71d192f4-3c26-4255-9009-42055dd09988"
      },
      "execution_count": 63,
      "outputs": [
        {
          "output_type": "error",
          "ename": "ValueError",
          "evalue": "Unable to parse string \"Null\" at position 21",
          "traceback": [
            "\u001b[0;31m---------------------------------------------------------------------------\u001b[0m",
            "\u001b[0;31mValueError\u001b[0m                                Traceback (most recent call last)",
            "\u001b[0;32mlib.pyx\u001b[0m in \u001b[0;36mpandas._libs.lib.maybe_convert_numeric\u001b[0;34m()\u001b[0m\n",
            "\u001b[0;31mValueError\u001b[0m: Unable to parse string \"Null\"",
            "\nDuring handling of the above exception, another exception occurred:\n",
            "\u001b[0;31mValueError\u001b[0m                                Traceback (most recent call last)",
            "\u001b[0;32m<ipython-input-63-a703cf6aad4f>\u001b[0m in \u001b[0;36m<cell line: 1>\u001b[0;34m()\u001b[0m\n\u001b[0;32m----> 1\u001b[0;31m \u001b[0mtransactions\u001b[0m\u001b[0;34m[\u001b[0m\u001b[0;34m'amount'\u001b[0m\u001b[0;34m]\u001b[0m \u001b[0;34m=\u001b[0m \u001b[0mpd\u001b[0m\u001b[0;34m.\u001b[0m\u001b[0mto_numeric\u001b[0m\u001b[0;34m(\u001b[0m\u001b[0mtransactions\u001b[0m\u001b[0;34m[\u001b[0m\u001b[0;34m'amount'\u001b[0m\u001b[0;34m]\u001b[0m\u001b[0;34m)\u001b[0m\u001b[0;34m\u001b[0m\u001b[0;34m\u001b[0m\u001b[0m\n\u001b[0m",
            "\u001b[0;32m/usr/local/lib/python3.10/dist-packages/pandas/core/tools/numeric.py\u001b[0m in \u001b[0;36mto_numeric\u001b[0;34m(arg, errors, downcast, dtype_backend)\u001b[0m\n\u001b[1;32m    230\u001b[0m         \u001b[0mcoerce_numeric\u001b[0m \u001b[0;34m=\u001b[0m \u001b[0merrors\u001b[0m \u001b[0;32mnot\u001b[0m \u001b[0;32min\u001b[0m \u001b[0;34m(\u001b[0m\u001b[0;34m\"ignore\"\u001b[0m\u001b[0;34m,\u001b[0m \u001b[0;34m\"raise\"\u001b[0m\u001b[0;34m)\u001b[0m\u001b[0;34m\u001b[0m\u001b[0;34m\u001b[0m\u001b[0m\n\u001b[1;32m    231\u001b[0m         \u001b[0;32mtry\u001b[0m\u001b[0;34m:\u001b[0m\u001b[0;34m\u001b[0m\u001b[0;34m\u001b[0m\u001b[0m\n\u001b[0;32m--> 232\u001b[0;31m             values, new_mask = lib.maybe_convert_numeric(  # type: ignore[call-overload]\n\u001b[0m\u001b[1;32m    233\u001b[0m                 \u001b[0mvalues\u001b[0m\u001b[0;34m,\u001b[0m\u001b[0;34m\u001b[0m\u001b[0;34m\u001b[0m\u001b[0m\n\u001b[1;32m    234\u001b[0m                 \u001b[0mset\u001b[0m\u001b[0;34m(\u001b[0m\u001b[0;34m)\u001b[0m\u001b[0;34m,\u001b[0m\u001b[0;34m\u001b[0m\u001b[0;34m\u001b[0m\u001b[0m\n",
            "\u001b[0;32mlib.pyx\u001b[0m in \u001b[0;36mpandas._libs.lib.maybe_convert_numeric\u001b[0;34m()\u001b[0m\n",
            "\u001b[0;31mValueError\u001b[0m: Unable to parse string \"Null\" at position 21"
          ]
        }
      ]
    },
    {
      "cell_type": "markdown",
      "metadata": {
        "id": "ZMHEkuBaEwSs"
      },
      "source": [
        "\n",
        "У метода **to_numeric()** есть параметр **errors**. От значений, принимаемых **errors**, зависят действия **to_numeric** при встрече с некорректным значением:\n",
        "\n",
        "•\t**'errors='raise'** — дефолтное поведение: при встрече с некорректным значением выдаётся ошибка, операция перевода в числа прерывается;\n",
        "\n",
        "•\t**errors='coerce'** — некорректные значения принудительно заменяются на NaN;\n",
        "\n",
        "•\t**errors='ignore'** — некорректные значения игнорируются, но остаются.\n"
      ]
    },
    {
      "cell_type": "code",
      "source": [
        "transactions['amount'] = pd.to_numeric(transactions['amount'], errors='coerce')"
      ],
      "metadata": {
        "id": "UNnPGJ6eIRt_"
      },
      "execution_count": 64,
      "outputs": []
    },
    {
      "cell_type": "markdown",
      "metadata": {
        "id": "nyBsXNczEwSt"
      },
      "source": [
        "Методом **to_numeric()** мы не только превратим строки в числовой тип там, где это возможно, но и выясним, на каких значениях метод не работает.\n",
        "Особенность метода **to_numeric()** в том, что при переводе все числа будут иметь тип данных **float**. Это подходит далеко не всем значениям. Поэтому в нужный тип значения переводят методом **astype()**. Например, аргумент **('int')** метода **astype()** означает, что значение нужно перевести в целое число:\n",
        "![image.png](attachment:image.png)\n",
        "\n"
      ]
    },
    {
      "cell_type": "markdown",
      "metadata": {
        "id": "_-inljBKEwSt"
      },
      "source": [
        "## Задача   \n",
        "1. Переведите значения столбца **'id'** (таблицы **ids**) из строк в числа методом **to_numeric()**.\n",
        "\n"
      ]
    },
    {
      "cell_type": "code",
      "execution_count": 65,
      "metadata": {
        "id": "4B3h-udWEwSt"
      },
      "outputs": [],
      "source": [
        "import pandas as pd\n",
        "\n",
        "# Чтение файла 'ids.xlsx'\n",
        "file_path = '/content/ids.xlsx'\n",
        "ids_data = pd.read_excel(file_path)\n",
        "\n",
        "# Переводим значения столбца 'id' из строк в числа\n",
        "ids_data['id'] = pd.to_numeric(ids_data['id'], errors='coerce')"
      ]
    },
    {
      "cell_type": "markdown",
      "metadata": {
        "id": "4UaGVT_kEwSu"
      },
      "source": [
        "2. Попробуйте ещё раз перевести значения столбца **'id'** из строк в числа методом **to_numeric()**, но уже со значением **'coerce'** параметра **errors**. Это заменит вызывающий ошибку Null на NaN.\n",
        "Полученную таблицу выведите на экран методом **tail()**: так как ошибка возникает на последней строке, 5 значений с конца будет достаточно."
      ]
    },
    {
      "cell_type": "code",
      "execution_count": 66,
      "metadata": {
        "id": "bpPCDYDHEwSu",
        "colab": {
          "base_uri": "https://localhost:8080/"
        },
        "outputId": "360710f5-2b34-4c8f-b308-c518a6d35f24"
      },
      "outputs": [
        {
          "output_type": "stream",
          "name": "stdout",
          "text": [
            "              id category    amount\n",
            "44  6.007483e+11        A   8958.23\n",
            "45  6.007483e+11        C   12771.1\n",
            "46  6.007483e+11        E   9630.56\n",
            "47  6.007483e+11     Null      Null\n",
            "48           NaN        A  14327.22\n"
          ]
        }
      ],
      "source": [
        "import pandas as pd\n",
        "\n",
        "# Чтение файла 'ids.xlsx'\n",
        "file_path = '/content/ids.xlsx'\n",
        "ids_data = pd.read_excel(file_path)\n",
        "\n",
        "# Переводим значения столбца 'id' из строк в числа с параметром 'coerce', чтобы ошибки заменялись на NaN\n",
        "ids_data['id'] = pd.to_numeric(ids_data['id'], errors='coerce')\n",
        "\n",
        "# Выводим последние 5 строк таблицы\n",
        "print(ids_data.tail())"
      ]
    },
    {
      "cell_type": "markdown",
      "metadata": {
        "id": "A1U3y5LuEwSu"
      },
      "source": [
        "3. Вызовите метод **info()** после преобразований ещё раз. Проверьте, повлияла ли работа **pd.to_numeric(transactions['id'], errors='coerce')** на тип значений в столбце **id**."
      ]
    },
    {
      "cell_type": "code",
      "execution_count": 67,
      "metadata": {
        "id": "EFSX6ZFsEwSu",
        "colab": {
          "base_uri": "https://localhost:8080/"
        },
        "outputId": "35f99c40-1211-4596-86e8-827e63c9c63d"
      },
      "outputs": [
        {
          "output_type": "stream",
          "name": "stdout",
          "text": [
            "<class 'pandas.core.frame.DataFrame'>\n",
            "RangeIndex: 49 entries, 0 to 48\n",
            "Data columns (total 3 columns):\n",
            " #   Column    Non-Null Count  Dtype  \n",
            "---  ------    --------------  -----  \n",
            " 0   id        48 non-null     float64\n",
            " 1   category  49 non-null     object \n",
            " 2   amount    49 non-null     object \n",
            "dtypes: float64(1), object(2)\n",
            "memory usage: 1.3+ KB\n",
            "None\n"
          ]
        }
      ],
      "source": [
        "import pandas as pd\n",
        "\n",
        "# Чтение файла 'ids.xlsx'\n",
        "file_path = '/content/ids.xlsx'\n",
        "ids_data = pd.read_excel(file_path)\n",
        "\n",
        "# Переводим значения столбца 'id' из строк в числа с параметром 'coerce', чтобы ошибки заменялись на NaN\n",
        "ids_data['id'] = pd.to_numeric(ids_data['id'], errors='coerce')\n",
        "\n",
        "# Выводим информацию о датафрейме, чтобы проверить тип данных столбца 'id'\n",
        "print(ids_data.info())\n"
      ]
    },
    {
      "cell_type": "markdown",
      "metadata": {
        "id": "l9c62E6HEwSu"
      },
      "source": [
        "4. Методом **to_numeric()** превратите значения столбца **amount** в числа, заменив некорректные значения на NaN. Проверьте результаты преобразований методом **info()**."
      ]
    },
    {
      "cell_type": "code",
      "execution_count": 68,
      "metadata": {
        "id": "zHBY23zrEwSv",
        "colab": {
          "base_uri": "https://localhost:8080/"
        },
        "outputId": "3a2e1d01-66de-49fe-e4df-5a044a4906b7"
      },
      "outputs": [
        {
          "output_type": "stream",
          "name": "stdout",
          "text": [
            "<class 'pandas.core.frame.DataFrame'>\n",
            "RangeIndex: 49 entries, 0 to 48\n",
            "Data columns (total 3 columns):\n",
            " #   Column    Non-Null Count  Dtype  \n",
            "---  ------    --------------  -----  \n",
            " 0   id        49 non-null     object \n",
            " 1   category  49 non-null     object \n",
            " 2   amount    45 non-null     float64\n",
            "dtypes: float64(1), object(2)\n",
            "memory usage: 1.3+ KB\n",
            "None\n"
          ]
        }
      ],
      "source": [
        "import pandas as pd\n",
        "\n",
        "# Чтение файла 'ids.xlsx'\n",
        "file_path = '/content/ids.xlsx'\n",
        "ids_data = pd.read_excel(file_path)\n",
        "\n",
        "# Переводим значения столбца 'amount' в числа с параметром 'coerce', чтобы некорректные значения заменялись на NaN\n",
        "ids_data['amount'] = pd.to_numeric(ids_data['amount'], errors='coerce')\n",
        "\n",
        "# Выводим информацию о датафрейме, чтобы проверить типы данных и количество значений в столбцах\n",
        "print(ids_data.info())\n"
      ]
    },
    {
      "cell_type": "markdown",
      "metadata": {
        "id": "dk2CMs7NEwSv"
      },
      "source": [
        "5. Посчитайте общую стоимость проданных товаров — сумму значений столбца **amount** в датафрейме **transactions**. Результат выведите на экран."
      ]
    },
    {
      "cell_type": "code",
      "execution_count": 69,
      "metadata": {
        "id": "NznhDfzpEwSv",
        "colab": {
          "base_uri": "https://localhost:8080/"
        },
        "outputId": "0b7e8b25-2e8f-4f3b-e6b6-04199cbf1939"
      },
      "outputs": [
        {
          "output_type": "stream",
          "name": "stdout",
          "text": [
            "Общая стоимость проданных товаров: 596107.1\n"
          ]
        }
      ],
      "source": [
        "import pandas as pd\n",
        "\n",
        "# Чтение файла 'ids.xlsx'\n",
        "file_path = '/content/ids.xlsx'\n",
        "transactions = pd.read_excel(file_path)\n",
        "\n",
        "# Преобразуем значения столбца 'amount' в числовой формат, если это не было сделано ранее\n",
        "transactions['amount'] = pd.to_numeric(transactions['amount'], errors='coerce')\n",
        "\n",
        "# Рассчитываем общую стоимость проданных товаров (сумму значений в столбце 'amount')\n",
        "total_sales = transactions['amount'].sum()\n",
        "\n",
        "# Выводим результат\n",
        "print(f\"Общая стоимость проданных товаров: {total_sales}\")\n"
      ]
    },
    {
      "cell_type": "markdown",
      "metadata": {
        "id": "NTPng9nEEwSv"
      },
      "source": [
        "6.\n",
        "Рассчитайте сумму продаж для каждой категории. Для этого сгруппируйте датафрейм **transactions** по столбцу **category** и примените метод **sum()** к столбцу **amount**. Выведите результат на экран."
      ]
    },
    {
      "cell_type": "code",
      "execution_count": 70,
      "metadata": {
        "id": "sUbcbNPbEwSw",
        "colab": {
          "base_uri": "https://localhost:8080/"
        },
        "outputId": "9f128d04-e3c3-4551-a020-c701aaabce1f"
      },
      "outputs": [
        {
          "output_type": "stream",
          "name": "stdout",
          "text": [
            "category\n",
            "A       133988.50\n",
            "B       168617.89\n",
            "C       173332.50\n",
            "D        62630.82\n",
            "E        57537.39\n",
            "Null         0.00\n",
            "Name: amount, dtype: float64\n"
          ]
        }
      ],
      "source": [
        "import pandas as pd\n",
        "\n",
        "# Чтение файла 'ids.xlsx'\n",
        "file_path = '/content/ids.xlsx'\n",
        "transactions = pd.read_excel(file_path)\n",
        "\n",
        "# Преобразуем значения столбца 'amount' в числовой формат, если это не было сделано ранее\n",
        "transactions['amount'] = pd.to_numeric(transactions['amount'], errors='coerce')\n",
        "\n",
        "# Группируем по столбцу 'category' и считаем сумму по столбцу 'amount'\n",
        "category_sales = transactions.groupby('category')['amount'].sum()\n",
        "\n",
        "# Выводим результат\n",
        "print(category_sales)\n"
      ]
    },
    {
      "cell_type": "markdown",
      "metadata": {
        "id": "0i3iCBg2EwSw"
      },
      "source": [
        "7. Вернитесь к таблице с трафиком  (датасет data). При попытке сгруппировать датафрейм 'data' по источнику трафика и посчитать сумму визитов, вместо ожидаемого результата получили странное склеивание идентификаторов подкатегорий. Но теперь  вы сможете найти сумму визитов.\n",
        "\n",
        "Переведите значения столбца **visits** датафрейма data в числовой тип методом **to_numeric()**."
      ]
    },
    {
      "cell_type": "code",
      "execution_count": 71,
      "metadata": {
        "id": "3NhmZUNaEwSw",
        "colab": {
          "base_uri": "https://localhost:8080/"
        },
        "outputId": "b02bf1fd-3d68-4195-f30c-07d5ce6c8fa4"
      },
      "outputs": [
        {
          "output_type": "stream",
          "name": "stdout",
          "text": [
            "     subcategory_id   source         visits\n",
            "0        cf2e61c7af   direct  501165.668858\n",
            "1        0cd903d1cc   direct  126342.359505\n",
            "2        ef35bc88a7   direct   95626.321402\n",
            "3        6ff9f4014c   direct   75680.653002\n",
            "4        72bc238e4d   direct   64435.934651\n",
            "...             ...      ...            ...\n",
            "1925     c51343bf77  organic      15.640773\n",
            "1926     d942687638  organic      13.875540\n",
            "1927     976642886f  organic       9.204211\n",
            "1928     075994491e  organic       4.606261\n",
            "1929          total  organic            NaN\n",
            "\n",
            "[1930 rows x 3 columns]\n"
          ]
        }
      ],
      "source": [
        "# Переводим значения столбца 'visits' в числовой тип\n",
        "data['visits'] = pd.to_numeric(data['visits'], errors='coerce')\n",
        "\n",
        "# Выводим первые 5 строк, чтобы проверить изменения\n",
        "print(data)\n"
      ]
    },
    {
      "cell_type": "markdown",
      "metadata": {
        "id": "Ljrr4BbWEwSw"
      },
      "source": [
        "8. Узнайте, что не так со строкой 964. Вызовите знакомый из вводного курса метод **loc**.\n",
        "Он позволяет обращаться к датафрейму по значению индекса, в нашем случае как раз по номеру строки.\n"
      ]
    },
    {
      "cell_type": "code",
      "execution_count": 72,
      "metadata": {
        "id": "64-xskNyEwSw",
        "colab": {
          "base_uri": "https://localhost:8080/"
        },
        "outputId": "2f139a3d-6d0c-4b79-e7bc-dcf1db8541dd"
      },
      "outputs": [
        {
          "output_type": "stream",
          "name": "stdout",
          "text": [
            "subcategory_id     total\n",
            "source            direct\n",
            "visits               NaN\n",
            "Name: 964, dtype: object\n"
          ]
        }
      ],
      "source": [
        "row_964 = data.loc[964]\n",
        "\n",
        "# Выводим строку 964 для анализа\n",
        "print(row_964)"
      ]
    },
    {
      "cell_type": "markdown",
      "metadata": {
        "id": "ruHyz63VEwSx"
      },
      "source": [
        "9. Вычислите, сколько всего строк в датафрейме и выведите на экран в формате:\n",
        "\n",
        "Количество строк:\n",
        "\n",
        "Затем выведите на экран строки, которые имеют значение **'total'** в столбце **'subcategory_id'**. Изучите полученные результаты: сколько строк портят весь датасет?"
      ]
    },
    {
      "cell_type": "code",
      "execution_count": 73,
      "metadata": {
        "id": "6PpEkq9WEwSx",
        "colab": {
          "base_uri": "https://localhost:8080/"
        },
        "outputId": "94e60418-b06f-414c-9641-41f302ee3892"
      },
      "outputs": [
        {
          "output_type": "stream",
          "name": "stdout",
          "text": [
            "Количество строк: 1930\n",
            "Строки с 'total' в столбце 'subcategory_id':\n",
            "     subcategory_id   source  visits\n",
            "964           total   direct     NaN\n",
            "1929          total  organic     NaN\n"
          ]
        }
      ],
      "source": [
        "num_rows = len(data)\n",
        "print(f\"Количество строк: {num_rows}\")\n",
        "\n",
        "# Фильтруем строки, где значение в столбце 'subcategory_id' равно 'total'\n",
        "total_rows = data[data['subcategory_id'] == 'total']\n",
        "\n",
        "# Выводим строки, где 'subcategory_id' равно 'total'\n",
        "print(\"Строки с 'total' в столбце 'subcategory_id':\")\n",
        "print(total_rows)"
      ]
    },
    {
      "cell_type": "markdown",
      "metadata": {
        "id": "yVGEBGLpEwS2"
      },
      "source": [
        "10. Оставьте в датафрейме только строки, удовлетворяющие условию **data['subcategory_id'] != 'total'**. Проверьте результат: выведите на экран датафрейм с условием **data['subcategory_id'] == 'total'**."
      ]
    },
    {
      "cell_type": "code",
      "execution_count": 74,
      "metadata": {
        "id": "ksiKy3ATEwS2",
        "colab": {
          "base_uri": "https://localhost:8080/"
        },
        "outputId": "0529c35a-9592-482e-f6ca-3e9931a6a5b3"
      },
      "outputs": [
        {
          "output_type": "stream",
          "name": "stdout",
          "text": [
            "Строки с 'total' в столбце 'subcategory_id':\n",
            "     subcategory_id   source  visits\n",
            "964           total   direct     NaN\n",
            "1929          total  organic     NaN\n"
          ]
        }
      ],
      "source": [
        "data_filtered = data[data['subcategory_id'] != 'total']\n",
        "\n",
        "# Проверяем результат: выводим строки, где 'subcategory_id' равно 'total'\n",
        "total_rows = data[data['subcategory_id'] == 'total']\n",
        "print(\"Строки с 'total' в столбце 'subcategory_id':\")\n",
        "print(total_rows)\n"
      ]
    },
    {
      "cell_type": "markdown",
      "metadata": {
        "id": "XHEy129AEwS2"
      },
      "source": [
        "11. Измените тип данных в столбце **['visits']** на **integer**. Проверьте полученный результат, вызвав метод **info()**."
      ]
    },
    {
      "cell_type": "code",
      "execution_count": 75,
      "metadata": {
        "id": "TLTMRKSyEwS2",
        "colab": {
          "base_uri": "https://localhost:8080/"
        },
        "outputId": "c37dc4dd-31c6-466c-a99f-e698a54ba9ce"
      },
      "outputs": [
        {
          "output_type": "stream",
          "name": "stdout",
          "text": [
            "<class 'pandas.core.frame.DataFrame'>\n",
            "RangeIndex: 1930 entries, 0 to 1929\n",
            "Data columns (total 3 columns):\n",
            " #   Column          Non-Null Count  Dtype \n",
            "---  ------          --------------  ----- \n",
            " 0   subcategory_id  1930 non-null   object\n",
            " 1   source          1930 non-null   object\n",
            " 2   visits          1930 non-null   int64 \n",
            "dtypes: int64(1), object(2)\n",
            "memory usage: 45.4+ KB\n",
            "None\n"
          ]
        }
      ],
      "source": [
        "data['visits'] = data['visits'].fillna(0).astype('int')\n",
        "\n",
        "# Проверяем результат, вызывая метод info()\n",
        "print(data.info())"
      ]
    },
    {
      "cell_type": "markdown",
      "source": [
        "12. Сгруппируйте данные по источникам и вычислите количество визитов для каждого источника. Выведите результат на экран."
      ],
      "metadata": {
        "id": "nijCo8i6OlYP"
      }
    },
    {
      "cell_type": "code",
      "execution_count": 76,
      "metadata": {
        "id": "LrciWcjiEwS2",
        "outputId": "4aff4a95-dec5-4322-c638-997c70212b20",
        "colab": {
          "base_uri": "https://localhost:8080/"
        }
      },
      "outputs": [
        {
          "output_type": "stream",
          "name": "stdout",
          "text": [
            "source\n",
            "direct     2368980\n",
            "organic    5687407\n",
            "Name: visits, dtype: int64\n"
          ]
        }
      ],
      "source": [
        "visits_by_source = data.groupby('source')['visits'].sum()\n",
        "\n",
        "# Выводим результат\n",
        "print(visits_by_source)\n"
      ]
    },
    {
      "cell_type": "markdown",
      "metadata": {
        "id": "mh4C0RNMEwS3"
      },
      "source": [
        "# Метод merge()\n",
        "\n",
        "Вы получили первые выводы: на органический трафик приходится в два раза больше визитов пользователей. Однако исследование на этом не закончено — нужно изучить трафик для каждой категории товаров.\n",
        "\n",
        "Данные хранят в Excel-таблице из нескольких листов. Как смотреть на категории, подкатегории и трафик в одном месте? Идея — склеить таблицы!\n",
        "\n",
        "Объединим несколько таблиц в одну методом **merge()**.\n",
        "\n",
        "Метод **merge()** применяют к таблице, к которой присоединяют другую. У метода следующие аргументы:\n",
        "\n",
        "•\t**right** — имя **DataFrame** или **Series**, присоединяемого к исходной таблице (\"правая таблица\")\n",
        "\n",
        "•\t**on** — название общего списка в двух соединяемых таблицах: по нему происходит слияние (\"ключи\")\n",
        "\n",
        "•\t**how** — тип объединения (outer, inner, left, right)\n",
        "Объединим таблицы **data** и **subcategory_dict** со следующими условиями:\n",
        "\n",
        "•\t**data** — таблица, к которой будем присоединять другую таблицу\n",
        "\n",
        "•\t**subcategory_dict** — таблица, которую присоединяем к data\n",
        "\n",
        "•\t**'subcategory_id'** — общий столбец в двух таблицах, по нему будем объединять\n",
        "\n",
        "•\t**how='left'** — id таблицы **data** включены в итоговую таблицу **data_subcategory**\n"
      ]
    },
    {
      "cell_type": "code",
      "execution_count": 77,
      "metadata": {
        "id": "6BEyO4y1EwTC",
        "outputId": "c49c1546-3791-4ec1-c240-ac88006c9791",
        "colab": {
          "base_uri": "https://localhost:8080/"
        }
      },
      "outputs": [
        {
          "output_type": "stream",
          "name": "stdout",
          "text": [
            "  subcategory_id  source  visits                subcategory_name category_id\n",
            "0     cf2e61c7af  direct  501165              Мобильные телефоны  09f279a643\n",
            "1     0cd903d1cc  direct  126342                        Ноутбуки  3509869a61\n",
            "2     ef35bc88a7  direct   95626                      Телевизоры  09f279a643\n",
            "3     6ff9f4014c  direct   75680                        Планшеты  3509869a61\n",
            "4     72bc238e4d  direct   64435  Наушники и Bluetooth-гарнитуры  09f279a643\n",
            "5     88c78ea685  direct   39638                            Шины  65922fa39c\n",
            "6     179bfacf4a  direct   31007           Умные часы и браслеты  09f279a643\n",
            "7     b0fb8f259a  direct   30324                        Мониторы  3509869a61\n",
            "8     3c67eb2d90  direct   25878                   Наручные часы  6074ad29ac\n",
            "9     24e6c815c6  direct   25276  Лекарственные препараты и БАДы  10a493e03b\n"
          ]
        }
      ],
      "source": [
        "data_subcategory = data.merge(subcategory_dict, on='subcategory_id', how='left')\n",
        "print(data_subcategory.head(10))\n"
      ]
    },
    {
      "cell_type": "markdown",
      "metadata": {
        "id": "55C5yZ8LEwTC"
      },
      "source": [
        "## Задача:\n",
        "\n",
        "1. Объедините таблицы **data_subcategory** и **category_dict**. Результат сохраните в переменной **data_final** и выведите на экран первые 10 строк новой таблицы."
      ]
    },
    {
      "cell_type": "code",
      "execution_count": 78,
      "metadata": {
        "id": "z5N-4dJNEwTD",
        "colab": {
          "base_uri": "https://localhost:8080/"
        },
        "outputId": "1dc5b043-afdc-443d-e791-dfa95763ceb8"
      },
      "outputs": [
        {
          "output_type": "stream",
          "name": "stdout",
          "text": [
            "  subcategory_id  source         visits                subcategory_name  \\\n",
            "0     cf2e61c7af  direct  501165.668858              Мобильные телефоны   \n",
            "1     0cd903d1cc  direct  126342.359505                        Ноутбуки   \n",
            "2     ef35bc88a7  direct   95626.321402                      Телевизоры   \n",
            "3     6ff9f4014c  direct   75680.653002                        Планшеты   \n",
            "4     72bc238e4d  direct   64435.934651  Наушники и Bluetooth-гарнитуры   \n",
            "5     88c78ea685  direct   39638.202995                            Шины   \n",
            "6     179bfacf4a  direct   31007.471245           Умные часы и браслеты   \n",
            "7     b0fb8f259a  direct   30324.097324                        Мониторы   \n",
            "8     3c67eb2d90  direct   25878.814329                   Наручные часы   \n",
            "9     24e6c815c6  direct   25276.373358  Лекарственные препараты и БАДы   \n",
            "\n",
            "  category_id  \n",
            "0  09f279a643  \n",
            "1  3509869a61  \n",
            "2  09f279a643  \n",
            "3  3509869a61  \n",
            "4  09f279a643  \n",
            "5  65922fa39c  \n",
            "6  09f279a643  \n",
            "7  3509869a61  \n",
            "8  6074ad29ac  \n",
            "9  10a493e03b  \n"
          ]
        }
      ],
      "source": [
        "import pandas as pd\n",
        "\n",
        "# Чтение данных из файлов\n",
        "file_path = '/content/seo_data.xlsx'\n",
        "\n",
        "# Чтение таблицы с трафиком (data_subcategory) и таблицы с категориями (category_dict)\n",
        "data_subcategory = pd.read_excel(file_path, sheet_name='traffic_data')\n",
        "category_dict = pd.read_excel(file_path, sheet_name='subcategory_ids')\n",
        "\n",
        "# Объединяем таблицы по столбцу 'subcategory_id'\n",
        "data_final = pd.merge(data_subcategory, category_dict, on='subcategory_id', how='left')\n",
        "\n",
        "# Выводим первые 10 строк новой таблицы\n",
        "print(data_final.head(10))"
      ]
    },
    {
      "cell_type": "markdown",
      "metadata": {
        "id": "S5mBOyc_EwTD"
      },
      "source": [
        "# Сводные таблицы\n",
        "\n",
        "Сводная таблица — ваш помощник для обобщения данных и их наглядного представления.\n",
        "Перед вами таблица со статистикой продаж товаров в интернет-магазине. Известны название товара, дата продажи, количество, цена и стоимость доставки.\n",
        "\n",
        "По сводным таблицам можно точно сказать, сколько товара было продано в определённый день. Умение строить сводные таблицы позволяет быстро анализировать данные и сразу подготовить отчёты.\n",
        "\n",
        "Например, по данной сводной таблице можно легко ответить  на вопрос: «Сколько товара продал интернет-магазин 4 июня 2019 года?».\n"
      ]
    },
    {
      "cell_type": "markdown",
      "metadata": {
        "id": "MJJyeYTyEwTD"
      },
      "source": [
        "В Pandas для подготовки сводных таблиц вызывают метод **pivot_table()**.\n",
        "\n",
        "Аргументы метода:\n",
        "\n",
        "•\t**index** — столбец или столбцы, по которым группируют данные (название товара)\n",
        "\n",
        "•\t**columns** — столбец, по значениям которого происходит группировка (даты)\n",
        "\n",
        "•\t**values** — значения, по которым мы хотим увидеть сводную таблицу (количество проданного товара)\n",
        "\n",
        "•\t**aggfunc** — функция, применяемая к значениям (сумма товаров)\n",
        "\n",
        "Построим сводную таблицу для задачи по SEO-оптимизации.\n",
        "Сделаем по таблице **data_final** из предыдущего задания сводную таблицу методом **pivot_table()**:\n",
        "\n",
        "**data_pivot = data_final.pivot_table(index=['category_name', 'subcategory_name'], columns='source',\n",
        "                                    values='visits', aggfunc='sum')**\n"
      ]
    },
    {
      "cell_type": "code",
      "execution_count": 79,
      "metadata": {
        "id": "p-7Bp96CEwTE",
        "colab": {
          "base_uri": "https://localhost:8080/",
          "height": 455
        },
        "outputId": "9c7f920d-fd7e-48b7-ddae-1916b3457adb"
      },
      "outputs": [
        {
          "output_type": "display_data",
          "data": {
            "text/plain": [
              "source                                              direct      organic\n",
              "category_id subcategory_name                                           \n",
              "00c81185f4  Бетономешалки                       265.448104   454.676768\n",
              "            Бухгалтерские книги, бланки, формы  352.826967   700.647632\n",
              "            Инкубаторы                          333.093226   639.499268\n",
              "            Кассовые аппараты                   215.926512   325.693045\n",
              "            Оборудование для автосервисов       249.906933   416.265689\n",
              "...                                                    ...          ...\n",
              "dafb4d11f4  Швабры и насадки                    687.332916  1438.508861\n",
              "            Шкатулки                            249.840157   414.750186\n",
              "            Шкафы                               636.478306  1326.353428\n",
              "            Шторы                               705.376872  1512.966396\n",
              "            Шторы и карнизы                     172.019903   207.491783\n",
              "\n",
              "[934 rows x 2 columns]"
            ],
            "text/html": [
              "\n",
              "  <div id=\"df-5b15e151-140f-4a01-aa06-585223fef507\" class=\"colab-df-container\">\n",
              "    <div>\n",
              "<style scoped>\n",
              "    .dataframe tbody tr th:only-of-type {\n",
              "        vertical-align: middle;\n",
              "    }\n",
              "\n",
              "    .dataframe tbody tr th {\n",
              "        vertical-align: top;\n",
              "    }\n",
              "\n",
              "    .dataframe thead th {\n",
              "        text-align: right;\n",
              "    }\n",
              "</style>\n",
              "<table border=\"1\" class=\"dataframe\">\n",
              "  <thead>\n",
              "    <tr style=\"text-align: right;\">\n",
              "      <th></th>\n",
              "      <th>source</th>\n",
              "      <th>direct</th>\n",
              "      <th>organic</th>\n",
              "    </tr>\n",
              "    <tr>\n",
              "      <th>category_id</th>\n",
              "      <th>subcategory_name</th>\n",
              "      <th></th>\n",
              "      <th></th>\n",
              "    </tr>\n",
              "  </thead>\n",
              "  <tbody>\n",
              "    <tr>\n",
              "      <th rowspan=\"5\" valign=\"top\">00c81185f4</th>\n",
              "      <th>Бетономешалки</th>\n",
              "      <td>265.448104</td>\n",
              "      <td>454.676768</td>\n",
              "    </tr>\n",
              "    <tr>\n",
              "      <th>Бухгалтерские книги, бланки, формы</th>\n",
              "      <td>352.826967</td>\n",
              "      <td>700.647632</td>\n",
              "    </tr>\n",
              "    <tr>\n",
              "      <th>Инкубаторы</th>\n",
              "      <td>333.093226</td>\n",
              "      <td>639.499268</td>\n",
              "    </tr>\n",
              "    <tr>\n",
              "      <th>Кассовые аппараты</th>\n",
              "      <td>215.926512</td>\n",
              "      <td>325.693045</td>\n",
              "    </tr>\n",
              "    <tr>\n",
              "      <th>Оборудование для автосервисов</th>\n",
              "      <td>249.906933</td>\n",
              "      <td>416.265689</td>\n",
              "    </tr>\n",
              "    <tr>\n",
              "      <th>...</th>\n",
              "      <th>...</th>\n",
              "      <td>...</td>\n",
              "      <td>...</td>\n",
              "    </tr>\n",
              "    <tr>\n",
              "      <th rowspan=\"5\" valign=\"top\">dafb4d11f4</th>\n",
              "      <th>Швабры и насадки</th>\n",
              "      <td>687.332916</td>\n",
              "      <td>1438.508861</td>\n",
              "    </tr>\n",
              "    <tr>\n",
              "      <th>Шкатулки</th>\n",
              "      <td>249.840157</td>\n",
              "      <td>414.750186</td>\n",
              "    </tr>\n",
              "    <tr>\n",
              "      <th>Шкафы</th>\n",
              "      <td>636.478306</td>\n",
              "      <td>1326.353428</td>\n",
              "    </tr>\n",
              "    <tr>\n",
              "      <th>Шторы</th>\n",
              "      <td>705.376872</td>\n",
              "      <td>1512.966396</td>\n",
              "    </tr>\n",
              "    <tr>\n",
              "      <th>Шторы и карнизы</th>\n",
              "      <td>172.019903</td>\n",
              "      <td>207.491783</td>\n",
              "    </tr>\n",
              "  </tbody>\n",
              "</table>\n",
              "<p>934 rows × 2 columns</p>\n",
              "</div>\n",
              "    <div class=\"colab-df-buttons\">\n",
              "\n",
              "  <div class=\"colab-df-container\">\n",
              "    <button class=\"colab-df-convert\" onclick=\"convertToInteractive('df-5b15e151-140f-4a01-aa06-585223fef507')\"\n",
              "            title=\"Convert this dataframe to an interactive table.\"\n",
              "            style=\"display:none;\">\n",
              "\n",
              "  <svg xmlns=\"http://www.w3.org/2000/svg\" height=\"24px\" viewBox=\"0 -960 960 960\">\n",
              "    <path d=\"M120-120v-720h720v720H120Zm60-500h600v-160H180v160Zm220 220h160v-160H400v160Zm0 220h160v-160H400v160ZM180-400h160v-160H180v160Zm440 0h160v-160H620v160ZM180-180h160v-160H180v160Zm440 0h160v-160H620v160Z\"/>\n",
              "  </svg>\n",
              "    </button>\n",
              "\n",
              "  <style>\n",
              "    .colab-df-container {\n",
              "      display:flex;\n",
              "      gap: 12px;\n",
              "    }\n",
              "\n",
              "    .colab-df-convert {\n",
              "      background-color: #E8F0FE;\n",
              "      border: none;\n",
              "      border-radius: 50%;\n",
              "      cursor: pointer;\n",
              "      display: none;\n",
              "      fill: #1967D2;\n",
              "      height: 32px;\n",
              "      padding: 0 0 0 0;\n",
              "      width: 32px;\n",
              "    }\n",
              "\n",
              "    .colab-df-convert:hover {\n",
              "      background-color: #E2EBFA;\n",
              "      box-shadow: 0px 1px 2px rgba(60, 64, 67, 0.3), 0px 1px 3px 1px rgba(60, 64, 67, 0.15);\n",
              "      fill: #174EA6;\n",
              "    }\n",
              "\n",
              "    .colab-df-buttons div {\n",
              "      margin-bottom: 4px;\n",
              "    }\n",
              "\n",
              "    [theme=dark] .colab-df-convert {\n",
              "      background-color: #3B4455;\n",
              "      fill: #D2E3FC;\n",
              "    }\n",
              "\n",
              "    [theme=dark] .colab-df-convert:hover {\n",
              "      background-color: #434B5C;\n",
              "      box-shadow: 0px 1px 3px 1px rgba(0, 0, 0, 0.15);\n",
              "      filter: drop-shadow(0px 1px 2px rgba(0, 0, 0, 0.3));\n",
              "      fill: #FFFFFF;\n",
              "    }\n",
              "  </style>\n",
              "\n",
              "    <script>\n",
              "      const buttonEl =\n",
              "        document.querySelector('#df-5b15e151-140f-4a01-aa06-585223fef507 button.colab-df-convert');\n",
              "      buttonEl.style.display =\n",
              "        google.colab.kernel.accessAllowed ? 'block' : 'none';\n",
              "\n",
              "      async function convertToInteractive(key) {\n",
              "        const element = document.querySelector('#df-5b15e151-140f-4a01-aa06-585223fef507');\n",
              "        const dataTable =\n",
              "          await google.colab.kernel.invokeFunction('convertToInteractive',\n",
              "                                                    [key], {});\n",
              "        if (!dataTable) return;\n",
              "\n",
              "        const docLinkHtml = 'Like what you see? Visit the ' +\n",
              "          '<a target=\"_blank\" href=https://colab.research.google.com/notebooks/data_table.ipynb>data table notebook</a>'\n",
              "          + ' to learn more about interactive tables.';\n",
              "        element.innerHTML = '';\n",
              "        dataTable['output_type'] = 'display_data';\n",
              "        await google.colab.output.renderOutput(dataTable, element);\n",
              "        const docLink = document.createElement('div');\n",
              "        docLink.innerHTML = docLinkHtml;\n",
              "        element.appendChild(docLink);\n",
              "      }\n",
              "    </script>\n",
              "  </div>\n",
              "\n",
              "\n",
              "<div id=\"df-d6b0f34a-b22c-42a3-8592-16ac43e2f216\">\n",
              "  <button class=\"colab-df-quickchart\" onclick=\"quickchart('df-d6b0f34a-b22c-42a3-8592-16ac43e2f216')\"\n",
              "            title=\"Suggest charts\"\n",
              "            style=\"display:none;\">\n",
              "\n",
              "<svg xmlns=\"http://www.w3.org/2000/svg\" height=\"24px\"viewBox=\"0 0 24 24\"\n",
              "     width=\"24px\">\n",
              "    <g>\n",
              "        <path d=\"M19 3H5c-1.1 0-2 .9-2 2v14c0 1.1.9 2 2 2h14c1.1 0 2-.9 2-2V5c0-1.1-.9-2-2-2zM9 17H7v-7h2v7zm4 0h-2V7h2v10zm4 0h-2v-4h2v4z\"/>\n",
              "    </g>\n",
              "</svg>\n",
              "  </button>\n",
              "\n",
              "<style>\n",
              "  .colab-df-quickchart {\n",
              "      --bg-color: #E8F0FE;\n",
              "      --fill-color: #1967D2;\n",
              "      --hover-bg-color: #E2EBFA;\n",
              "      --hover-fill-color: #174EA6;\n",
              "      --disabled-fill-color: #AAA;\n",
              "      --disabled-bg-color: #DDD;\n",
              "  }\n",
              "\n",
              "  [theme=dark] .colab-df-quickchart {\n",
              "      --bg-color: #3B4455;\n",
              "      --fill-color: #D2E3FC;\n",
              "      --hover-bg-color: #434B5C;\n",
              "      --hover-fill-color: #FFFFFF;\n",
              "      --disabled-bg-color: #3B4455;\n",
              "      --disabled-fill-color: #666;\n",
              "  }\n",
              "\n",
              "  .colab-df-quickchart {\n",
              "    background-color: var(--bg-color);\n",
              "    border: none;\n",
              "    border-radius: 50%;\n",
              "    cursor: pointer;\n",
              "    display: none;\n",
              "    fill: var(--fill-color);\n",
              "    height: 32px;\n",
              "    padding: 0;\n",
              "    width: 32px;\n",
              "  }\n",
              "\n",
              "  .colab-df-quickchart:hover {\n",
              "    background-color: var(--hover-bg-color);\n",
              "    box-shadow: 0 1px 2px rgba(60, 64, 67, 0.3), 0 1px 3px 1px rgba(60, 64, 67, 0.15);\n",
              "    fill: var(--button-hover-fill-color);\n",
              "  }\n",
              "\n",
              "  .colab-df-quickchart-complete:disabled,\n",
              "  .colab-df-quickchart-complete:disabled:hover {\n",
              "    background-color: var(--disabled-bg-color);\n",
              "    fill: var(--disabled-fill-color);\n",
              "    box-shadow: none;\n",
              "  }\n",
              "\n",
              "  .colab-df-spinner {\n",
              "    border: 2px solid var(--fill-color);\n",
              "    border-color: transparent;\n",
              "    border-bottom-color: var(--fill-color);\n",
              "    animation:\n",
              "      spin 1s steps(1) infinite;\n",
              "  }\n",
              "\n",
              "  @keyframes spin {\n",
              "    0% {\n",
              "      border-color: transparent;\n",
              "      border-bottom-color: var(--fill-color);\n",
              "      border-left-color: var(--fill-color);\n",
              "    }\n",
              "    20% {\n",
              "      border-color: transparent;\n",
              "      border-left-color: var(--fill-color);\n",
              "      border-top-color: var(--fill-color);\n",
              "    }\n",
              "    30% {\n",
              "      border-color: transparent;\n",
              "      border-left-color: var(--fill-color);\n",
              "      border-top-color: var(--fill-color);\n",
              "      border-right-color: var(--fill-color);\n",
              "    }\n",
              "    40% {\n",
              "      border-color: transparent;\n",
              "      border-right-color: var(--fill-color);\n",
              "      border-top-color: var(--fill-color);\n",
              "    }\n",
              "    60% {\n",
              "      border-color: transparent;\n",
              "      border-right-color: var(--fill-color);\n",
              "    }\n",
              "    80% {\n",
              "      border-color: transparent;\n",
              "      border-right-color: var(--fill-color);\n",
              "      border-bottom-color: var(--fill-color);\n",
              "    }\n",
              "    90% {\n",
              "      border-color: transparent;\n",
              "      border-bottom-color: var(--fill-color);\n",
              "    }\n",
              "  }\n",
              "</style>\n",
              "\n",
              "  <script>\n",
              "    async function quickchart(key) {\n",
              "      const quickchartButtonEl =\n",
              "        document.querySelector('#' + key + ' button');\n",
              "      quickchartButtonEl.disabled = true;  // To prevent multiple clicks.\n",
              "      quickchartButtonEl.classList.add('colab-df-spinner');\n",
              "      try {\n",
              "        const charts = await google.colab.kernel.invokeFunction(\n",
              "            'suggestCharts', [key], {});\n",
              "      } catch (error) {\n",
              "        console.error('Error during call to suggestCharts:', error);\n",
              "      }\n",
              "      quickchartButtonEl.classList.remove('colab-df-spinner');\n",
              "      quickchartButtonEl.classList.add('colab-df-quickchart-complete');\n",
              "    }\n",
              "    (() => {\n",
              "      let quickchartButtonEl =\n",
              "        document.querySelector('#df-d6b0f34a-b22c-42a3-8592-16ac43e2f216 button');\n",
              "      quickchartButtonEl.style.display =\n",
              "        google.colab.kernel.accessAllowed ? 'block' : 'none';\n",
              "    })();\n",
              "  </script>\n",
              "</div>\n",
              "    </div>\n",
              "  </div>\n"
            ],
            "application/vnd.google.colaboratory.intrinsic+json": {
              "type": "dataframe",
              "variable_name": "data_pivot",
              "summary": "{\n  \"name\": \"data_pivot\",\n  \"rows\": 934,\n  \"fields\": [\n    {\n      \"column\": \"direct\",\n      \"properties\": {\n        \"dtype\": \"date\",\n        \"min\": 27.30157162863811,\n        \"max\": 501165.6688584263,\n        \"num_unique_values\": 934,\n        \"samples\": [\n          3838.418018227184,\n          1906.844118403645,\n          129.8614805267024\n        ],\n        \"semantic_type\": \"\",\n        \"description\": \"\"\n      }\n    },\n    {\n      \"column\": \"organic\",\n      \"properties\": {\n        \"dtype\": \"date\",\n        \"min\": 4.606261405152228,\n        \"max\": 1163658.685475853,\n        \"num_unique_values\": 934,\n        \"samples\": [\n          9202.272719012486,\n          4082.179769064999,\n          119.6518509789279\n        ],\n        \"semantic_type\": \"\",\n        \"description\": \"\"\n      }\n    }\n  ]\n}"
            }
          },
          "metadata": {}
        }
      ],
      "source": [
        "data_pivot = data_final.pivot_table(index=['category_id', 'subcategory_name'], columns='source', values='visits', aggfunc='sum')\n",
        "import matplotlib.pyplot as plt\n",
        "import seaborn as sns\n",
        "\n",
        "# Используем display() для показа таблицы в Colab\n",
        "from IPython.display import display\n",
        "display(data_pivot)"
      ]
    },
    {
      "cell_type": "markdown",
      "metadata": {
        "id": "9j05GBOUEwTE"
      },
      "source": [
        "Теперь вы видите название категории и её подкатегории со значениями объёма трафика по каждой.\n",
        "\n",
        "Как видно, основная категория включает в себя подкатегорию и это представлено в структуре датафрейма: категория отображена иерархически главной над подкатегорией. Такие датафреймы содержат в себе мультииндекс. Часто при работе с такими датафреймами мультииндекс убирают, чтобы категория была отображена на каждой строчке датафрейма:\n",
        "\n",
        "**data_pivot_with_reset_index = data_pivot.reset_index()\n",
        "print(data_pivot_with_reset_index.head(10)) **\n",
        "\n"
      ]
    },
    {
      "cell_type": "code",
      "execution_count": 80,
      "metadata": {
        "id": "uBz6MBRJEwTE",
        "colab": {
          "base_uri": "https://localhost:8080/"
        },
        "outputId": "142c2c6f-e2ac-47ad-e01a-ddd2eb0659b1"
      },
      "outputs": [
        {
          "output_type": "stream",
          "name": "stdout",
          "text": [
            "source category_id                         subcategory_name       direct  \\\n",
            "0       00c81185f4                           Бетономешалки    265.448104   \n",
            "1       00c81185f4       Бухгалтерские книги, бланки, формы   352.826967   \n",
            "2       00c81185f4                               Инкубаторы   333.093226   \n",
            "3       00c81185f4                        Кассовые аппараты   215.926512   \n",
            "4       00c81185f4            Оборудование для автосервисов   249.906933   \n",
            "5       00c81185f4         Оборудование для салонов красоты   206.831458   \n",
            "6       00c81185f4  Оборудование и мебель для медучреждений   266.778157   \n",
            "7       00c81185f4                       Пробники и тестеры    267.63091   \n",
            "8       00c81185f4                Профессиональные пылесосы  1328.852441   \n",
            "9       00c81185f4                      Прочее оборудование   156.458147   \n",
            "\n",
            "source      organic  \n",
            "0        454.676768  \n",
            "1        700.647632  \n",
            "2        639.499268  \n",
            "3        325.693045  \n",
            "4        416.265689  \n",
            "5        294.553479  \n",
            "6        458.096155  \n",
            "7        460.945582  \n",
            "8       2820.694429  \n",
            "9        181.011451  \n"
          ]
        }
      ],
      "source": [
        "data_pivot_with_reset_index = data_pivot.reset_index()\n",
        "print(data_pivot_with_reset_index.head(10))"
      ]
    },
    {
      "cell_type": "markdown",
      "metadata": {
        "id": "ANq0pqrMEwTF"
      },
      "source": [
        "В таблице выше суммы визитов **visits** по каждому из источников **source (direct и organic)** представлены в отдельных столбцах. Такой вид таблицы называется «широкий». Он удобен, когда нужно сравнить значения столбцов. Хорошо заметно, например, что в подкатегории «Автомобильные инверторы» количество визитов из источников **direct** и **organic** практически одинаково, а в подкатегории «Автомагнитолы» из источника **organic** пришло почти в два раза больше посетителей, чем из **direct**.\n",
        "\n",
        "Для группировки данных также подходит изученная вами ранее комбинация методов **groupby()** и **agg()** , но с ними таблица будет выглядеть иначе.\n",
        "\n",
        "Метод **groupby()** принимает один аргумент — столбец (или список столбцов), по которым группируют данные. В метод **agg()** передают словарь. Его ключ — это названия столбцов, а значение — функции, которые будут к этим столбцам применены (например, **sum или count**). Такие функции называются агрегирующие.\n",
        "Решим ту же задачу по SEO-оптимизации методами **groupby() и agg()**:\n",
        "\n",
        "\n",
        "**data_grouped = data_final.groupby(['category_name','subcategory_name','source']).agg({'visits':'sum'})**\n",
        "\n",
        "**print(data_grouped.head(10))**\n"
      ]
    },
    {
      "cell_type": "code",
      "execution_count": 81,
      "metadata": {
        "id": "Q4O_kE_2EwTF",
        "colab": {
          "base_uri": "https://localhost:8080/"
        },
        "outputId": "554670e1-2224-4113-a484-004a2a2102ce"
      },
      "outputs": [
        {
          "output_type": "stream",
          "name": "stdout",
          "text": [
            "                                                            visits\n",
            "category_id subcategory_name                   source             \n",
            "00c81185f4  Бетономешалки                      direct   265.448104\n",
            "                                               organic  454.676768\n",
            "            Бухгалтерские книги, бланки, формы direct   352.826967\n",
            "                                               organic  700.647632\n",
            "            Инкубаторы                         direct   333.093226\n",
            "                                               organic  639.499268\n",
            "            Кассовые аппараты                  direct   215.926512\n",
            "                                               organic  325.693045\n",
            "            Оборудование для автосервисов      direct   249.906933\n",
            "                                               organic  416.265689\n"
          ]
        }
      ],
      "source": [
        "data_grouped = data_final.groupby(['category_id','subcategory_name','source']).agg({'visits':'sum'})\n",
        "\n",
        "print(data_grouped.head(10))"
      ]
    },
    {
      "cell_type": "markdown",
      "metadata": {
        "id": "5cgy9dLeEwTG"
      },
      "source": [
        "Сгруппировав данные методами **groupby()** и **agg()** вместо **pivot_table()**, мы получили точно такие же данные, но в несколько другом виде. Он называется «длинный». Методы **groupby()** и **agg()** удобны, когда нужно применить функцию к столбцу со сгруппированными визитами **visits** или создать новый столбец на его основе:\n",
        "\n",
        "**data_grouped['daily_visits'] = data_grouped['visits'] / 30\n",
        "print(data_grouped.head(10))**\n"
      ]
    },
    {
      "cell_type": "code",
      "execution_count": 82,
      "metadata": {
        "id": "KAr6_nGCEwTG",
        "colab": {
          "base_uri": "https://localhost:8080/"
        },
        "outputId": "dbdc2fe9-0f83-4ddd-80ef-804d427273f3"
      },
      "outputs": [
        {
          "output_type": "stream",
          "name": "stdout",
          "text": [
            "                                                            visits  \\\n",
            "category_id subcategory_name                   source                \n",
            "00c81185f4  Бетономешалки                      direct   265.448104   \n",
            "                                               organic  454.676768   \n",
            "            Бухгалтерские книги, бланки, формы direct   352.826967   \n",
            "                                               organic  700.647632   \n",
            "            Инкубаторы                         direct   333.093226   \n",
            "                                               organic  639.499268   \n",
            "            Кассовые аппараты                  direct   215.926512   \n",
            "                                               organic  325.693045   \n",
            "            Оборудование для автосервисов      direct   249.906933   \n",
            "                                               organic  416.265689   \n",
            "\n",
            "                                                       daily_visits  \n",
            "category_id subcategory_name                   source                \n",
            "00c81185f4  Бетономешалки                      direct       8.84827  \n",
            "                                               organic    15.155892  \n",
            "            Бухгалтерские книги, бланки, формы direct     11.760899  \n",
            "                                               organic    23.354921  \n",
            "            Инкубаторы                         direct     11.103108  \n",
            "                                               organic    21.316642  \n",
            "            Кассовые аппараты                  direct       7.19755  \n",
            "                                               organic    10.856435  \n",
            "            Оборудование для автосервисов      direct      8.330231  \n",
            "                                               organic    13.875523  \n"
          ]
        }
      ],
      "source": [
        "data_grouped['daily_visits'] = data_grouped['visits'] / 30\n",
        "print(data_grouped.head(10))"
      ]
    },
    {
      "cell_type": "markdown",
      "metadata": {
        "id": "Dem1OCXqEwTG"
      },
      "source": [
        "## Задачи:\n",
        "\n",
        "1. Самостоятельно создайте сводную таблицу для набора **data_final**. Результат сохраните в переменной **data_pivot** и выведите первых 10 значений на экран.\n",
        "\n",
        "2. Создайте в таблице **data_pivot** новый столбец **'ratio'** и сохраните в нём значение отношения органического трафика **'organic'** к прямому **'direct'**. Выведите первые 10 строк таблицы на экран.\n",
        "\n",
        "3. Отсортируйте таблицу по столбцу **'ratio'** в порядке убывания. Выведите первые 10 строк. Отсортированную таблицу сохранять не нужно.\n",
        "\n",
        "4. Отсортируйте таблицу по столбцу **'ratio'** в порядке убывания и выведите последние 10 записей, где прямой трафик больше 1000. Выражение напишите в скобках функции **print()**, чтобы результат напечатался на экран.\n",
        "\n"
      ]
    },
    {
      "cell_type": "code",
      "execution_count": 83,
      "metadata": {
        "id": "63-CfhWJEwTG",
        "colab": {
          "base_uri": "https://localhost:8080/"
        },
        "outputId": "77e35375-e9b3-45d8-e592-d156bbf11ce7"
      },
      "outputs": [
        {
          "output_type": "stream",
          "name": "stdout",
          "text": [
            "Первые 10 строк сводной таблицы:\n",
            "source                                                    direct      organic\n",
            "category_id subcategory_name                                                 \n",
            "00c81185f4  Бетономешалки                             265.448104   454.676768\n",
            "            Бухгалтерские книги, бланки, формы        352.826967   700.647632\n",
            "            Инкубаторы                                333.093226   639.499268\n",
            "            Кассовые аппараты                         215.926512   325.693045\n",
            "            Оборудование для автосервисов             249.906933   416.265689\n",
            "            Оборудование для салонов красоты          206.831458   294.553479\n",
            "            Оборудование и мебель для медучреждений   266.778157   458.096155\n",
            "            Пробники и тестеры                         267.63091   460.945582\n",
            "            Профессиональные пылесосы                1328.852441  2820.694429\n",
            "            Прочее оборудование                       156.458147   181.011451\n",
            "Первые 10 строк с новым столбцом 'ratio':\n",
            "source                                                    direct      organic  \\\n",
            "category_id subcategory_name                                                    \n",
            "00c81185f4  Бетономешалки                             265.448104   454.676768   \n",
            "            Бухгалтерские книги, бланки, формы        352.826967   700.647632   \n",
            "            Инкубаторы                                333.093226   639.499268   \n",
            "            Кассовые аппараты                         215.926512   325.693045   \n",
            "            Оборудование для автосервисов             249.906933   416.265689   \n",
            "            Оборудование для салонов красоты          206.831458   294.553479   \n",
            "            Оборудование и мебель для медучреждений   266.778157   458.096155   \n",
            "            Пробники и тестеры                         267.63091   460.945582   \n",
            "            Профессиональные пылесосы                1328.852441  2820.694429   \n",
            "            Прочее оборудование                       156.458147   181.011451   \n",
            "\n",
            "source                                                  ratio  \n",
            "category_id subcategory_name                                   \n",
            "00c81185f4  Бетономешалки                            1.712865  \n",
            "            Бухгалтерские книги, бланки, формы       1.985811  \n",
            "            Инкубаторы                               1.919881  \n",
            "            Кассовые аппараты                        1.508351  \n",
            "            Оборудование для автосервисов            1.665683  \n",
            "            Оборудование для салонов красоты         1.424123  \n",
            "            Оборудование и мебель для медучреждений  1.717143  \n",
            "            Пробники и тестеры                       1.722318  \n",
            "            Профессиональные пылесосы                2.122654  \n",
            "            Прочее оборудование                      1.156932  \n",
            "Первые 10 строк отсортированной таблицы:\n",
            "source                                                direct        organic  \\\n",
            "category_id subcategory_name                                                  \n",
            "65922fa39c  Шины                                39638.202995  153859.454228   \n",
            "5a0d8ac946  Стиральные машины                   22064.436847   64570.606526   \n",
            "ae99947659  Велосипеды                          16009.579071   46087.870786   \n",
            "7dbac4c1a3  Коляски                             18079.643217   52005.251013   \n",
            "394f20d8fa  Сварочные аппараты                   6175.438323   17325.802396   \n",
            "dafb4d11f4  Компьютерные кресла                  6208.431964   17407.057106   \n",
            "3509869a61  Клавиатуры                            6224.68767    17417.35743   \n",
            "09f279a643  Универсальные внешние аккумуляторы   6146.908292   17115.415868   \n",
            "            TV-тюнеры                            6275.058046   17427.655189   \n",
            "5a0d8ac946  Холодильники                        20920.733424   57985.930965   \n",
            "\n",
            "source                                             ratio  \n",
            "category_id subcategory_name                              \n",
            "65922fa39c  Шины                                3.881595  \n",
            "5a0d8ac946  Стиральные машины                   2.926456  \n",
            "ae99947659  Велосипеды                          2.878768  \n",
            "7dbac4c1a3  Коляски                             2.876453  \n",
            "394f20d8fa  Сварочные аппараты                  2.805599  \n",
            "dafb4d11f4  Компьютерные кресла                 2.803777  \n",
            "3509869a61  Клавиатуры                          2.798109  \n",
            "09f279a643  Универсальные внешние аккумуляторы  2.784394  \n",
            "            TV-тюнеры                            2.77729  \n",
            "5a0d8ac946  Холодильники                        2.771697  \n",
            "Последние 10 строк отсортированной таблицы:\n",
            "source                                             direct      organic  \\\n",
            "category_id subcategory_name                                             \n",
            "5a0d8ac946  Оверлоки и распошивальные машины  1536.538201  3215.115336   \n",
            "dafb4d11f4  Компьютерные и письменные столы   1999.746292  4177.299231   \n",
            "            Люстры                            2016.662654  4209.611976   \n",
            "394f20d8fa  Дисковые пилы                     2040.251241  4255.639872   \n",
            "            Воздушные компрессоры             1690.492249  3520.404831   \n",
            "10a493e03b  Бандажи и ортезы                  1659.195233  3453.165773   \n",
            "09f279a643  Защитные пленки и стекла          1560.395673  3246.629811   \n",
            "394f20d8fa  Нивелиры и лазерные уровни        1651.947395  3436.972506   \n",
            "6074ad29ac  Туфли                             1036.253838  2097.368209   \n",
            "            Сапоги                            1009.586105  2021.903456   \n",
            "\n",
            "source                                           ratio  \n",
            "category_id subcategory_name                            \n",
            "5a0d8ac946  Оверлоки и распошивальные машины  2.092441  \n",
            "dafb4d11f4  Компьютерные и письменные столы   2.088915  \n",
            "            Люстры                            2.087415  \n",
            "394f20d8fa  Дисковые пилы                     2.085841  \n",
            "            Воздушные компрессоры             2.082473  \n",
            "10a493e03b  Бандажи и ортезы                  2.081229  \n",
            "09f279a643  Защитные пленки и стекла          2.080645  \n",
            "394f20d8fa  Нивелиры и лазерные уровни        2.080558  \n",
            "6074ad29ac  Туфли                             2.023991  \n",
            "            Сапоги                            2.002705  \n"
          ]
        }
      ],
      "source": [
        "import pandas as pd\n",
        "\n",
        "# Чтение данных из файла\n",
        "file_path = '/content/seo_data.xlsx'\n",
        "\n",
        "# Чтение таблиц data_subcategory и category_dict\n",
        "data_subcategory = pd.read_excel(file_path, sheet_name='traffic_data')\n",
        "category_dict = pd.read_excel(file_path, sheet_name='subcategory_ids')\n",
        "\n",
        "# Объединяем таблицы по столбцу 'subcategory_id'\n",
        "data_final = pd.merge(data_subcategory, category_dict, on='subcategory_id', how='left')\n",
        "\n",
        "# 1. Создаем сводную таблицу\n",
        "data_pivot = data_final.pivot_table(index=['category_id', 'subcategory_name'],\n",
        "                                    columns='source',\n",
        "                                    values='visits',\n",
        "                                    aggfunc='sum')\n",
        "\n",
        "# Выводим первые 10 строк сводной таблицы\n",
        "print(\"Первые 10 строк сводной таблицы:\")\n",
        "print(data_pivot.head(10))\n",
        "\n",
        "# 2. Создаем новый столбец 'ratio' — отношение органического трафика к прямому\n",
        "data_pivot['ratio'] = data_pivot['organic'] / data_pivot['direct']\n",
        "\n",
        "# Выводим первые 10 строк с новым столбцом 'ratio'\n",
        "print(\"Первые 10 строк с новым столбцом 'ratio':\")\n",
        "print(data_pivot.head(10))\n",
        "\n",
        "# 3. Сортируем таблицу по столбцу 'ratio' в порядке убывания\n",
        "data_pivot_sorted = data_pivot.sort_values(by='ratio', ascending=False)\n",
        "\n",
        "# Выводим первые 10 строк отсортированной таблицы\n",
        "print(\"Первые 10 строк отсортированной таблицы:\")\n",
        "print(data_pivot_sorted.head(10))\n",
        "\n",
        "# 4. Сортируем по столбцу 'ratio' в порядке убывания и выводим последние 10 строк, где 'direct' > 1000\n",
        "print(\"Последние 10 строк отсортированной таблицы:\")\n",
        "print(data_pivot_sorted[data_pivot_sorted['direct'] > 1000].tail(10))\n"
      ]
    }
  ],
  "metadata": {
    "kernelspec": {
      "display_name": "Python 3 (ipykernel)",
      "language": "python",
      "name": "python3"
    },
    "language_info": {
      "codemirror_mode": {
        "name": "ipython",
        "version": 3
      },
      "file_extension": ".py",
      "mimetype": "text/x-python",
      "name": "python",
      "nbconvert_exporter": "python",
      "pygments_lexer": "ipython3",
      "version": "3.9.12"
    },
    "colab": {
      "provenance": [],
      "include_colab_link": true
    }
  },
  "nbformat": 4,
  "nbformat_minor": 0
}