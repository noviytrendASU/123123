{
  "cells": [
    {
      "cell_type": "markdown",
      "metadata": {
        "id": "view-in-github",
        "colab_type": "text"
      },
      "source": [
        "<a href=\"https://colab.research.google.com/github/noviytrendASU/123123/blob/main/%D0%9B%D0%B0%D0%B1%D0%B04_%D0%9A%D0%B0%D1%88%D0%B8%D1%80%D0%BE%D0%B2_%D0%98%D0%A4.ipynb\" target=\"_parent\"><img src=\"https://colab.research.google.com/assets/colab-badge.svg\" alt=\"Open In Colab\"/></a>"
      ]
    },
    {
      "cell_type": "markdown",
      "metadata": {
        "id": "BfEgLZJMmPwn"
      },
      "source": [
        "# Сортировка данных\n",
        "\n",
        "\n",
        "Поиск необычного в группе — что среди планет, что среди меломанов — это прежде всего поиск чемпионов: объектов с выдающимися показателями по разным статьям. Как всю таблицу, так и отдельные группы изучают, сортируя строки по какому-либо столбцу.\n",
        "\n",
        "В Pandas для этой операции есть метод **sort_values()**. У него два аргумента:\n",
        "\n",
        "• **by = 'имя столбца'** — имя столбца, по которому нужно сортировать;\n",
        "\n",
        "• **ascending:** по умолчанию True. Для сортировки по убыванию установите значение False.\n",
        "\n",
        "Среди экзопланет интересны близкие по размерам к Земле. Есть ли такие? Отсортируем список по радиусу в порядке возрастания. Тогда в голове таблицы окажутся самые малые, на которых гравитация не прижмёт нас к полу.\n",
        "\n",
        "**print(exoplanet.sort_values(by='radius').head(30))**\n",
        "\n",
        "Оказывается, некоторые из уже открытых экзопланет по размерам близки не то что к Земле, но уже и к Луне! Получим список экзопланет с радиусом меньше земного. Смотрите, как логический оператор (здесь это <) задействуется в отборе элементов столбца. Дальше нам этот приём не раз понадобится.\n",
        "\n",
        "**print(exoplanet[exoplanet['radius'] < 1])**\n",
        "\n",
        "Но и этот список такой длинный, что изучать его лучше по частям. Экзопланеты, близкие по размерам к Земле, за последнее десятилетие открывали нередко. Можно изучать список открытых за каждый год. Например, для 2014 года (вновь обратите внимание на работу логического оператора, теперь это ==):\n",
        "\n",
        "**print(exoplanet[exoplanet['discovered'] == 2014])**\n",
        "\n",
        "А чтобы не тратить время на лишнее, поставим оба условия сразу. Для этого в Pandas есть логический оператор &, подобный оператору and языка Python. Напомним, его смысл на русском языке можно передать словами «и ещё»:\n",
        "\n",
        "**exo_small_14 = exoplanet[ (exoplanet['radius']<1) & (exoplanet['discovered']==2014)]**\n",
        "\n",
        "**print(exo_small_14)**\n",
        "\n",
        "Отсортируем результат в порядке убывания радиуса.\n",
        "\n",
        "**print(exo_small_14.sort_values(by = 'radius', ascending = False))**\n",
        "\n",
        "\n",
        "\n"
      ]
    },
    {
      "cell_type": "markdown",
      "metadata": {
        "id": "zF1-q8Z5mPwo"
      },
      "source": [
        "## Задача\n",
        "1. Выделим пятерки стран с самым низким и самым высоким уровнем самоубийств в мире."
      ]
    },
    {
      "cell_type": "code",
      "execution_count": 6,
      "metadata": {
        "id": "OqJ3ZrCHmPwo",
        "colab": {
          "base_uri": "https://localhost:8080/"
        },
        "outputId": "81d3097d-722c-4563-e65e-636e164d792c"
      },
      "outputs": [
        {
          "output_type": "stream",
          "name": "stdout",
          "text": [
            "Пятерка стран с самым низким уровнем самоубийств:\n",
            "                   country  suicides_no\n",
            "27               Dominica            0\n",
            "76  Saint Kitts and Nevis            0\n",
            "79             San Marino            4\n",
            "1     Antigua and Barbuda           11\n",
            "55               Maldives           20\n",
            "\n",
            "Пятерка стран с самым высоким уровнем самоубийств:\n",
            "                country  suicides_no\n",
            "75  Russian Federation      1209742\n",
            "98       United States      1034013\n",
            "46               Japan       806902\n",
            "33              France       329127\n",
            "95             Ukraine       319950\n"
          ]
        }
      ],
      "source": [
        "country_suicides = master.groupby('country')['suicides_no'].sum().reset_index()\n",
        "lowest_country_suicides = country_suicides.sort_values(by='suicides_no', ascending=True).head(5)\n",
        "biggest_country_suicides = country_suicides.sort_values(by='suicides_no', ascending=False).head(5)\n",
        "\n",
        "print('Пятерка стран с самым низким уровнем самоубийств:\\n', lowest_country_suicides)\n",
        "print('\\nПятерка стран с самым высоким уровнем самоубийств:\\n', biggest_country_suicides)"
      ]
    },
    {
      "cell_type": "markdown",
      "metadata": {
        "id": "WWyuYPlEmPwo"
      },
      "source": [
        "2. Исследуйте распределение количества суидидов по гендерному признаку. Найдите лидеров и антилидеров по количеству самоубийств среди женщин. Повторяется ли картина по сравнению с предыдущим исследованием?"
      ]
    },
    {
      "cell_type": "code",
      "execution_count": 7,
      "metadata": {
        "id": "U0gHxudemPwo",
        "colab": {
          "base_uri": "https://localhost:8080/"
        },
        "outputId": "6a40218c-478c-45dc-8207-54a804fef8c9"
      },
      "outputs": [
        {
          "output_type": "stream",
          "name": "stdout",
          "text": [
            "Лидеры по самоубийствам среди женщин:\n",
            "                country  suicides_no\n",
            "46               Japan       251630\n",
            "75  Russian Federation       214330\n",
            "98       United States       213797\n",
            "33              France        89419\n",
            "73   Republic of Korea        82615\n",
            "35             Germany        79707\n",
            "95             Ukraine        61377\n",
            "15              Brazil        49015\n",
            "44               Italy        32881\n",
            "97      United Kingdom        32687\n",
            "Антилидеры по самоубийствам среди женщин:\n",
            "                   country  suicides_no\n",
            "65                   Oman            0\n",
            "79             San Marino            0\n",
            "27               Dominica            0\n",
            "76  Saint Kitts and Nevis            0\n",
            "1     Antigua and Barbuda            1\n",
            "37                Grenada            4\n",
            "17             Cabo Verde            5\n",
            "55               Maldives            6\n",
            "81             Seychelles            9\n",
            "48               Kiribati           10\n"
          ]
        }
      ],
      "source": [
        "women_suicides = master[master['sex'] == 'female']\n",
        "women_grouping = women_suicides.groupby('country')['suicides_no'].sum().reset_index()\n",
        "\n",
        "leaders_suicides = women_grouping.sort_values(by = 'suicides_no', ascending = False).head(10)\n",
        "anti_leaders_suicides = women_grouping.sort_values(by = 'suicides_no', ascending = True).head(10)\n",
        "\n",
        "print('Лидеры по самоубийствам среди женщин:\\n', leaders_suicides)\n",
        "print('Антилидеры по самоубийствам среди женщин:\\n', anti_leaders_suicides)"
      ]
    },
    {
      "cell_type": "markdown",
      "metadata": {
        "id": "6_PurVkVmPwp"
      },
      "source": [
        "# Описательная статистика\n",
        "\n",
        "Чтобы представить себе среднестатистического самоубийцу, понадобится описательная статистика.\n",
        "\n",
        "Из её показателей для количественного описания данных в нашей задаче нужны четыре меры — максимум, минимум, медиана и среднее.\n",
        "\n",
        "Наибольшее и наименьшее обычно вычисляют только по одному признаку. Например, можно получить минимальное и максимальное значение уровня самоубийств (количество самоубийств на 100 тыс.населения) (столбец 'suicides/100k pop'). Для поиска максимума вызывают метод max(), примененный к этому столбцу:\n",
        "\n",
        "print(master['suicides/100k pop'].max())\n"
      ]
    },
    {
      "cell_type": "code",
      "execution_count": 8,
      "metadata": {
        "id": "_8-JY1RamPwp",
        "colab": {
          "base_uri": "https://localhost:8080/"
        },
        "outputId": "717f7770-c38f-4316-fcad-685b60e516e4"
      },
      "outputs": [
        {
          "output_type": "stream",
          "name": "stdout",
          "text": [
            "224.97\n"
          ]
        }
      ],
      "source": [
        "print(master['suicides_per_100k_pop'].max())"
      ]
    },
    {
      "cell_type": "markdown",
      "metadata": {
        "id": "ckP6ySYEmPwp"
      },
      "source": [
        "Самый высокий показатель оказался 224.97 самоубийств на 100 тыс.населения. Интересно, в какой стране такая ситуация.\n",
        "\n",
        "Запросим из master строку с максимальным значением, прибегнув к логической индексации с условием\n",
        "\n",
        "**master['suicides/100k pop'] == master['suicides/100k pop'].max()**"
      ]
    },
    {
      "cell_type": "code",
      "execution_count": 9,
      "metadata": {
        "id": "bFAZ0konmPwp",
        "colab": {
          "base_uri": "https://localhost:8080/",
          "height": 458
        },
        "outputId": "ee6682db-9f00-4cee-87e6-8f81b45ff267"
      },
      "outputs": [
        {
          "output_type": "execute_result",
          "data": {
            "text/plain": [
              "0        False\n",
              "1        False\n",
              "2        False\n",
              "3        False\n",
              "4        False\n",
              "         ...  \n",
              "27815    False\n",
              "27816    False\n",
              "27817    False\n",
              "27818    False\n",
              "27819    False\n",
              "Name: suicides_per_100k_pop, Length: 27820, dtype: bool"
            ],
            "text/html": [
              "<div>\n",
              "<style scoped>\n",
              "    .dataframe tbody tr th:only-of-type {\n",
              "        vertical-align: middle;\n",
              "    }\n",
              "\n",
              "    .dataframe tbody tr th {\n",
              "        vertical-align: top;\n",
              "    }\n",
              "\n",
              "    .dataframe thead th {\n",
              "        text-align: right;\n",
              "    }\n",
              "</style>\n",
              "<table border=\"1\" class=\"dataframe\">\n",
              "  <thead>\n",
              "    <tr style=\"text-align: right;\">\n",
              "      <th></th>\n",
              "      <th>suicides_per_100k_pop</th>\n",
              "    </tr>\n",
              "  </thead>\n",
              "  <tbody>\n",
              "    <tr>\n",
              "      <th>0</th>\n",
              "      <td>False</td>\n",
              "    </tr>\n",
              "    <tr>\n",
              "      <th>1</th>\n",
              "      <td>False</td>\n",
              "    </tr>\n",
              "    <tr>\n",
              "      <th>2</th>\n",
              "      <td>False</td>\n",
              "    </tr>\n",
              "    <tr>\n",
              "      <th>3</th>\n",
              "      <td>False</td>\n",
              "    </tr>\n",
              "    <tr>\n",
              "      <th>4</th>\n",
              "      <td>False</td>\n",
              "    </tr>\n",
              "    <tr>\n",
              "      <th>...</th>\n",
              "      <td>...</td>\n",
              "    </tr>\n",
              "    <tr>\n",
              "      <th>27815</th>\n",
              "      <td>False</td>\n",
              "    </tr>\n",
              "    <tr>\n",
              "      <th>27816</th>\n",
              "      <td>False</td>\n",
              "    </tr>\n",
              "    <tr>\n",
              "      <th>27817</th>\n",
              "      <td>False</td>\n",
              "    </tr>\n",
              "    <tr>\n",
              "      <th>27818</th>\n",
              "      <td>False</td>\n",
              "    </tr>\n",
              "    <tr>\n",
              "      <th>27819</th>\n",
              "      <td>False</td>\n",
              "    </tr>\n",
              "  </tbody>\n",
              "</table>\n",
              "<p>27820 rows × 1 columns</p>\n",
              "</div><br><label><b>dtype:</b> bool</label>"
            ]
          },
          "metadata": {},
          "execution_count": 9
        }
      ],
      "source": [
        "master['suicides_per_100k_pop'] == master['suicides_per_100k_pop'].max()"
      ]
    },
    {
      "cell_type": "markdown",
      "metadata": {
        "id": "N9Vl0G8zmPwp"
      },
      "source": [
        "Минимальное значение — ищут методом **min()**. Нам интересно установить случаи, когда уровень суицидов минимальный, но не нулевой.\n",
        "\n",
        "Вот как мы создаём выборку  и находим в ней минимальное значение:\n",
        "\n",
        "**master_drop_null = master[master['suicides/100k pop'] != 0]**\n",
        "\n",
        "**print(master_drop_null['suicides/100k pop'].min())**\n"
      ]
    },
    {
      "cell_type": "code",
      "execution_count": 10,
      "metadata": {
        "id": "kEVhc4XemPwp",
        "colab": {
          "base_uri": "https://localhost:8080/"
        },
        "outputId": "18457ca4-4ebb-4e0c-b0c9-b507af6d050a"
      },
      "outputs": [
        {
          "output_type": "stream",
          "name": "stdout",
          "text": [
            "0.02\n"
          ]
        }
      ],
      "source": [
        "master_drop_null = master[master['suicides_per_100k_pop'] != 0]\n",
        "print(master_drop_null['suicides_per_100k_pop'].min())"
      ]
    },
    {
      "cell_type": "markdown",
      "metadata": {
        "id": "MCZUsvYnmPwp"
      },
      "source": [
        "Получим название самой \"счастливой\" страны. Как и при поиске максимума, воспользуемся условием и логической индексацией"
      ]
    },
    {
      "cell_type": "code",
      "execution_count": 11,
      "metadata": {
        "id": "Ga1fx7rPmPwp",
        "colab": {
          "base_uri": "https://localhost:8080/"
        },
        "outputId": "30a1f16d-c4cd-4fa4-9d52-909f7ddc2839"
      },
      "outputs": [
        {
          "output_type": "stream",
          "name": "stdout",
          "text": [
            "Самая счастливая страна: South Africa\n"
          ]
        }
      ],
      "source": [
        "min_index = master_drop_null['suicides_per_100k_pop'].idxmin()\n",
        "min_suicides_country = master_drop_null.loc[min_index, 'country']\n",
        "print('Самая счастливая страна:', min_suicides_country)"
      ]
    },
    {
      "cell_type": "markdown",
      "metadata": {
        "id": "IRHKrIQGmPwq"
      },
      "source": [
        "Результат вывода — две страны, которые соответствуют минимальному значению.\n",
        "На основе полученных данных можно сделать вывод, что число совершенных самоубийств на 100 тыс. населения  находится в диапазоне от 0,02 до 224.97 секунд, не включая пропущенные.\n",
        "\n",
        "Это знание пригодится, чтобы разобраться с медианой и средним арифметическим.\n",
        "\n",
        "Среднее и медиана оценивают значения в центре выборки. Если тех строк, где число с большим количеством самоубийц, столько же, сколько тех, где это число мало — среднее подойдет. Но когда есть оторванные от основной массы лидеры, их результаты сильно смещают значение среднего вверх. Вот почему оценивать в этом случае лучше медианой.\n",
        "\n",
        "\n",
        "В геометрии медиана делит фигуру на две равные по площади. В статистике она делит выборку пополам: в одной половине значения меньше медианного, в другой больше. Логично, что для определения медианы список обязательно должен быть отсортирован — либо по возрастанию, либо по убыванию.\n",
        "Когда количество значений нечётное, медиана будет равна тому значению, которое оказалось ровно посередине отсортированного набора. Если же количество данных чётное, то медиана рассчитывается как среднее арифметическое двух соседних чисел в середине набора.\n",
        "\n"
      ]
    },
    {
      "cell_type": "markdown",
      "metadata": {
        "id": "VsD9SjnxmPwq"
      },
      "source": [
        "В Pandas есть метод **median()**, который считает медиану. По аналогии с **min()** и **max()** его можно применять ко всей таблице, к отдельному столбцу или к сгруппированным данным. Теперь применим медиану ко всем значениям времени прослушивания в нашей таблице, исключив нулевые:\n",
        "\n"
      ]
    },
    {
      "cell_type": "code",
      "execution_count": 12,
      "metadata": {
        "id": "GzCEYBw1mPwq",
        "colab": {
          "base_uri": "https://localhost:8080/"
        },
        "outputId": "cfeaba2e-2076-4b33-fcd3-23f9ca237741"
      },
      "outputs": [
        {
          "output_type": "stream",
          "name": "stdout",
          "text": [
            "Медиана: 8.26\n"
          ]
        }
      ],
      "source": [
        "print('Медиана:', master_drop_null['suicides_per_100k_pop'].median())"
      ]
    },
    {
      "cell_type": "markdown",
      "metadata": {
        "id": "LVYXy8yKmPwq"
      },
      "source": [
        "Чтобы убедиться, что лидеры действительно смещают средний показатель вверх, найдём среднее арифметическое всех этих значений методом mean():"
      ]
    },
    {
      "cell_type": "code",
      "execution_count": 13,
      "metadata": {
        "id": "TEE2YhCdmPwq",
        "colab": {
          "base_uri": "https://localhost:8080/"
        },
        "outputId": "0ba5092e-105c-4df8-f59b-8c156a5db492"
      },
      "outputs": [
        {
          "output_type": "stream",
          "name": "stdout",
          "text": [
            "Среднее: 15.14694039678831\n"
          ]
        }
      ],
      "source": [
        "print('Среднее:', master[master['suicides_per_100k_pop'] != 0]['suicides_per_100k_pop'].mean())"
      ]
    }
  ],
  "metadata": {
    "kernelspec": {
      "display_name": "Python 3 (ipykernel)",
      "language": "python",
      "name": "python3"
    },
    "language_info": {
      "codemirror_mode": {
        "name": "ipython",
        "version": 3
      },
      "file_extension": ".py",
      "mimetype": "text/x-python",
      "name": "python",
      "nbconvert_exporter": "python",
      "pygments_lexer": "ipython3",
      "version": "3.9.12"
    },
    "colab": {
      "provenance": [],
      "include_colab_link": true
    }
  },
  "nbformat": 4,
  "nbformat_minor": 0
}