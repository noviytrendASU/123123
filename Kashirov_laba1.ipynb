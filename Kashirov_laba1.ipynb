{
  "cells": [
    {
      "cell_type": "markdown",
      "metadata": {
        "id": "view-in-github",
        "colab_type": "text"
      },
      "source": [
        "<a href=\"https://colab.research.google.com/github/noviytrendASU/123123/blob/main/Kashirov_laba1.ipynb\" target=\"_parent\"><img src=\"https://colab.research.google.com/assets/colab-badge.svg\" alt=\"Open In Colab\"/></a>"
      ]
    },
    {
      "cell_type": "markdown",
      "metadata": {
        "id": "d3fFBptm23ks"
      },
      "source": [
        "## Получение данных\n"
      ]
    },
    {
      "cell_type": "markdown",
      "metadata": {
        "id": "38rESAdr23kt"
      },
      "source": [
        "Знакомому формату электронной таблицы Excel в Pandas соответствует структура данных DataFrame. Аналитики обычно называют такие объекты просто DataFrame.\n",
        "В рабочей практике вы столкнётесь с тем, что данные хранят в файлах разных форматов. Из них самый распространённый – CSV (от англ. Comma-Separated Values, «значения, разделённые запятой»). Каждая строка такого файла представляет собой одну строку таблицы, где данные разделены запятыми. В первой строке собраны заголовки столбцов (если они есть).\n",
        "\n",
        "Файлы CSV удобнее всего открывать вызовом метода read_csv() из библиотеки Pandas.\n",
        "Команда для открыия файла имеет вид:\n",
        "**import pandas as pd\n",
        "df = pd.read_csv('music_log.csv') # аргумент - путь к файлу**\n",
        "\n",
        "Теперь все данные из файла можно напечатать на экране командой **print(df)**, но это не всегда нужно делать — не исключено, что таблица огромна и неудобна для изучения. Для знакомства с данными запрашивают несколько строк из начала или конца таблицы, вызывая специальные методы **head()** и **tail()**. По умолчанию **head()** возвращает первые 5 строк набора данных, а метод **tail()** – последние 5 строк. Когда нужно не 5, количество строк передаётся этим методам как аргумент. Например, **head(10)** вернёт первые 10 строк.\n",
        "\n",
        "1. Загрузите базу данных по пассажирам “Титаника”.  https://raw.githubusercontent.com/allatambov/Py-programming-3/master/28-05/Titanic.csv.\n",
        "2. Выведите на печать первые десять строк таблицы.\n",
        "\n",
        "\n"
      ]
    },
    {
      "cell_type": "code",
      "execution_count": 1,
      "metadata": {
        "colab": {
          "base_uri": "https://localhost:8080/"
        },
        "id": "dHP8pVpl23ku",
        "outputId": "7f05246f-4059-471a-a0e0-ca20253ea44e"
      },
      "outputs": [
        {
          "output_type": "stream",
          "name": "stdout",
          "text": [
            "   PassengerId  Survived  Pclass  \\\n",
            "0            1         0       3   \n",
            "1            2         1       1   \n",
            "2            3         1       3   \n",
            "3            4         1       1   \n",
            "4            5         0       3   \n",
            "5            6         0       3   \n",
            "6            7         0       1   \n",
            "7            8         0       3   \n",
            "8            9         1       3   \n",
            "9           10         1       2   \n",
            "\n",
            "                                                Name     Sex   Age  SibSp  \\\n",
            "0                            Braund, Mr. Owen Harris    male  22.0      1   \n",
            "1  Cumings, Mrs. John Bradley (Florence Briggs Th...  female  38.0      1   \n",
            "2                             Heikkinen, Miss. Laina  female  26.0      0   \n",
            "3       Futrelle, Mrs. Jacques Heath (Lily May Peel)  female  35.0      1   \n",
            "4                           Allen, Mr. William Henry    male  35.0      0   \n",
            "5                                   Moran, Mr. James    male   NaN      0   \n",
            "6                            McCarthy, Mr. Timothy J    male  54.0      0   \n",
            "7                     Palsson, Master. Gosta Leonard    male   2.0      3   \n",
            "8  Johnson, Mrs. Oscar W (Elisabeth Vilhelmina Berg)  female  27.0      0   \n",
            "9                Nasser, Mrs. Nicholas (Adele Achem)  female  14.0      1   \n",
            "\n",
            "   Parch            Ticket     Fare Cabin Embarked  \n",
            "0      0         A/5 21171   7.2500   NaN        S  \n",
            "1      0          PC 17599  71.2833   C85        C  \n",
            "2      0  STON/O2. 3101282   7.9250   NaN        S  \n",
            "3      0            113803  53.1000  C123        S  \n",
            "4      0            373450   8.0500   NaN        S  \n",
            "5      0            330877   8.4583   NaN        Q  \n",
            "6      0             17463  51.8625   E46        S  \n",
            "7      1            349909  21.0750   NaN        S  \n",
            "8      2            347742  11.1333   NaN        S  \n",
            "9      0            237736  30.0708   NaN        C  \n"
          ]
        }
      ],
      "source": [
        "import pandas as pd\n",
        "df = pd.read_csv('Titanic.csv')\n",
        "\n",
        "print(df.head(10))"
      ]
    },
    {
      "cell_type": "markdown",
      "metadata": {
        "id": "k_GcFBPp23kv"
      },
      "source": [
        "## Объект DataFrame"
      ]
    },
    {
      "cell_type": "markdown",
      "metadata": {
        "id": "MPDiPtav23kv"
      },
      "source": [
        "Таблица, которую мы получили, хранится в структуре данных DataFrame. DataFrame — это двумерная структура данных Pandas, где у каждого элемента есть две координаты: по строке и по столбцу. Вы видите две оси, которые формируют объект DataFrame. Первая ось называется индексы, вторая ось — столбцы. По умолчанию индексация в DataFrame начинается с нуля.\n",
        "Каждая строка — это одно наблюдение, запись об объекте исследования. А столбцы — признаки объектов. В нашем случае одна строка — это информация об одном пассажире, включая класс, фамилию-имя, возраст и т.д.\n",
        "Подробнее об этом датасете можно почитать здесь http://campus.lakeforest.edu/frank/FILES/MLFfiles/Bio150/Titanic/TitanicMETA.pdf.\n",
        "Для лучшего понимания данных полезно получить доступ к их описанию. Это либо документация со сведениями о содержании каждого столбца, либо – не самый лучший вариант – рассказ человека, который предоставил вам эту информацию.\n",
        "Такое описание поможет нам ставить себе корректные задачи.\n",
        "\n",
        "У DataFrame есть неотъемлемые свойства, значения которых можно запросить. Они называются атрибуты. Например, атрибут columns содержит информацию о названиях столбцов в наборе данных.\n",
        "**print(df.columns)**\n"
      ]
    },
    {
      "cell_type": "code",
      "execution_count": 3,
      "metadata": {
        "id": "erybKvbw23kv",
        "colab": {
          "base_uri": "https://localhost:8080/"
        },
        "outputId": "610ae2ba-a655-4a09-f247-f471e0ba5ead"
      },
      "outputs": [
        {
          "output_type": "stream",
          "name": "stdout",
          "text": [
            "Index(['PassengerId', 'Survived', 'Pclass', 'Name', 'Sex', 'Age', 'SibSp',\n",
            "       'Parch', 'Ticket', 'Fare', 'Cabin', 'Embarked'],\n",
            "      dtype='object')\n"
          ]
        }
      ],
      "source": [
        "print(df.columns)"
      ]
    },
    {
      "cell_type": "markdown",
      "metadata": {
        "id": "64BmXXQr23kv"
      },
      "source": [
        "В данном случае атрибут **columns** вернул список названий столбцов и сообщил, что каждое из них имеет тип данных **object**.\n",
        "Вообще типы данных могут быть разные. Для просмотра типа данных каждого столбца лучше всего использовать атрибут **dtypes**.\n"
      ]
    },
    {
      "cell_type": "code",
      "execution_count": 4,
      "metadata": {
        "id": "pzW4Jh_V23kv",
        "colab": {
          "base_uri": "https://localhost:8080/"
        },
        "outputId": "3b1d1768-111e-43c2-e0ed-ab97bb2eeef7"
      },
      "outputs": [
        {
          "output_type": "stream",
          "name": "stdout",
          "text": [
            "PassengerId      int64\n",
            "Survived         int64\n",
            "Pclass           int64\n",
            "Name            object\n",
            "Sex             object\n",
            "Age            float64\n",
            "SibSp            int64\n",
            "Parch            int64\n",
            "Ticket          object\n",
            "Fare           float64\n",
            "Cabin           object\n",
            "Embarked        object\n",
            "dtype: object\n"
          ]
        }
      ],
      "source": [
        "print(df.dtypes)"
      ]
    },
    {
      "cell_type": "markdown",
      "metadata": {
        "id": "-hyvR67623kw"
      },
      "source": [
        "Типы данных, о которых сообщают нам атрибуты — это типы данных библиотеки Pandas. Каждому из них соответствует определённый тип данных языка Python.\n",
        "Так, для **int** таким «двойником» в Pandas будет **int64**. Тип данных object используется, когда данные не подходят ни под одну категорию или соответствуют в Python типу «строка». Вот таблица соответствия типов данных Pandas и Python:\n",
        "PANDASDTYPE    PYTHON TYPE\t     ЗНАЧЕНИЕ\n",
        "object\t          str \t         Строка\n",
        "int64\t          int\t         Целые числа\n",
        "float64\t         float\t         Вещественные числа\n",
        "bool\t          bool\t         Логический тип данных\n",
        "О размерах таблицы с данными сообщает её атрибут **shape**. В результате получается кортеж (неизменяемый список) из двух чисел: первое – количество строк, второе – количество столбцов.\n"
      ]
    },
    {
      "cell_type": "code",
      "execution_count": 34,
      "metadata": {
        "id": "xS81nbzN23kw",
        "colab": {
          "base_uri": "https://localhost:8080/"
        },
        "outputId": "c5507cb0-aeff-4265-819e-9275ace36536"
      },
      "outputs": [
        {
          "output_type": "stream",
          "name": "stdout",
          "text": [
            "(891, 12)\n"
          ]
        }
      ],
      "source": [
        "print(df.shape)"
      ]
    },
    {
      "cell_type": "markdown",
      "metadata": {
        "id": "4bYi64oE23kw"
      },
      "source": [
        "Всю информацию, которую предоставляют разные атрибуты **DataFrame**, можно получить вызовом одного-единственного метода **info()**. Изучив результаты, которые этот метод возвращает, аналитик выбирает тактику дальнейшей работы с таблицей."
      ]
    },
    {
      "cell_type": "code",
      "execution_count": 6,
      "metadata": {
        "id": "h6TExWBZ23kw",
        "colab": {
          "base_uri": "https://localhost:8080/"
        },
        "outputId": "dd49310a-bca9-471a-f308-83abc05d355d"
      },
      "outputs": [
        {
          "output_type": "stream",
          "name": "stdout",
          "text": [
            "<class 'pandas.core.frame.DataFrame'>\n",
            "RangeIndex: 891 entries, 0 to 890\n",
            "Data columns (total 12 columns):\n",
            " #   Column       Non-Null Count  Dtype  \n",
            "---  ------       --------------  -----  \n",
            " 0   PassengerId  891 non-null    int64  \n",
            " 1   Survived     891 non-null    int64  \n",
            " 2   Pclass       891 non-null    int64  \n",
            " 3   Name         891 non-null    object \n",
            " 4   Sex          891 non-null    object \n",
            " 5   Age          714 non-null    float64\n",
            " 6   SibSp        891 non-null    int64  \n",
            " 7   Parch        891 non-null    int64  \n",
            " 8   Ticket       891 non-null    object \n",
            " 9   Fare         891 non-null    float64\n",
            " 10  Cabin        204 non-null    object \n",
            " 11  Embarked     889 non-null    object \n",
            "dtypes: float64(2), int64(5), object(5)\n",
            "memory usage: 83.7+ KB\n",
            "None\n"
          ]
        }
      ],
      "source": [
        "print(df.info())"
      ]
    },
    {
      "cell_type": "markdown",
      "metadata": {
        "id": "xMkRDFfI23kw"
      },
      "source": [
        "Например, здесь в рахных стольцах разное количество элементов с определёнными значениями (non-null). Следовательно, в таблице есть пропущенные значения (null). Прежде чем анализировать такие данные, их нужно обработать. Это одна из самых интересных задач аналитика, и мы поговорим о ней подробнее в следующей теме."
      ]
    },
    {
      "cell_type": "markdown",
      "metadata": {
        "id": "KGhWaX1B23kw"
      },
      "source": [
        "## Задачи\n",
        "1. Прочитайте файл **student-mat.csv** и сохраните его в переменной **df**. Выведите на экран первые 10 строк таблицы, изучите данныи и описание к таблице. Создайте переменную **shape_table** и сохраните в ней размеры таблицы **student-mat.csv**. Напечатайте на экране размер таблицы в таком виде:\n",
        "Размер таблицы: ...\n",
        "2. Сколько наблюдений в наборе данных? В переменной **shape_table** хранится кортеж. Его первый элемент — количество наблюдений, который надо сохранить в переменной **observations_table** (не забывайте, что индексация элементов идёт с 0). Напечатайте на экране ответ в таком виде:\n",
        "Количество наблюдений: ...\n",
        "3. Найдите в информации, которую вернул метод **info()**, число наблюдений. Вручную присвойте это число как значение переменной **observations_info_table**.\n",
        "4. Поскольку в ходе работы аналитик объявляет разные переменные и сохраняет в них добытую разными способами информацию, запутаться очень легко. Именно поэтому необходимо проверять себя и текущие результаты. Сравните полученные результаты в переменных observations_info_table и observations_table. Если значения переменных совпадают, то выведите количество наблюдений и сообщение:\n",
        "'Решение верно, количество наблюдений равно', observations_table   \n",
        "Если значения переменных не совпадают, то выведите сообщение:\n",
        "'Решение неверно, проверьте ещё раз!'\n"
      ]
    },
    {
      "cell_type": "code",
      "source": [
        "import pandas as pd\n",
        "df = pd.read_csv('student-mat.csv')\n",
        "print(df.head(10))\n",
        "shape_table = df.shape\n",
        "print(\"Размер таблицы:\", shape_table)"
      ],
      "metadata": {
        "colab": {
          "base_uri": "https://localhost:8080/"
        },
        "id": "_uH2EBn_6urJ",
        "outputId": "8d1dc1ae-295b-4e09-816c-1f27b99f681e"
      },
      "execution_count": 9,
      "outputs": [
        {
          "output_type": "stream",
          "name": "stdout",
          "text": [
            "  school sex  age address famsize Pstatus  Medu  Fedu      Mjob      Fjob  \\\n",
            "0     GP   F   18       U     GT3       A     4     4   at_home   teacher   \n",
            "1     GP   F   17       U     GT3       T     1     1   at_home     other   \n",
            "2     GP   F   15       U     LE3       T     1     1   at_home     other   \n",
            "3     GP   F   15       U     GT3       T     4     2    health  services   \n",
            "4     GP   F   16       U     GT3       T     3     3     other     other   \n",
            "5     GP   M   16       U     LE3       T     4     3  services     other   \n",
            "6     GP   M   16       U     LE3       T     2     2     other     other   \n",
            "7     GP   F   17       U     GT3       A     4     4     other   teacher   \n",
            "8     GP   M   15       U     LE3       A     3     2  services     other   \n",
            "9     GP   M   15       U     GT3       T     3     4     other     other   \n",
            "\n",
            "   ... famrel freetime  goout  Dalc  Walc health absences  G1  G2  G3  \n",
            "0  ...      4        3      4     1     1      3        6   5   6   6  \n",
            "1  ...      5        3      3     1     1      3        4   5   5   6  \n",
            "2  ...      4        3      2     2     3      3       10   7   8  10  \n",
            "3  ...      3        2      2     1     1      5        2  15  14  15  \n",
            "4  ...      4        3      2     1     2      5        4   6  10  10  \n",
            "5  ...      5        4      2     1     2      5       10  15  15  15  \n",
            "6  ...      4        4      4     1     1      3        0  12  12  11  \n",
            "7  ...      4        1      4     1     1      1        6   6   5   6  \n",
            "8  ...      4        2      2     1     1      1        0  16  18  19  \n",
            "9  ...      5        5      1     1     1      5        0  14  15  15  \n",
            "\n",
            "[10 rows x 33 columns]\n",
            "Размер таблицы: (395, 33)\n"
          ]
        }
      ]
    },
    {
      "cell_type": "code",
      "source": [
        "shape_table = df.shape\n",
        "observations_table = shape_table [0]\n",
        "print('Количество наблюдений:', observations_table)"
      ],
      "metadata": {
        "colab": {
          "base_uri": "https://localhost:8080/"
        },
        "id": "rPU7G0Tn6vOH",
        "outputId": "4c732139-1e01-41dd-9acf-f1872299c988"
      },
      "execution_count": 10,
      "outputs": [
        {
          "output_type": "stream",
          "name": "stdout",
          "text": [
            "Количество наблюдений: 395\n"
          ]
        }
      ]
    },
    {
      "cell_type": "code",
      "source": [
        "df.info()\n",
        "observations_info_table = 395\n",
        "print(\"Количество наблюдений в таблице info:\", observations_info_table)"
      ],
      "metadata": {
        "colab": {
          "base_uri": "https://localhost:8080/"
        },
        "id": "baPTMsG_6viY",
        "outputId": "f311efeb-2098-4309-9f3d-04cfe303d1e2"
      },
      "execution_count": 11,
      "outputs": [
        {
          "output_type": "stream",
          "name": "stdout",
          "text": [
            "<class 'pandas.core.frame.DataFrame'>\n",
            "RangeIndex: 395 entries, 0 to 394\n",
            "Data columns (total 33 columns):\n",
            " #   Column      Non-Null Count  Dtype \n",
            "---  ------      --------------  ----- \n",
            " 0   school      395 non-null    object\n",
            " 1   sex         395 non-null    object\n",
            " 2   age         395 non-null    int64 \n",
            " 3   address     395 non-null    object\n",
            " 4   famsize     395 non-null    object\n",
            " 5   Pstatus     395 non-null    object\n",
            " 6   Medu        395 non-null    int64 \n",
            " 7   Fedu        395 non-null    int64 \n",
            " 8   Mjob        395 non-null    object\n",
            " 9   Fjob        395 non-null    object\n",
            " 10  reason      395 non-null    object\n",
            " 11  guardian    395 non-null    object\n",
            " 12  traveltime  395 non-null    int64 \n",
            " 13  studytime   395 non-null    int64 \n",
            " 14  failures    395 non-null    int64 \n",
            " 15  schoolsup   395 non-null    object\n",
            " 16  famsup      395 non-null    object\n",
            " 17  paid        395 non-null    object\n",
            " 18  activities  395 non-null    object\n",
            " 19  nursery     395 non-null    object\n",
            " 20  higher      395 non-null    object\n",
            " 21  internet    395 non-null    object\n",
            " 22  romantic    395 non-null    object\n",
            " 23  famrel      395 non-null    int64 \n",
            " 24  freetime    395 non-null    int64 \n",
            " 25  goout       395 non-null    int64 \n",
            " 26  Dalc        395 non-null    int64 \n",
            " 27  Walc        395 non-null    int64 \n",
            " 28  health      395 non-null    int64 \n",
            " 29  absences    395 non-null    int64 \n",
            " 30  G1          395 non-null    int64 \n",
            " 31  G2          395 non-null    int64 \n",
            " 32  G3          395 non-null    int64 \n",
            "dtypes: int64(16), object(17)\n",
            "memory usage: 102.0+ KB\n",
            "Количество наблюдений в таблице info: 395\n"
          ]
        }
      ]
    },
    {
      "cell_type": "code",
      "source": [
        "if observations_info_table == observations_table:\n",
        "  print('Решение верно, количество наблюдений равно', observations_table)\n",
        "else:\n",
        "  print('Решение неверно, проверьте еще раз!')"
      ],
      "metadata": {
        "colab": {
          "base_uri": "https://localhost:8080/"
        },
        "id": "ZdT3dHoP6v1P",
        "outputId": "094adb35-ee26-4353-f180-2b45354383f3"
      },
      "execution_count": 12,
      "outputs": [
        {
          "output_type": "stream",
          "name": "stdout",
          "text": [
            "Решение верно, количество наблюдений равно 395\n"
          ]
        }
      ]
    },
    {
      "cell_type": "markdown",
      "metadata": {
        "id": "MCw-tLL923kw"
      },
      "source": [
        "## Идексация в DataFrame\n",
        "К каждой ячейке с данными в **DataFrame** можно обратиться по её индексу и названию столбца. Мы можем получать различные срезы данных в зависимости от того, какой запрос к **DataFrame** мы сформулируем. Этот процесс называется индексация. Для **DataFrame** она проводится разными способами.\n",
        "Атрибут **loc[строка, столбец]** даёт доступ к элементу по строке и столбцу.\n",
        "\n",
        "ВИД\t                                                  РЕАЛИЗАЦИЯ\n",
        "Одна ячейка\t                                         .loc[7, 'genre']\n",
        "Один столбец\t                                     .loc[:, 'genre']\n",
        "Несколько столбцов                                   .loc[:, ['genre', 'Artist']]\n",
        "Несколько столбцов подряд (срез)\t                 .loc[:, 'user_id': 'genre']\n",
        "Одна строка\t                                         .loc[1]\n",
        "Все строки, начиная с заданной\t                     .loc[1:]\n",
        "Все строки до заданной\t                             .loc[:3]\n",
        "Несколько строк подряд (срез)\t                     .loc[2:5]\n",
        "\n",
        "Также вы могли заметить, что запрос к атрибуту loc[] использует квадратные скобки, это напоминает списки в Python. Индексация здесь очень похожа на индексацию списков.\n",
        "Важное замечание: когда мы используем срезы в списках, то конец среза не включается в результат. А вот атрибут .loc[] тем и выделяется, что включает и начало, и конец среза.\n",
        "Например, есть список исполнителей:\n",
        "\n",
        "**artist = ['Marina Rei', 'Stive Morgan','Rixton','Henry Hall & His Gleneagles Hotel Band', 'Andrew Paul Woodworth', 'Pillar Point','Steve Campbell','David Civera','Lumipa Beats', 'Henning Wehland']**\n",
        "Элементы с 2 по 4 получают запросом:\n",
        "**print(artist[2:5])**\n",
        "['Rixton', 'Henry Hall & His Gleneagles Hotel Band', 'Andrew Paul Woodworth']\n",
        "Последним в запросе указан индекс 5 — именно для того, чтобы в срез попал элемент с индексом 4. Запрос на получение со 2 по 4 строки в таблице будет выглядеть вот так:\n",
        "\n",
        "**print(df.loc[2:4])**\n",
        "Самые ходовые запросы, которые вам предстоит делать как аналитику данных это запрашивать один столбец, одну строку, диапазон столбцов и диапазон строк.\n",
        "Для подсчета количества определенных значений в срезе данных в  Pandas для этого есть метод count().\n",
        "Например, на нужно подсчитать количество детей, младше трех лет на Титанике. Для столбца 'Age' таблицы  такие ячейки отвечают логическому условию df.loc[:,Age']<3.\n",
        "Поскольку в указании, какие именно значения считать, нужен логический оператор, такой доступ к значению ячейки называют логическая индексация.\n",
        "\n"
      ]
    },
    {
      "cell_type": "code",
      "execution_count": 13,
      "metadata": {
        "id": "iS_WAqJa23kx",
        "colab": {
          "base_uri": "https://localhost:8080/"
        },
        "outputId": "22a04e06-c6fc-4230-dac8-3c80dea36e27"
      },
      "outputs": [
        {
          "output_type": "stream",
          "name": "stdout",
          "text": [
            "24\n"
          ]
        }
      ],
      "source": [
        "import pandas as pd\n",
        "df = pd.read_csv('Titanic.csv')\n",
        "print(df.loc[df.loc[:,\"Age\"]<3][\"Age\"].count())"
      ]
    },
    {
      "cell_type": "markdown",
      "metadata": {
        "id": "4hZr6SZ423kx"
      },
      "source": [
        "ВИД\t                                                  РЕАЛИЗАЦИЯ\t                       СОКРАЩЁННАЯ ЗАПИСЬ\n",
        "Все строки, удовлетворяющие условию\t    battle.loc[battle.loc[:,'В'] == 'X']\t        battle[battle['В'] == 'X']\n",
        "Столбец, удовлетворяющий условию\t   battle.loc[battle.loc[:,'В'] == 'X']['В']\t    battle[battle['В'] == 'X']['В']\n",
        "Применение метода\t              battle.loc[battle.loc[:,'В'] == 'X']['В'].count()\t    battle[battle['В'] == 'X']['В'].count()\n"
      ]
    },
    {
      "cell_type": "markdown",
      "metadata": {
        "id": "fFNQaSTw23kx"
      },
      "source": [
        "## Задачи\n",
        "1. Получите таблицу, состоящую из столбцов Medu и Fedu. Сохраните её в переменной parents. Выведите на экран превые 20 строк.\n",
        "2. Посчитайте число матерей студентов с высшим образованием. Для этого лучше всего использовать логическое условие parents ['Medu'] == 4. Сохраните результат в переменной mother_hight. Напечатайте ответ на экране в таком виде:\n",
        "Число матерей с высшим образованием равно ...\n",
        "\n",
        "3. Теперь посчитайте число отцов студентов с высшим образованием. Допишите в код подсчёт, похожий на предыдущий, только с логическим условием parents ['Fedu'] == 4.. Сохраните результат в переменной father_hight. Напечатайте ответ на экране в таком виде:\n",
        "Число отцов с высшим образованием равно ...\n",
        "4. Напишите условную конструкцию, которая сравнивает полученные значения и выводит информацию о победителе в этом бою!))"
      ]
    },
    {
      "cell_type": "code",
      "source": [
        "import pandas as pd\n",
        "df = pd.read_csv('student-mat.csv')\n",
        "parents=df.loc[:,['Medu', 'Fedu']]\n",
        "print(df.head(20))"
      ],
      "metadata": {
        "colab": {
          "base_uri": "https://localhost:8080/"
        },
        "id": "ZRJv4T0l-v7Q",
        "outputId": "8a54d089-cd28-474a-cef1-a077b273f168"
      },
      "execution_count": 14,
      "outputs": [
        {
          "output_type": "stream",
          "name": "stdout",
          "text": [
            "   school sex  age address famsize Pstatus  Medu  Fedu      Mjob      Fjob  \\\n",
            "0      GP   F   18       U     GT3       A     4     4   at_home   teacher   \n",
            "1      GP   F   17       U     GT3       T     1     1   at_home     other   \n",
            "2      GP   F   15       U     LE3       T     1     1   at_home     other   \n",
            "3      GP   F   15       U     GT3       T     4     2    health  services   \n",
            "4      GP   F   16       U     GT3       T     3     3     other     other   \n",
            "5      GP   M   16       U     LE3       T     4     3  services     other   \n",
            "6      GP   M   16       U     LE3       T     2     2     other     other   \n",
            "7      GP   F   17       U     GT3       A     4     4     other   teacher   \n",
            "8      GP   M   15       U     LE3       A     3     2  services     other   \n",
            "9      GP   M   15       U     GT3       T     3     4     other     other   \n",
            "10     GP   F   15       U     GT3       T     4     4   teacher    health   \n",
            "11     GP   F   15       U     GT3       T     2     1  services     other   \n",
            "12     GP   M   15       U     LE3       T     4     4    health  services   \n",
            "13     GP   M   15       U     GT3       T     4     3   teacher     other   \n",
            "14     GP   M   15       U     GT3       A     2     2     other     other   \n",
            "15     GP   F   16       U     GT3       T     4     4    health     other   \n",
            "16     GP   F   16       U     GT3       T     4     4  services  services   \n",
            "17     GP   F   16       U     GT3       T     3     3     other     other   \n",
            "18     GP   M   17       U     GT3       T     3     2  services  services   \n",
            "19     GP   M   16       U     LE3       T     4     3    health     other   \n",
            "\n",
            "    ... famrel freetime  goout  Dalc  Walc health absences  G1  G2  G3  \n",
            "0   ...      4        3      4     1     1      3        6   5   6   6  \n",
            "1   ...      5        3      3     1     1      3        4   5   5   6  \n",
            "2   ...      4        3      2     2     3      3       10   7   8  10  \n",
            "3   ...      3        2      2     1     1      5        2  15  14  15  \n",
            "4   ...      4        3      2     1     2      5        4   6  10  10  \n",
            "5   ...      5        4      2     1     2      5       10  15  15  15  \n",
            "6   ...      4        4      4     1     1      3        0  12  12  11  \n",
            "7   ...      4        1      4     1     1      1        6   6   5   6  \n",
            "8   ...      4        2      2     1     1      1        0  16  18  19  \n",
            "9   ...      5        5      1     1     1      5        0  14  15  15  \n",
            "10  ...      3        3      3     1     2      2        0  10   8   9  \n",
            "11  ...      5        2      2     1     1      4        4  10  12  12  \n",
            "12  ...      4        3      3     1     3      5        2  14  14  14  \n",
            "13  ...      5        4      3     1     2      3        2  10  10  11  \n",
            "14  ...      4        5      2     1     1      3        0  14  16  16  \n",
            "15  ...      4        4      4     1     2      2        4  14  14  14  \n",
            "16  ...      3        2      3     1     2      2        6  13  14  14  \n",
            "17  ...      5        3      2     1     1      4        4   8  10  10  \n",
            "18  ...      5        5      5     2     4      5       16   6   5   5  \n",
            "19  ...      3        1      3     1     3      5        4   8  10  10  \n",
            "\n",
            "[20 rows x 33 columns]\n"
          ]
        }
      ]
    },
    {
      "cell_type": "code",
      "source": [
        "mother_hight=parents.loc[parents.loc[:,\"Medu\"] == 4][\"Medu\"].count()\n",
        "print('Число матерей с высшим образованием', mother_hight)"
      ],
      "metadata": {
        "colab": {
          "base_uri": "https://localhost:8080/"
        },
        "id": "z7wcceru-v0v",
        "outputId": "c27110fa-01c8-41c9-cc12-54b596cf07a6"
      },
      "execution_count": 15,
      "outputs": [
        {
          "output_type": "stream",
          "name": "stdout",
          "text": [
            "Число матерей с высшим образованием 131\n"
          ]
        }
      ]
    },
    {
      "cell_type": "code",
      "source": [
        "father_hight=parents.loc[parents.loc[:,\"Fedu\"] == 4][\"Fedu\"].count()\n",
        "print('Число отцов с высшим образованием', father_hight)"
      ],
      "metadata": {
        "colab": {
          "base_uri": "https://localhost:8080/"
        },
        "id": "FCoHfmOA-vtv",
        "outputId": "79c954e9-d79e-455a-b11c-442227e072e6"
      },
      "execution_count": 16,
      "outputs": [
        {
          "output_type": "stream",
          "name": "stdout",
          "text": [
            "Число отцов с высшим образованием 96\n"
          ]
        }
      ]
    },
    {
      "cell_type": "code",
      "source": [
        "if mother_hight>father_hight:\n",
        "    print('Мамы победили!')\n",
        "else:\n",
        "    print('Папы победили!')"
      ],
      "metadata": {
        "colab": {
          "base_uri": "https://localhost:8080/"
        },
        "id": "Ts0uK-SE-vlw",
        "outputId": "be3c77e4-53a0-434f-826d-edac48310cc6"
      },
      "execution_count": 17,
      "outputs": [
        {
          "output_type": "stream",
          "name": "stdout",
          "text": [
            "Мамы победили!\n"
          ]
        }
      ]
    },
    {
      "cell_type": "markdown",
      "metadata": {
        "id": "7YV4YUu623kx"
      },
      "source": [
        "## Объект Series"
      ]
    },
    {
      "cell_type": "markdown",
      "metadata": {
        "id": "TlyrMBcE23kx"
      },
      "source": [
        "В таблице, которую мы рассматривали весь прошлый урок, каждый столбец сам по себе — вовсе не структура данных DataFrame."
      ]
    },
    {
      "cell_type": "code",
      "execution_count": 18,
      "metadata": {
        "id": "aBOdWQBv23kx",
        "outputId": "59406736-a700-4d6d-be0b-df27b86195ca",
        "colab": {
          "base_uri": "https://localhost:8080/",
          "height": 204
        }
      },
      "outputs": [
        {
          "output_type": "execute_result",
          "data": {
            "text/plain": [
              "pandas.core.frame.DataFrame"
            ],
            "text/html": [
              "<div style=\"max-width:800px; border: 1px solid var(--colab-border-color);\"><style>\n",
              "      pre.function-repr-contents {\n",
              "        overflow-x: auto;\n",
              "        padding: 8px 12px;\n",
              "        max-height: 500px;\n",
              "      }\n",
              "\n",
              "      pre.function-repr-contents.function-repr-contents-collapsed {\n",
              "        cursor: pointer;\n",
              "        max-height: 100px;\n",
              "      }\n",
              "    </style>\n",
              "    <pre style=\"white-space: initial; background:\n",
              "         var(--colab-secondary-surface-color); padding: 8px 12px;\n",
              "         border-bottom: 1px solid var(--colab-border-color);\"><b>pandas.core.frame.DataFrame</b><br/>def __init__(data=None, index: Axes | None=None, columns: Axes | None=None, dtype: Dtype | None=None, copy: bool | None=None) -&gt; None</pre><pre class=\"function-repr-contents function-repr-contents-collapsed\" style=\"\"><a class=\"filepath\" style=\"display:none\" href=\"#\">/usr/local/lib/python3.10/dist-packages/pandas/core/frame.py</a>Two-dimensional, size-mutable, potentially heterogeneous tabular data.\n",
              "\n",
              "Data structure also contains labeled axes (rows and columns).\n",
              "Arithmetic operations align on both row and column labels. Can be\n",
              "thought of as a dict-like container for Series objects. The primary\n",
              "pandas data structure.\n",
              "\n",
              "Parameters\n",
              "----------\n",
              "data : ndarray (structured or homogeneous), Iterable, dict, or DataFrame\n",
              "    Dict can contain Series, arrays, constants, dataclass or list-like objects. If\n",
              "    data is a dict, column order follows insertion-order. If a dict contains Series\n",
              "    which have an index defined, it is aligned by its index. This alignment also\n",
              "    occurs if data is a Series or a DataFrame itself. Alignment is done on\n",
              "    Series/DataFrame inputs.\n",
              "\n",
              "    If data is a list of dicts, column order follows insertion-order.\n",
              "\n",
              "index : Index or array-like\n",
              "    Index to use for resulting frame. Will default to RangeIndex if\n",
              "    no indexing information part of input data and no index provided.\n",
              "columns : Index or array-like\n",
              "    Column labels to use for resulting frame when data does not have them,\n",
              "    defaulting to RangeIndex(0, 1, 2, ..., n). If data contains column labels,\n",
              "    will perform column selection instead.\n",
              "dtype : dtype, default None\n",
              "    Data type to force. Only a single dtype is allowed. If None, infer.\n",
              "copy : bool or None, default None\n",
              "    Copy data from inputs.\n",
              "    For dict data, the default of None behaves like ``copy=True``.  For DataFrame\n",
              "    or 2d ndarray input, the default of None behaves like ``copy=False``.\n",
              "    If data is a dict containing one or more Series (possibly of different dtypes),\n",
              "    ``copy=False`` will ensure that these inputs are not copied.\n",
              "\n",
              "    .. versionchanged:: 1.3.0\n",
              "\n",
              "See Also\n",
              "--------\n",
              "DataFrame.from_records : Constructor from tuples, also record arrays.\n",
              "DataFrame.from_dict : From dicts of Series, arrays, or dicts.\n",
              "read_csv : Read a comma-separated values (csv) file into DataFrame.\n",
              "read_table : Read general delimited file into DataFrame.\n",
              "read_clipboard : Read text from clipboard into DataFrame.\n",
              "\n",
              "Notes\n",
              "-----\n",
              "Please reference the :ref:`User Guide &lt;basics.dataframe&gt;` for more information.\n",
              "\n",
              "Examples\n",
              "--------\n",
              "Constructing DataFrame from a dictionary.\n",
              "\n",
              "&gt;&gt;&gt; d = {&#x27;col1&#x27;: [1, 2], &#x27;col2&#x27;: [3, 4]}\n",
              "&gt;&gt;&gt; df = pd.DataFrame(data=d)\n",
              "&gt;&gt;&gt; df\n",
              "   col1  col2\n",
              "0     1     3\n",
              "1     2     4\n",
              "\n",
              "Notice that the inferred dtype is int64.\n",
              "\n",
              "&gt;&gt;&gt; df.dtypes\n",
              "col1    int64\n",
              "col2    int64\n",
              "dtype: object\n",
              "\n",
              "To enforce a single dtype:\n",
              "\n",
              "&gt;&gt;&gt; df = pd.DataFrame(data=d, dtype=np.int8)\n",
              "&gt;&gt;&gt; df.dtypes\n",
              "col1    int8\n",
              "col2    int8\n",
              "dtype: object\n",
              "\n",
              "Constructing DataFrame from a dictionary including Series:\n",
              "\n",
              "&gt;&gt;&gt; d = {&#x27;col1&#x27;: [0, 1, 2, 3], &#x27;col2&#x27;: pd.Series([2, 3], index=[2, 3])}\n",
              "&gt;&gt;&gt; pd.DataFrame(data=d, index=[0, 1, 2, 3])\n",
              "   col1  col2\n",
              "0     0   NaN\n",
              "1     1   NaN\n",
              "2     2   2.0\n",
              "3     3   3.0\n",
              "\n",
              "Constructing DataFrame from numpy ndarray:\n",
              "\n",
              "&gt;&gt;&gt; df2 = pd.DataFrame(np.array([[1, 2, 3], [4, 5, 6], [7, 8, 9]]),\n",
              "...                    columns=[&#x27;a&#x27;, &#x27;b&#x27;, &#x27;c&#x27;])\n",
              "&gt;&gt;&gt; df2\n",
              "   a  b  c\n",
              "0  1  2  3\n",
              "1  4  5  6\n",
              "2  7  8  9\n",
              "\n",
              "Constructing DataFrame from a numpy ndarray that has labeled columns:\n",
              "\n",
              "&gt;&gt;&gt; data = np.array([(1, 2, 3), (4, 5, 6), (7, 8, 9)],\n",
              "...                 dtype=[(&quot;a&quot;, &quot;i4&quot;), (&quot;b&quot;, &quot;i4&quot;), (&quot;c&quot;, &quot;i4&quot;)])\n",
              "&gt;&gt;&gt; df3 = pd.DataFrame(data, columns=[&#x27;c&#x27;, &#x27;a&#x27;])\n",
              "...\n",
              "&gt;&gt;&gt; df3\n",
              "   c  a\n",
              "0  3  1\n",
              "1  6  4\n",
              "2  9  7\n",
              "\n",
              "Constructing DataFrame from dataclass:\n",
              "\n",
              "&gt;&gt;&gt; from dataclasses import make_dataclass\n",
              "&gt;&gt;&gt; Point = make_dataclass(&quot;Point&quot;, [(&quot;x&quot;, int), (&quot;y&quot;, int)])\n",
              "&gt;&gt;&gt; pd.DataFrame([Point(0, 0), Point(0, 3), Point(2, 3)])\n",
              "   x  y\n",
              "0  0  0\n",
              "1  0  3\n",
              "2  2  3\n",
              "\n",
              "Constructing DataFrame from Series/DataFrame:\n",
              "\n",
              "&gt;&gt;&gt; ser = pd.Series([1, 2, 3], index=[&quot;a&quot;, &quot;b&quot;, &quot;c&quot;])\n",
              "&gt;&gt;&gt; df = pd.DataFrame(data=ser, index=[&quot;a&quot;, &quot;c&quot;])\n",
              "&gt;&gt;&gt; df\n",
              "   0\n",
              "a  1\n",
              "c  3\n",
              "\n",
              "&gt;&gt;&gt; df1 = pd.DataFrame([1, 2, 3], index=[&quot;a&quot;, &quot;b&quot;, &quot;c&quot;], columns=[&quot;x&quot;])\n",
              "&gt;&gt;&gt; df2 = pd.DataFrame(data=df1, index=[&quot;a&quot;, &quot;c&quot;])\n",
              "&gt;&gt;&gt; df2\n",
              "   x\n",
              "a  1\n",
              "c  3</pre>\n",
              "      <script>\n",
              "      if (google.colab.kernel.accessAllowed && google.colab.files && google.colab.files.view) {\n",
              "        for (const element of document.querySelectorAll('.filepath')) {\n",
              "          element.style.display = 'block'\n",
              "          element.onclick = (event) => {\n",
              "            event.preventDefault();\n",
              "            event.stopPropagation();\n",
              "            google.colab.files.view(element.textContent, 491);\n",
              "          };\n",
              "        }\n",
              "      }\n",
              "      for (const element of document.querySelectorAll('.function-repr-contents')) {\n",
              "        element.onclick = (event) => {\n",
              "          event.preventDefault();\n",
              "          event.stopPropagation();\n",
              "          element.classList.toggle('function-repr-contents-collapsed');\n",
              "        };\n",
              "      }\n",
              "      </script>\n",
              "      </div>"
            ]
          },
          "metadata": {},
          "execution_count": 18
        }
      ],
      "source": [
        "import pandas as pd\n",
        "df = pd.read_csv('Titanic.csv')\n",
        "type(df) #Таблица всё так же имеет тип DataFrame.\n"
      ]
    },
    {
      "cell_type": "code",
      "execution_count": 19,
      "metadata": {
        "id": "z6E1sfZ523kx",
        "outputId": "49b645be-8674-42ed-c3d9-d3ee60739828",
        "colab": {
          "base_uri": "https://localhost:8080/",
          "height": 204
        }
      },
      "outputs": [
        {
          "output_type": "execute_result",
          "data": {
            "text/plain": [
              "pandas.core.series.Series"
            ],
            "text/html": [
              "<div style=\"max-width:800px; border: 1px solid var(--colab-border-color);\"><style>\n",
              "      pre.function-repr-contents {\n",
              "        overflow-x: auto;\n",
              "        padding: 8px 12px;\n",
              "        max-height: 500px;\n",
              "      }\n",
              "\n",
              "      pre.function-repr-contents.function-repr-contents-collapsed {\n",
              "        cursor: pointer;\n",
              "        max-height: 100px;\n",
              "      }\n",
              "    </style>\n",
              "    <pre style=\"white-space: initial; background:\n",
              "         var(--colab-secondary-surface-color); padding: 8px 12px;\n",
              "         border-bottom: 1px solid var(--colab-border-color);\"><b>pandas.core.series.Series</b><br/>def __init__(data=None, index=None, dtype: Dtype | None=None, name=None, copy: bool | None=None, fastpath: bool=False) -&gt; None</pre><pre class=\"function-repr-contents function-repr-contents-collapsed\" style=\"\"><a class=\"filepath\" style=\"display:none\" href=\"#\">/usr/local/lib/python3.10/dist-packages/pandas/core/series.py</a>One-dimensional ndarray with axis labels (including time series).\n",
              "\n",
              "Labels need not be unique but must be a hashable type. The object\n",
              "supports both integer- and label-based indexing and provides a host of\n",
              "methods for performing operations involving the index. Statistical\n",
              "methods from ndarray have been overridden to automatically exclude\n",
              "missing data (currently represented as NaN).\n",
              "\n",
              "Operations between Series (+, -, /, \\*, \\*\\*) align values based on their\n",
              "associated index values-- they need not be the same length. The result\n",
              "index will be the sorted union of the two indexes.\n",
              "\n",
              "Parameters\n",
              "----------\n",
              "data : array-like, Iterable, dict, or scalar value\n",
              "    Contains data stored in Series. If data is a dict, argument order is\n",
              "    maintained.\n",
              "index : array-like or Index (1d)\n",
              "    Values must be hashable and have the same length as `data`.\n",
              "    Non-unique index values are allowed. Will default to\n",
              "    RangeIndex (0, 1, 2, ..., n) if not provided. If data is dict-like\n",
              "    and index is None, then the keys in the data are used as the index. If the\n",
              "    index is not None, the resulting Series is reindexed with the index values.\n",
              "dtype : str, numpy.dtype, or ExtensionDtype, optional\n",
              "    Data type for the output Series. If not specified, this will be\n",
              "    inferred from `data`.\n",
              "    See the :ref:`user guide &lt;basics.dtypes&gt;` for more usages.\n",
              "name : Hashable, default None\n",
              "    The name to give to the Series.\n",
              "copy : bool, default False\n",
              "    Copy input data. Only affects Series or 1d ndarray input. See examples.\n",
              "\n",
              "Notes\n",
              "-----\n",
              "Please reference the :ref:`User Guide &lt;basics.series&gt;` for more information.\n",
              "\n",
              "Examples\n",
              "--------\n",
              "Constructing Series from a dictionary with an Index specified\n",
              "\n",
              "&gt;&gt;&gt; d = {&#x27;a&#x27;: 1, &#x27;b&#x27;: 2, &#x27;c&#x27;: 3}\n",
              "&gt;&gt;&gt; ser = pd.Series(data=d, index=[&#x27;a&#x27;, &#x27;b&#x27;, &#x27;c&#x27;])\n",
              "&gt;&gt;&gt; ser\n",
              "a   1\n",
              "b   2\n",
              "c   3\n",
              "dtype: int64\n",
              "\n",
              "The keys of the dictionary match with the Index values, hence the Index\n",
              "values have no effect.\n",
              "\n",
              "&gt;&gt;&gt; d = {&#x27;a&#x27;: 1, &#x27;b&#x27;: 2, &#x27;c&#x27;: 3}\n",
              "&gt;&gt;&gt; ser = pd.Series(data=d, index=[&#x27;x&#x27;, &#x27;y&#x27;, &#x27;z&#x27;])\n",
              "&gt;&gt;&gt; ser\n",
              "x   NaN\n",
              "y   NaN\n",
              "z   NaN\n",
              "dtype: float64\n",
              "\n",
              "Note that the Index is first build with the keys from the dictionary.\n",
              "After this the Series is reindexed with the given Index values, hence we\n",
              "get all NaN as a result.\n",
              "\n",
              "Constructing Series from a list with `copy=False`.\n",
              "\n",
              "&gt;&gt;&gt; r = [1, 2]\n",
              "&gt;&gt;&gt; ser = pd.Series(r, copy=False)\n",
              "&gt;&gt;&gt; ser.iloc[0] = 999\n",
              "&gt;&gt;&gt; r\n",
              "[1, 2]\n",
              "&gt;&gt;&gt; ser\n",
              "0    999\n",
              "1      2\n",
              "dtype: int64\n",
              "\n",
              "Due to input data type the Series has a `copy` of\n",
              "the original data even though `copy=False`, so\n",
              "the data is unchanged.\n",
              "\n",
              "Constructing Series from a 1d ndarray with `copy=False`.\n",
              "\n",
              "&gt;&gt;&gt; r = np.array([1, 2])\n",
              "&gt;&gt;&gt; ser = pd.Series(r, copy=False)\n",
              "&gt;&gt;&gt; ser.iloc[0] = 999\n",
              "&gt;&gt;&gt; r\n",
              "array([999,   2])\n",
              "&gt;&gt;&gt; ser\n",
              "0    999\n",
              "1      2\n",
              "dtype: int64\n",
              "\n",
              "Due to input data type the Series has a `view` on\n",
              "the original data, so\n",
              "the data is changed as well.</pre>\n",
              "      <script>\n",
              "      if (google.colab.kernel.accessAllowed && google.colab.files && google.colab.files.view) {\n",
              "        for (const element of document.querySelectorAll('.filepath')) {\n",
              "          element.style.display = 'block'\n",
              "          element.onclick = (event) => {\n",
              "            event.preventDefault();\n",
              "            event.stopPropagation();\n",
              "            google.colab.files.view(element.textContent, 245);\n",
              "          };\n",
              "        }\n",
              "      }\n",
              "      for (const element of document.querySelectorAll('.function-repr-contents')) {\n",
              "        element.onclick = (event) => {\n",
              "          event.preventDefault();\n",
              "          event.stopPropagation();\n",
              "          element.classList.toggle('function-repr-contents-collapsed');\n",
              "        };\n",
              "      }\n",
              "      </script>\n",
              "      </div>"
            ]
          },
          "metadata": {},
          "execution_count": 19
        }
      ],
      "source": [
        "import pandas as pd\n",
        "df = pd.read_csv('Titanic.csv')\n",
        "type(df[\"Age\"]) #Но если мы возьмём отдельный столбец таблицы, то он представляет собой совсем иную структуру данных — Series."
      ]
    },
    {
      "cell_type": "markdown",
      "metadata": {
        "id": "78ojQEI723ky"
      },
      "source": [
        "Series — одномерная таблица, и её элементы можно получить по индексу. Каждый индекс — это номер отдельного наблюдения, и поэтому несколько различных Series вместе составляют DataFrame. В Series хранятся данные одного типа. У каждой Series есть имя (Name), информация о количестве данных в столбце (Length) и тип данных, которые хранятся в ней (dtype)."
      ]
    },
    {
      "cell_type": "code",
      "execution_count": 20,
      "metadata": {
        "id": "8IiZ63VY23ky",
        "outputId": "a957d83b-ef87-4328-a444-d518c1345aca",
        "colab": {
          "base_uri": "https://localhost:8080/"
        }
      },
      "outputs": [
        {
          "output_type": "stream",
          "name": "stdout",
          "text": [
            "0      22.0\n",
            "1      38.0\n",
            "2      26.0\n",
            "3      35.0\n",
            "4      35.0\n",
            "       ... \n",
            "886    27.0\n",
            "887    19.0\n",
            "888     NaN\n",
            "889    26.0\n",
            "890    32.0\n",
            "Name: Age, Length: 891, dtype: float64\n"
          ]
        }
      ],
      "source": [
        "print(df['Age'])"
      ]
    },
    {
      "cell_type": "markdown",
      "metadata": {
        "id": "YYbRIZem23ky"
      },
      "source": [
        "Индексация в Series аналогична индексации элементов столбца в DataFrame. Давайте рассмотрим на примере. Сохраним столбец Age в переменной age."
      ]
    },
    {
      "cell_type": "code",
      "execution_count": 21,
      "metadata": {
        "id": "E8mudr5623ky"
      },
      "outputs": [],
      "source": [
        "age=df.loc[:,'Age']"
      ]
    },
    {
      "cell_type": "code",
      "execution_count": 22,
      "metadata": {
        "id": "U31y1H4U23ky",
        "outputId": "55cddf96-4ff2-4eaa-c9f6-9000e81e71f6",
        "colab": {
          "base_uri": "https://localhost:8080/"
        }
      },
      "outputs": [
        {
          "output_type": "stream",
          "name": "stdout",
          "text": [
            "54.0\n"
          ]
        }
      ],
      "source": [
        "#Для получения пятого по индексу элемента укажем 5 в квадратных скобках.\n",
        "print(age[6])\n"
      ]
    },
    {
      "cell_type": "code",
      "execution_count": 23,
      "metadata": {
        "id": "ZA18ytrM23ky",
        "outputId": "24381b64-2482-46bd-9aac-82935b035097",
        "colab": {
          "base_uri": "https://localhost:8080/"
        }
      },
      "outputs": [
        {
          "output_type": "stream",
          "name": "stdout",
          "text": [
            "10     4.0\n",
            "11    58.0\n",
            "12    20.0\n",
            "13    39.0\n",
            "14    14.0\n",
            "15    55.0\n",
            "16     2.0\n",
            "17     NaN\n",
            "18    31.0\n",
            "19     NaN\n",
            "20    35.0\n",
            "Name: Age, dtype: float64\n"
          ]
        }
      ],
      "source": [
        "#Если надо получить диапазон ячеек, запросите атрибут loc с границами среза в квадратных скобках.\n",
        "print(age.loc[10:20])"
      ]
    },
    {
      "cell_type": "markdown",
      "metadata": {
        "id": "SRC15MnB23ky"
      },
      "source": [
        "ВИД\t                              РЕАЛИЗАЦИЯ\t                                         СОКРАЩЁННАЯ ЗАПИСЬ\n",
        "Один элемент\t                    total_play.loc[7]\t                                      total_play[7]\n",
        "Несколько элементов\t                total_play.loc[[5, 7, 10]]\t                          total_play[[5, 7, 10]]\n",
        "Несколько элементов подряд (срез)\ttotal_play.loc[5:10] включая 10                       total_play[5:10] не включая 10\n",
        "Все элементы, начиная с заданного\ttotal_play.loc[1:]\t                                  total_play[1:]\n",
        "Все элементы до заданного\t        total_play.loc[:3] включая 3\t                      total_play[:3] не включая 3\n"
      ]
    },
    {
      "cell_type": "markdown",
      "metadata": {
        "id": "_Ey9Ma8W23kz"
      },
      "source": [
        "Для Series также возможна логическая индексация. Рассмотрим такие примеры. Подсчитаем количествщ выживших мужчин и женщин на корабле."
      ]
    },
    {
      "cell_type": "markdown",
      "metadata": {
        "id": "jM8MYQcB23k0"
      },
      "source": [
        "1. Получим таблицу только с женщинами и сохраним ее в переменной women."
      ]
    },
    {
      "cell_type": "code",
      "execution_count": 24,
      "metadata": {
        "id": "ae_-xjMs23k0",
        "colab": {
          "base_uri": "https://localhost:8080/"
        },
        "outputId": "594c4413-54a2-48ad-b0ff-68762f3a40f9"
      },
      "outputs": [
        {
          "output_type": "stream",
          "name": "stdout",
          "text": [
            "    PassengerId  Survived  Pclass  \\\n",
            "1             2         1       1   \n",
            "2             3         1       3   \n",
            "3             4         1       1   \n",
            "8             9         1       3   \n",
            "9            10         1       2   \n",
            "10           11         1       3   \n",
            "11           12         1       1   \n",
            "14           15         0       3   \n",
            "15           16         1       2   \n",
            "18           19         0       3   \n",
            "\n",
            "                                                 Name     Sex   Age  SibSp  \\\n",
            "1   Cumings, Mrs. John Bradley (Florence Briggs Th...  female  38.0      1   \n",
            "2                              Heikkinen, Miss. Laina  female  26.0      0   \n",
            "3        Futrelle, Mrs. Jacques Heath (Lily May Peel)  female  35.0      1   \n",
            "8   Johnson, Mrs. Oscar W (Elisabeth Vilhelmina Berg)  female  27.0      0   \n",
            "9                 Nasser, Mrs. Nicholas (Adele Achem)  female  14.0      1   \n",
            "10                    Sandstrom, Miss. Marguerite Rut  female   4.0      1   \n",
            "11                           Bonnell, Miss. Elizabeth  female  58.0      0   \n",
            "14               Vestrom, Miss. Hulda Amanda Adolfina  female  14.0      0   \n",
            "15                   Hewlett, Mrs. (Mary D Kingcome)   female  55.0      0   \n",
            "18  Vander Planke, Mrs. Julius (Emelia Maria Vande...  female  31.0      1   \n",
            "\n",
            "    Parch            Ticket     Fare Cabin Embarked  \n",
            "1       0          PC 17599  71.2833   C85        C  \n",
            "2       0  STON/O2. 3101282   7.9250   NaN        S  \n",
            "3       0            113803  53.1000  C123        S  \n",
            "8       2            347742  11.1333   NaN        S  \n",
            "9       0            237736  30.0708   NaN        C  \n",
            "10      1           PP 9549  16.7000    G6        S  \n",
            "11      0            113783  26.5500  C103        S  \n",
            "14      0            350406   7.8542   NaN        S  \n",
            "15      0            248706  16.0000   NaN        S  \n",
            "18      0            345763  18.0000   NaN        S  \n"
          ]
        }
      ],
      "source": [
        "women=df.loc[df['Sex']=='female']\n",
        "print(women.head(10))"
      ]
    },
    {
      "cell_type": "markdown",
      "metadata": {
        "id": "JY2W3CX_23k0"
      },
      "source": [
        "Выделим информацию с выжившими женщинами в особую структуру данных. Сохраним столбец Survived таблицы women в переменной women_life"
      ]
    },
    {
      "cell_type": "code",
      "execution_count": 25,
      "metadata": {
        "id": "RR_bemnf23k0",
        "colab": {
          "base_uri": "https://localhost:8080/"
        },
        "outputId": "193aa35f-aa34-44e7-83fd-be0043b103d2"
      },
      "outputs": [
        {
          "output_type": "stream",
          "name": "stdout",
          "text": [
            "1      1\n",
            "2      1\n",
            "3      1\n",
            "8      1\n",
            "9      1\n",
            "      ..\n",
            "880    1\n",
            "882    0\n",
            "885    0\n",
            "887    1\n",
            "888    0\n",
            "Name: Survived, Length: 314, dtype: int64\n"
          ]
        }
      ],
      "source": [
        "women_life=women.loc[:,'Survived']\n",
        "print(women_life)"
      ]
    },
    {
      "cell_type": "markdown",
      "metadata": {
        "id": "-maSq7vC23k1"
      },
      "source": [
        "Обратимся к новой переменной women_life и подсчитаем количество выживших женщин"
      ]
    },
    {
      "cell_type": "code",
      "execution_count": 26,
      "metadata": {
        "id": "vB2Mw7hY23k1",
        "colab": {
          "base_uri": "https://localhost:8080/"
        },
        "outputId": "28d1b530-3859-4a15-c045-639d06f7f559"
      },
      "outputs": [
        {
          "output_type": "stream",
          "name": "stdout",
          "text": [
            "Количество выживших женщин равно 233\n"
          ]
        }
      ],
      "source": [
        "quantity_women=women_life.loc[women_life==1].count()\n",
        "print('Количество выживших женщин равно', quantity_women)"
      ]
    },
    {
      "cell_type": "markdown",
      "metadata": {
        "id": "-17vcoN323k1"
      },
      "source": [
        "## Задачи\n",
        "1. Теперь по аналогии создайте Series, где хранятся данные только о выживаемости мужчин. Назовите его men_life и сохраните в нем данные столбца Survived.\n",
        "2. Обратитесь к созданной переменной для подсчета выживших мужчин. Сохраните результат в переменной quantity_men и напечатайте на экране в виде **Количество выживших женщин равно...**.\n",
        "3. Для обои полов посчитайте долю выживших в процентах. Разделите количество выживших на общее количество мужчин и женщин. Выведите значения новых переменных в процентах с точностью до одного знака после запятой."
      ]
    },
    {
      "cell_type": "code",
      "execution_count": 27,
      "metadata": {
        "id": "_ZB1RLv823k1",
        "colab": {
          "base_uri": "https://localhost:8080/"
        },
        "outputId": "2d2cda3d-9a1b-4c3a-8451-66f2447f0645"
      },
      "outputs": [
        {
          "output_type": "stream",
          "name": "stdout",
          "text": [
            "    PassengerId  Survived  Pclass                            Name   Sex   Age  \\\n",
            "0             1         0       3         Braund, Mr. Owen Harris  male  22.0   \n",
            "4             5         0       3        Allen, Mr. William Henry  male  35.0   \n",
            "5             6         0       3                Moran, Mr. James  male   NaN   \n",
            "6             7         0       1         McCarthy, Mr. Timothy J  male  54.0   \n",
            "7             8         0       3  Palsson, Master. Gosta Leonard  male   2.0   \n",
            "12           13         0       3  Saundercock, Mr. William Henry  male  20.0   \n",
            "13           14         0       3     Andersson, Mr. Anders Johan  male  39.0   \n",
            "16           17         0       3            Rice, Master. Eugene  male   2.0   \n",
            "17           18         1       2    Williams, Mr. Charles Eugene  male   NaN   \n",
            "20           21         0       2            Fynney, Mr. Joseph J  male  35.0   \n",
            "\n",
            "    SibSp  Parch     Ticket     Fare Cabin Embarked  \n",
            "0       1      0  A/5 21171   7.2500   NaN        S  \n",
            "4       0      0     373450   8.0500   NaN        S  \n",
            "5       0      0     330877   8.4583   NaN        Q  \n",
            "6       0      0      17463  51.8625   E46        S  \n",
            "7       3      1     349909  21.0750   NaN        S  \n",
            "12      0      0  A/5. 2151   8.0500   NaN        S  \n",
            "13      1      5     347082  31.2750   NaN        S  \n",
            "16      4      1     382652  29.1250   NaN        Q  \n",
            "17      0      0     244373  13.0000   NaN        S  \n",
            "20      0      0     239865  26.0000   NaN        S  \n"
          ]
        }
      ],
      "source": [
        "men = df.loc[df['Sex']=='male']\n",
        "print(men.head(10))"
      ]
    },
    {
      "cell_type": "code",
      "source": [
        "men_life=men.loc[:,'Survived']\n",
        "print(men_life)"
      ],
      "metadata": {
        "colab": {
          "base_uri": "https://localhost:8080/"
        },
        "id": "OLLxpt6qx8Ux",
        "outputId": "bf22fac6-3577-41b2-c52e-c09acec0ea7b"
      },
      "execution_count": 28,
      "outputs": [
        {
          "output_type": "stream",
          "name": "stdout",
          "text": [
            "0      0\n",
            "4      0\n",
            "5      0\n",
            "6      0\n",
            "7      0\n",
            "      ..\n",
            "883    0\n",
            "884    0\n",
            "886    0\n",
            "889    1\n",
            "890    0\n",
            "Name: Survived, Length: 577, dtype: int64\n"
          ]
        }
      ]
    },
    {
      "cell_type": "code",
      "source": [
        "quantity_men=men_life.loc[men_life==1].count()\n",
        "\n",
        "print('Количество выживших мужчин равно', quantity_men)"
      ],
      "metadata": {
        "colab": {
          "base_uri": "https://localhost:8080/"
        },
        "id": "MpAzW1D1x8PH",
        "outputId": "251b461f-808f-4e06-caea-496c1f8642df"
      },
      "execution_count": 29,
      "outputs": [
        {
          "output_type": "stream",
          "name": "stdout",
          "text": [
            "Количество выживших мужчин равно 109\n"
          ]
        }
      ]
    },
    {
      "cell_type": "code",
      "source": [
        "life = df.loc[:,'Survived']\n",
        "\n",
        "quantity_life = life.loc[life==1].count()\n",
        "\n",
        "print('Количество выживших равно', quantity_life)"
      ],
      "metadata": {
        "colab": {
          "base_uri": "https://localhost:8080/"
        },
        "id": "VmK04eRnx8Jq",
        "outputId": "1432521e-9a42-44c9-fe64-2f6288ae8713"
      },
      "execution_count": 30,
      "outputs": [
        {
          "output_type": "stream",
          "name": "stdout",
          "text": [
            "Количество выживших равно 342\n"
          ]
        }
      ]
    },
    {
      "cell_type": "code",
      "source": [
        "percent_life_men = quantity_men / quantity_life\n",
        "\n",
        "percent_life_women = quantity_women / quantity_life\n",
        "\n",
        "print('Соотношение выживших мужчин ко всем выжившим', round(percent_life_men, 1),'%')\n",
        "print('Соотношение выживших женщин ко всем выжившим', round(percent_life_women, 1),'%')"
      ],
      "metadata": {
        "colab": {
          "base_uri": "https://localhost:8080/"
        },
        "id": "n5kFMPDTx8EQ",
        "outputId": "8723bbda-9b97-4f1b-df2b-9635e6ff78cf"
      },
      "execution_count": null,
      "outputs": [
        {
          "output_type": "stream",
          "name": "stdout",
          "text": [
            "Соотношение выживших мужчин ко всем выжившим 0.3 %\n",
            "Соотношение выживших женщин ко всем выжившим 0.7 %\n"
          ]
        }
      ]
    },
    {
      "cell_type": "code",
      "source": [
        "people = life.count()\n",
        "print('Количество людей равно', people)"
      ],
      "metadata": {
        "colab": {
          "base_uri": "https://localhost:8080/"
        },
        "id": "cNV89CB-x7-w",
        "outputId": "73b6931c-1941-4285-95bf-f929aabebbe5"
      },
      "execution_count": 31,
      "outputs": [
        {
          "output_type": "stream",
          "name": "stdout",
          "text": [
            "Количество людей равно 891\n"
          ]
        }
      ]
    },
    {
      "cell_type": "code",
      "source": [
        "percent_life = quantity_life / people\n",
        "print('Соотношение выживших ко всем пассажирам', round(percent_life*100, 1),'%')"
      ],
      "metadata": {
        "colab": {
          "base_uri": "https://localhost:8080/"
        },
        "id": "IxNzfBLKx74q",
        "outputId": "10f99997-4c6f-489f-f88d-6d913c9deedc"
      },
      "execution_count": 32,
      "outputs": [
        {
          "output_type": "stream",
          "name": "stdout",
          "text": [
            "Соотношение выживших ко всем пассажирам 38.4 %\n"
          ]
        }
      ]
    },
    {
      "cell_type": "code",
      "source": [
        "percent_life_men_to_people = quantity_men / people\n",
        "\n",
        "percent_life_women_to_people = quantity_women / people\n",
        "\n",
        "print('Соотношение выживших мужчин ко всем пассажирам', round(percent_life_men_to_people*100, 1),'%')\n",
        "print('Соотношение выживших женщин ко всем пассажирам', round(percent_life_women_to_people*100, 1),'%')"
      ],
      "metadata": {
        "colab": {
          "base_uri": "https://localhost:8080/"
        },
        "id": "Gupih96mx7qk",
        "outputId": "75a368c0-1231-4d97-97e7-a10cca5d0f05"
      },
      "execution_count": 33,
      "outputs": [
        {
          "output_type": "stream",
          "name": "stdout",
          "text": [
            "Соотношение выживших мужчин ко всем пассажирам 12.2 %\n",
            "Соотношение выживших женщин ко всем пассажирам 26.2 %\n"
          ]
        }
      ]
    },
    {
      "cell_type": "code",
      "source": [
        "import pandas as pd\n",
        "\n",
        "df = pd.read_csv('Titanic.csv')\n",
        "\n",
        "women = df.loc[df['Sex']=='female']\n",
        "man = df.loc[df['Sex']=='male']\n",
        "\n",
        "women_life=women.loc[:,'Survived']\n",
        "men_life=men.loc[:,'Survived']\n",
        "\n",
        "quantity_women=women_life.loc[women_life==1].count()\n",
        "quantity_men=men_life.loc[men_life==1].count()\n",
        "\n",
        "fc = df.loc[df['Pclass']==1]\n",
        "\n",
        "w_fclass = fc.loc[fc['Sex']=='female']\n",
        "m_fclass = fc.loc[fc['Sex']=='male']\n",
        "\n",
        "w_life_fclass = w_fclass.loc[:,'Survived']\n",
        "m_life_fclass = m_fclass.loc[:,'Survived']\n",
        "\n",
        "quantity_women_fclass = w_life_fclass.loc[w_life_fclass==1].count()\n",
        "quantity_men_fclass = m_life_fclass.loc[m_life_fclass==1].count()\n",
        "\n",
        "print(\"Выжившие женщины первого класса: \", quantity_women_fclass)\n",
        "print(\"Выжившие мужчины первого класса: \", quantity_men_fclass)\n",
        "\n",
        "percent_w = quantity_women_fclass/people\n",
        "percent_m = quantity_men_fclass/people\n",
        "\n",
        "print('Соотношение процента выживших мужчин из первого класса ко всем выжившим', round(percent_w*100,1),'%')\n",
        "print('Соотношение процента выживших женщин из первого класса ко всем выжившим', round(percent_m*100,1),'%')"
      ],
      "metadata": {
        "colab": {
          "base_uri": "https://localhost:8080/"
        },
        "id": "L1u_io1bGb3x",
        "outputId": "62e45a0d-4960-43a2-a6b6-63dc931d97ac"
      },
      "execution_count": 42,
      "outputs": [
        {
          "output_type": "stream",
          "name": "stdout",
          "text": [
            "Выжившие женщины первого класса:  91\n",
            "Выжившие женщины первого класса:  45\n",
            "Соотношение процента выживших мужчин из первого класса ко всем выжившим 10.2 %\n",
            "Соотношение процента выживших женщин из первого класса ко всем выжившим 5.1 %\n"
          ]
        }
      ]
    }
  ],
  "metadata": {
    "kernelspec": {
      "display_name": "Python 3 (ipykernel)",
      "language": "python",
      "name": "python3"
    },
    "language_info": {
      "codemirror_mode": {
        "name": "ipython",
        "version": 3
      },
      "file_extension": ".py",
      "mimetype": "text/x-python",
      "name": "python",
      "nbconvert_exporter": "python",
      "pygments_lexer": "ipython3",
      "version": "3.9.12"
    },
    "colab": {
      "provenance": [],
      "include_colab_link": true
    }
  },
  "nbformat": 4,
  "nbformat_minor": 0
}