{
  "cells": [
    {
      "cell_type": "markdown",
      "metadata": {
        "id": "view-in-github",
        "colab_type": "text"
      },
      "source": [
        "<a href=\"https://colab.research.google.com/github/noviytrendASU/123123/blob/main/Kashirov_laba0.ipynb\" target=\"_parent\"><img src=\"https://colab.research.google.com/assets/colab-badge.svg\" alt=\"Open In Colab\"/></a>"
      ]
    },
    {
      "cell_type": "code",
      "execution_count": null,
      "metadata": {
        "id": "5zWEC4O7z6Gv"
      },
      "outputs": [],
      "source": [
        "import pandas as pd"
      ]
    },
    {
      "cell_type": "code",
      "execution_count": null,
      "metadata": {
        "id": "KWINTcUrz6Gw"
      },
      "outputs": [],
      "source": [
        "atlas = ['Франция', 'Париж'], ['Россия', 'Москва'], ['Китай', 'Пекин'], ['Мексика', 'Мехико'], ['Египет', 'Каир']"
      ]
    },
    {
      "cell_type": "code",
      "execution_count": null,
      "metadata": {
        "id": "t3kuDhagz6Gw"
      },
      "outputs": [],
      "source": [
        "geography = ['country', 'capital']"
      ]
    },
    {
      "cell_type": "code",
      "execution_count": null,
      "metadata": {
        "id": "LO4cUxxOz6Gw"
      },
      "outputs": [],
      "source": [
        "world=pd.DataFrame(data=atlas, columns=geography)"
      ]
    },
    {
      "cell_type": "code",
      "execution_count": null,
      "metadata": {
        "colab": {
          "base_uri": "https://localhost:8080/",
          "height": 206
        },
        "id": "pouYLnfQz6Gw",
        "outputId": "aed93886-1f15-4816-c1f3-a93687da9506"
      },
      "outputs": [
        {
          "output_type": "execute_result",
          "data": {
            "text/plain": [
              "   country capital\n",
              "0  Франция   Париж\n",
              "1   Россия  Москва\n",
              "2    Китай   Пекин\n",
              "3  Мексика  Мехико\n",
              "4   Египет    Каир"
            ],
            "text/html": [
              "\n",
              "  <div id=\"df-72c2b8ec-65ae-497d-856d-e2d03798313f\" class=\"colab-df-container\">\n",
              "    <div>\n",
              "<style scoped>\n",
              "    .dataframe tbody tr th:only-of-type {\n",
              "        vertical-align: middle;\n",
              "    }\n",
              "\n",
              "    .dataframe tbody tr th {\n",
              "        vertical-align: top;\n",
              "    }\n",
              "\n",
              "    .dataframe thead th {\n",
              "        text-align: right;\n",
              "    }\n",
              "</style>\n",
              "<table border=\"1\" class=\"dataframe\">\n",
              "  <thead>\n",
              "    <tr style=\"text-align: right;\">\n",
              "      <th></th>\n",
              "      <th>country</th>\n",
              "      <th>capital</th>\n",
              "    </tr>\n",
              "  </thead>\n",
              "  <tbody>\n",
              "    <tr>\n",
              "      <th>0</th>\n",
              "      <td>Франция</td>\n",
              "      <td>Париж</td>\n",
              "    </tr>\n",
              "    <tr>\n",
              "      <th>1</th>\n",
              "      <td>Россия</td>\n",
              "      <td>Москва</td>\n",
              "    </tr>\n",
              "    <tr>\n",
              "      <th>2</th>\n",
              "      <td>Китай</td>\n",
              "      <td>Пекин</td>\n",
              "    </tr>\n",
              "    <tr>\n",
              "      <th>3</th>\n",
              "      <td>Мексика</td>\n",
              "      <td>Мехико</td>\n",
              "    </tr>\n",
              "    <tr>\n",
              "      <th>4</th>\n",
              "      <td>Египет</td>\n",
              "      <td>Каир</td>\n",
              "    </tr>\n",
              "  </tbody>\n",
              "</table>\n",
              "</div>\n",
              "    <div class=\"colab-df-buttons\">\n",
              "\n",
              "  <div class=\"colab-df-container\">\n",
              "    <button class=\"colab-df-convert\" onclick=\"convertToInteractive('df-72c2b8ec-65ae-497d-856d-e2d03798313f')\"\n",
              "            title=\"Convert this dataframe to an interactive table.\"\n",
              "            style=\"display:none;\">\n",
              "\n",
              "  <svg xmlns=\"http://www.w3.org/2000/svg\" height=\"24px\" viewBox=\"0 -960 960 960\">\n",
              "    <path d=\"M120-120v-720h720v720H120Zm60-500h600v-160H180v160Zm220 220h160v-160H400v160Zm0 220h160v-160H400v160ZM180-400h160v-160H180v160Zm440 0h160v-160H620v160ZM180-180h160v-160H180v160Zm440 0h160v-160H620v160Z\"/>\n",
              "  </svg>\n",
              "    </button>\n",
              "\n",
              "  <style>\n",
              "    .colab-df-container {\n",
              "      display:flex;\n",
              "      gap: 12px;\n",
              "    }\n",
              "\n",
              "    .colab-df-convert {\n",
              "      background-color: #E8F0FE;\n",
              "      border: none;\n",
              "      border-radius: 50%;\n",
              "      cursor: pointer;\n",
              "      display: none;\n",
              "      fill: #1967D2;\n",
              "      height: 32px;\n",
              "      padding: 0 0 0 0;\n",
              "      width: 32px;\n",
              "    }\n",
              "\n",
              "    .colab-df-convert:hover {\n",
              "      background-color: #E2EBFA;\n",
              "      box-shadow: 0px 1px 2px rgba(60, 64, 67, 0.3), 0px 1px 3px 1px rgba(60, 64, 67, 0.15);\n",
              "      fill: #174EA6;\n",
              "    }\n",
              "\n",
              "    .colab-df-buttons div {\n",
              "      margin-bottom: 4px;\n",
              "    }\n",
              "\n",
              "    [theme=dark] .colab-df-convert {\n",
              "      background-color: #3B4455;\n",
              "      fill: #D2E3FC;\n",
              "    }\n",
              "\n",
              "    [theme=dark] .colab-df-convert:hover {\n",
              "      background-color: #434B5C;\n",
              "      box-shadow: 0px 1px 3px 1px rgba(0, 0, 0, 0.15);\n",
              "      filter: drop-shadow(0px 1px 2px rgba(0, 0, 0, 0.3));\n",
              "      fill: #FFFFFF;\n",
              "    }\n",
              "  </style>\n",
              "\n",
              "    <script>\n",
              "      const buttonEl =\n",
              "        document.querySelector('#df-72c2b8ec-65ae-497d-856d-e2d03798313f button.colab-df-convert');\n",
              "      buttonEl.style.display =\n",
              "        google.colab.kernel.accessAllowed ? 'block' : 'none';\n",
              "\n",
              "      async function convertToInteractive(key) {\n",
              "        const element = document.querySelector('#df-72c2b8ec-65ae-497d-856d-e2d03798313f');\n",
              "        const dataTable =\n",
              "          await google.colab.kernel.invokeFunction('convertToInteractive',\n",
              "                                                    [key], {});\n",
              "        if (!dataTable) return;\n",
              "\n",
              "        const docLinkHtml = 'Like what you see? Visit the ' +\n",
              "          '<a target=\"_blank\" href=https://colab.research.google.com/notebooks/data_table.ipynb>data table notebook</a>'\n",
              "          + ' to learn more about interactive tables.';\n",
              "        element.innerHTML = '';\n",
              "        dataTable['output_type'] = 'display_data';\n",
              "        await google.colab.output.renderOutput(dataTable, element);\n",
              "        const docLink = document.createElement('div');\n",
              "        docLink.innerHTML = docLinkHtml;\n",
              "        element.appendChild(docLink);\n",
              "      }\n",
              "    </script>\n",
              "  </div>\n",
              "\n",
              "\n",
              "<div id=\"df-05199309-ac65-4b1e-8224-77e9bfeb836a\">\n",
              "  <button class=\"colab-df-quickchart\" onclick=\"quickchart('df-05199309-ac65-4b1e-8224-77e9bfeb836a')\"\n",
              "            title=\"Suggest charts\"\n",
              "            style=\"display:none;\">\n",
              "\n",
              "<svg xmlns=\"http://www.w3.org/2000/svg\" height=\"24px\"viewBox=\"0 0 24 24\"\n",
              "     width=\"24px\">\n",
              "    <g>\n",
              "        <path d=\"M19 3H5c-1.1 0-2 .9-2 2v14c0 1.1.9 2 2 2h14c1.1 0 2-.9 2-2V5c0-1.1-.9-2-2-2zM9 17H7v-7h2v7zm4 0h-2V7h2v10zm4 0h-2v-4h2v4z\"/>\n",
              "    </g>\n",
              "</svg>\n",
              "  </button>\n",
              "\n",
              "<style>\n",
              "  .colab-df-quickchart {\n",
              "      --bg-color: #E8F0FE;\n",
              "      --fill-color: #1967D2;\n",
              "      --hover-bg-color: #E2EBFA;\n",
              "      --hover-fill-color: #174EA6;\n",
              "      --disabled-fill-color: #AAA;\n",
              "      --disabled-bg-color: #DDD;\n",
              "  }\n",
              "\n",
              "  [theme=dark] .colab-df-quickchart {\n",
              "      --bg-color: #3B4455;\n",
              "      --fill-color: #D2E3FC;\n",
              "      --hover-bg-color: #434B5C;\n",
              "      --hover-fill-color: #FFFFFF;\n",
              "      --disabled-bg-color: #3B4455;\n",
              "      --disabled-fill-color: #666;\n",
              "  }\n",
              "\n",
              "  .colab-df-quickchart {\n",
              "    background-color: var(--bg-color);\n",
              "    border: none;\n",
              "    border-radius: 50%;\n",
              "    cursor: pointer;\n",
              "    display: none;\n",
              "    fill: var(--fill-color);\n",
              "    height: 32px;\n",
              "    padding: 0;\n",
              "    width: 32px;\n",
              "  }\n",
              "\n",
              "  .colab-df-quickchart:hover {\n",
              "    background-color: var(--hover-bg-color);\n",
              "    box-shadow: 0 1px 2px rgba(60, 64, 67, 0.3), 0 1px 3px 1px rgba(60, 64, 67, 0.15);\n",
              "    fill: var(--button-hover-fill-color);\n",
              "  }\n",
              "\n",
              "  .colab-df-quickchart-complete:disabled,\n",
              "  .colab-df-quickchart-complete:disabled:hover {\n",
              "    background-color: var(--disabled-bg-color);\n",
              "    fill: var(--disabled-fill-color);\n",
              "    box-shadow: none;\n",
              "  }\n",
              "\n",
              "  .colab-df-spinner {\n",
              "    border: 2px solid var(--fill-color);\n",
              "    border-color: transparent;\n",
              "    border-bottom-color: var(--fill-color);\n",
              "    animation:\n",
              "      spin 1s steps(1) infinite;\n",
              "  }\n",
              "\n",
              "  @keyframes spin {\n",
              "    0% {\n",
              "      border-color: transparent;\n",
              "      border-bottom-color: var(--fill-color);\n",
              "      border-left-color: var(--fill-color);\n",
              "    }\n",
              "    20% {\n",
              "      border-color: transparent;\n",
              "      border-left-color: var(--fill-color);\n",
              "      border-top-color: var(--fill-color);\n",
              "    }\n",
              "    30% {\n",
              "      border-color: transparent;\n",
              "      border-left-color: var(--fill-color);\n",
              "      border-top-color: var(--fill-color);\n",
              "      border-right-color: var(--fill-color);\n",
              "    }\n",
              "    40% {\n",
              "      border-color: transparent;\n",
              "      border-right-color: var(--fill-color);\n",
              "      border-top-color: var(--fill-color);\n",
              "    }\n",
              "    60% {\n",
              "      border-color: transparent;\n",
              "      border-right-color: var(--fill-color);\n",
              "    }\n",
              "    80% {\n",
              "      border-color: transparent;\n",
              "      border-right-color: var(--fill-color);\n",
              "      border-bottom-color: var(--fill-color);\n",
              "    }\n",
              "    90% {\n",
              "      border-color: transparent;\n",
              "      border-bottom-color: var(--fill-color);\n",
              "    }\n",
              "  }\n",
              "</style>\n",
              "\n",
              "  <script>\n",
              "    async function quickchart(key) {\n",
              "      const quickchartButtonEl =\n",
              "        document.querySelector('#' + key + ' button');\n",
              "      quickchartButtonEl.disabled = true;  // To prevent multiple clicks.\n",
              "      quickchartButtonEl.classList.add('colab-df-spinner');\n",
              "      try {\n",
              "        const charts = await google.colab.kernel.invokeFunction(\n",
              "            'suggestCharts', [key], {});\n",
              "      } catch (error) {\n",
              "        console.error('Error during call to suggestCharts:', error);\n",
              "      }\n",
              "      quickchartButtonEl.classList.remove('colab-df-spinner');\n",
              "      quickchartButtonEl.classList.add('colab-df-quickchart-complete');\n",
              "    }\n",
              "    (() => {\n",
              "      let quickchartButtonEl =\n",
              "        document.querySelector('#df-05199309-ac65-4b1e-8224-77e9bfeb836a button');\n",
              "      quickchartButtonEl.style.display =\n",
              "        google.colab.kernel.accessAllowed ? 'block' : 'none';\n",
              "    })();\n",
              "  </script>\n",
              "</div>\n",
              "    </div>\n",
              "  </div>\n"
            ],
            "application/vnd.google.colaboratory.intrinsic+json": {
              "type": "dataframe",
              "variable_name": "world",
              "summary": "{\n  \"name\": \"world\",\n  \"rows\": 5,\n  \"fields\": [\n    {\n      \"column\": \"country\",\n      \"properties\": {\n        \"dtype\": \"string\",\n        \"num_unique_values\": 5,\n        \"samples\": [\n          \"\\u0420\\u043e\\u0441\\u0441\\u0438\\u044f\",\n          \"\\u0415\\u0433\\u0438\\u043f\\u0435\\u0442\",\n          \"\\u041a\\u0438\\u0442\\u0430\\u0439\"\n        ],\n        \"semantic_type\": \"\",\n        \"description\": \"\"\n      }\n    },\n    {\n      \"column\": \"capital\",\n      \"properties\": {\n        \"dtype\": \"string\",\n        \"num_unique_values\": 5,\n        \"samples\": [\n          \"\\u041c\\u043e\\u0441\\u043a\\u0432\\u0430\",\n          \"\\u041a\\u0430\\u0438\\u0440\",\n          \"\\u041f\\u0435\\u043a\\u0438\\u043d\"\n        ],\n        \"semantic_type\": \"\",\n        \"description\": \"\"\n      }\n    }\n  ]\n}"
            }
          },
          "metadata": {},
          "execution_count": 15
        }
      ],
      "source": [
        "world"
      ]
    },
    {
      "cell_type": "markdown",
      "metadata": {
        "id": "VhsY7Cc1z6Gw"
      },
      "source": [
        "## **Задача 1. Приветствие**"
      ]
    },
    {
      "cell_type": "markdown",
      "metadata": {
        "id": "imPVogXGvT_u"
      },
      "source": [
        "На вход программе подается строка текста – имя человека.\n",
        "\n",
        " Напишите программу, которая выводит на экран приветствие в виде слова «Привет, » (без кавычек), после которого должна стоять запятая и пробел, а затем введенное имя.\n",
        "\n",
        " Для считывания текста используйте команду input(), для печати текста на экране используйте команду print().\n",
        "\n",
        "**Пример:**\n",
        "\n",
        " ввод данных: Екатерина\n",
        "\n",
        " вывод данных: Привет, Екатерина"
      ]
    },
    {
      "cell_type": "code",
      "execution_count": null,
      "metadata": {
        "id": "NqyhA4iJ3Vtt",
        "colab": {
          "base_uri": "https://localhost:8080/"
        },
        "outputId": "60b1bf12-37d6-4707-d223-d625318377f7"
      },
      "outputs": [
        {
          "output_type": "stream",
          "name": "stdout",
          "text": [
            "Екатерина\n",
            "Привет, Екатерина\n"
          ]
        }
      ],
      "source": [
        "a = input()\n",
        "b = print(\"Привет,\", a)"
      ]
    },
    {
      "cell_type": "markdown",
      "metadata": {
        "id": "8qENl25N1Y0x"
      },
      "source": [
        "## **Задача 2. Право доступа**"
      ]
    },
    {
      "cell_type": "markdown",
      "metadata": {
        "id": "qqqrqrZ34q7y"
      },
      "source": [
        "На вход программе подаётся целое число — возраст пользователя. Программа должна вывести текст:\n",
        "*   «Доступ разрешен», если возраст не менее 18;\n",
        "*   «Доступ ограничен», если возраст от 14 до 17 лет (включительно);\n",
        "*   «Доступ запрещен», если возраст менее 14 лет.\n",
        "\n",
        "Для считывания возраста используйте команду input(), не забыв преобразовать тип данных в числовой с помощью int(); для печати текста на экране используйте команду print(). Используйте условные операторы if-elif-else.\n",
        "\n",
        "**Пример:**\n",
        "\n",
        " ввод данных: 17\n",
        "\n",
        " вывод данных: Доступ ограничен"
      ]
    },
    {
      "cell_type": "markdown",
      "source": [],
      "metadata": {
        "id": "RBf4iKXM7CFG"
      }
    },
    {
      "cell_type": "code",
      "execution_count": null,
      "metadata": {
        "id": "rpLC73vi3WeU",
        "colab": {
          "base_uri": "https://localhost:8080/"
        },
        "outputId": "d32c378f-a1a0-4af3-e4fe-96d8a6fbda76"
      },
      "outputs": [
        {
          "output_type": "stream",
          "name": "stdout",
          "text": [
            "11\n",
            "Доступ запрещён\n"
          ]
        }
      ],
      "source": [
        "a = int(input())\n",
        "if a > 18:\n",
        "  print(\"Доступ разрешён\")\n",
        "elif a > 14 and a <= 17:\n",
        "  print(\"Доступ ограничен\")\n",
        "else:\n",
        "  print(\"Доступ запрещён\")"
      ]
    },
    {
      "cell_type": "markdown",
      "metadata": {
        "id": "37D1iZ-46T9f"
      },
      "source": [
        "## **Задача 3. Повторение**"
      ]
    },
    {
      "cell_type": "markdown",
      "metadata": {
        "id": "kXRx-gtU6p2n"
      },
      "source": [
        "На вход программе подаётся:\n",
        "*   на первой строке - текстовое предложение;\n",
        "*   на второй строке - количество повторений (целое число).\n",
        "\n",
        "Напишите программу, которая выводит предложение нужное количество раз (каждое предложение должно начинаться с новой строки).\n",
        "\n",
        "Для считывания текста и числа повторений используйте команду input(), не забыв преобразовать тип данных в числовой с помощью int() для количества повторений; для печати текста на экране используйте команду print(). Используйте цикл for.\n",
        "\n",
        "**Пример:**\n",
        "\n",
        " ввод данных:\n",
        "*   Век живи - век учись!\n",
        "*   3\n",
        "\n",
        "вывод данных:\n",
        "\n",
        "Век живи - век учись!\n",
        "\n",
        "Век живи - век учись!\n",
        "\n",
        "Век живи - век учись!"
      ]
    },
    {
      "cell_type": "code",
      "execution_count": null,
      "metadata": {
        "id": "I3MQolV33Xb9",
        "colab": {
          "base_uri": "https://localhost:8080/"
        },
        "outputId": "4771ba91-d55a-4fb8-d492-8ad2b222dae8"
      },
      "outputs": [
        {
          "output_type": "stream",
          "name": "stdout",
          "text": [
            "Век живи - век учись!\n",
            "3\n",
            "\n",
            "Век живи - век учись! \n",
            "Век живи - век учись! \n",
            "Век живи - век учись!\n"
          ]
        }
      ],
      "source": [
        "p=input()\n",
        "print(*[f'\\n{p}' for i in range(int(input()))])"
      ]
    },
    {
      "cell_type": "markdown",
      "metadata": {
        "id": "hHKa8Y2j81kp"
      },
      "source": [
        "## **Задача 4. Повторение 2**"
      ]
    },
    {
      "cell_type": "markdown",
      "metadata": {
        "id": "vd60Ri5h-2d9"
      },
      "source": [
        "Реализуйте задачу 3 через цикл while."
      ]
    },
    {
      "cell_type": "code",
      "execution_count": null,
      "metadata": {
        "id": "xN1sosvL3X70",
        "colab": {
          "base_uri": "https://localhost:8080/"
        },
        "outputId": "d421e682-17be-42ef-c83c-86154bdfae69"
      },
      "outputs": [
        {
          "output_type": "stream",
          "name": "stdout",
          "text": [
            "Сколько раз повторять: 3\n",
            "Век живи - век учись!\n",
            "Век живи - век учись!\n",
            "Век живи - век учись!\n"
          ]
        }
      ],
      "source": [
        "num = int(input('Количество повторов: '))\n",
        "i = 1\n",
        "while i<=num:\n",
        "    i+=1\n",
        "    print(\"Век живи - век учись!\")"
      ]
    },
    {
      "cell_type": "markdown",
      "metadata": {
        "id": "wFjCdbAQBCSg"
      },
      "source": [
        "## **Задача 5. ФИО**"
      ]
    },
    {
      "cell_type": "markdown",
      "metadata": {
        "id": "pkaL_HadBH3z"
      },
      "source": [
        "Напишите функцию print_fio(name, surname, patronymic), которая принимает три параметра:\n",
        "*   name – имя человека;\n",
        "*   surname – фамилия человека;\n",
        "*   patronymic – отчество человека;\n",
        "\n",
        "а затем выводит на печать ФИО человека (на одной строке, только первые буквы в порядке surname-name-patronymic).\n",
        "\n",
        "Добавьте комментарий перед каждым этапом:\n",
        "\n",
        "*   #объявление функции\n",
        "> def print_fio(name, surname, patronymic)\n",
        "*   #ввод данных\n",
        "> name, surname, patronymic =\n",
        "*   #вызов функции\n",
        "> print_fio(name, surname, patronymic)\n",
        "\n",
        "Для считывания текста используйте команду input(); для печати текста на экране используйте команду print(), добавив параметр sep='' для печати на одной строке. Используйте def для объявления функции.\n",
        "\n",
        "**Пример:**\n",
        "\n",
        " ввод данных:\n",
        "*   Иван\n",
        "*   Сидоров\n",
        "*   Петрович\n",
        "\n",
        "вывод данных: СИП"
      ]
    },
    {
      "cell_type": "code",
      "execution_count": null,
      "metadata": {
        "id": "OsNHQU6K3Y3E",
        "colab": {
          "base_uri": "https://localhost:8080/"
        },
        "outputId": "332713c9-4707-4365-8b54-2cfa694e2a12"
      },
      "outputs": [
        {
          "output_type": "stream",
          "name": "stdout",
          "text": [
            "Иван\n",
            "Сидоров\n",
            "Петрович\n",
            "СИП\n"
          ]
        }
      ],
      "source": [
        "def print_fio(name, surname, patronymic):\n",
        "    full_name = (surname[0] + name[0] + patronymic[0]).upper()\n",
        "    print(full_name)\n",
        "name, surname, patronymic = input(), input(), input()\n",
        "print_fio(name, surname, patronymic)"
      ]
    },
    {
      "cell_type": "markdown",
      "metadata": {
        "id": "cCeC21NMFM_w"
      },
      "source": [
        "## **Задача 6. Первая таблица**"
      ]
    },
    {
      "cell_type": "markdown",
      "metadata": {
        "id": "BFyYI5dtFUmf"
      },
      "source": [
        "Импортируйте библиотеку pandas с именем pd. Скопируйте словарь, у которого в качестве ключей - столбцы таблицы, а в качестве значений в списках - данные таблицы:\n",
        "> data = {'col 1': ['Я', 'Python', 'Буду'], 'col 2': ['люблю', 'мой', 'стараться'], 'col 3': ['анализ', 'лучший', 'хорошо'], 'col 4': ['данных', 'друг', 'учиться']}\n",
        "\n",
        "Создайте таблицу, скопировав следующий код:\n",
        "> df = pd.DataFrame(data)\n",
        "\n",
        "где df - имя таблицы, pd.DataFrame() - конструктор таблицы, data - словарь.\n",
        "\n",
        "Выведите таблицу через print() либо просто ее вызовом без print().\n",
        "\n",
        "\n"
      ]
    },
    {
      "cell_type": "code",
      "execution_count": null,
      "metadata": {
        "id": "NcORHQCE3ZSU",
        "colab": {
          "base_uri": "https://localhost:8080/"
        },
        "outputId": "bcbe3c01-2f74-4533-de61-b538ae5d519d"
      },
      "outputs": [
        {
          "output_type": "stream",
          "name": "stdout",
          "text": [
            "    col 1      col 2   col 3    col 4\n",
            "0       Я      люблю  анализ   данных\n",
            "1  Python        мой  лучший     друг\n",
            "2    Буду  стараться  хорошо  учиться\n"
          ]
        }
      ],
      "source": [
        "data = {'col 1': ['Я', 'Python', 'Буду'], 'col 2': ['люблю', 'мой', 'стараться'], 'col 3': ['анализ', 'лучший', 'хорошо'], 'col 4': ['данных', 'друг', 'учиться']}\n",
        "df = pd.DataFrame(data)\n",
        "print(df)"
      ]
    }
  ],
  "metadata": {
    "colab": {
      "provenance": [],
      "include_colab_link": true
    },
    "kernelspec": {
      "display_name": "Python 3 (ipykernel)",
      "language": "python",
      "name": "python3"
    },
    "language_info": {
      "codemirror_mode": {
        "name": "ipython",
        "version": 3
      },
      "file_extension": ".py",
      "mimetype": "text/x-python",
      "name": "python",
      "nbconvert_exporter": "python",
      "pygments_lexer": "ipython3",
      "version": "3.8.2"
    }
  },
  "nbformat": 4,
  "nbformat_minor": 0
}